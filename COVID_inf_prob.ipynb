{
  "nbformat": 4,
  "nbformat_minor": 0,
  "metadata": {
    "colab": {
      "name": "COVID inf_prob.ipynb",
      "provenance": []
    },
    "kernelspec": {
      "name": "python3",
      "display_name": "Python 3"
    }
  },
  "cells": [
    {
      "cell_type": "code",
      "metadata": {
        "id": "0aFWi7shq8ED",
        "colab_type": "code",
        "outputId": "d4d61463-424e-4382-9e64-6bdab8fe9a78",
        "colab": {
          "base_uri": "https://localhost:8080/",
          "height": 102
        }
      },
      "source": [
        "!pip install sklearn"
      ],
      "execution_count": 1,
      "outputs": [
        {
          "output_type": "stream",
          "text": [
            "Requirement already satisfied: sklearn in /usr/local/lib/python3.6/dist-packages (0.0)\n",
            "Requirement already satisfied: scikit-learn in /usr/local/lib/python3.6/dist-packages (from sklearn) (0.22.2.post1)\n",
            "Requirement already satisfied: numpy>=1.11.0 in /usr/local/lib/python3.6/dist-packages (from scikit-learn->sklearn) (1.18.2)\n",
            "Requirement already satisfied: scipy>=0.17.0 in /usr/local/lib/python3.6/dist-packages (from scikit-learn->sklearn) (1.4.1)\n",
            "Requirement already satisfied: joblib>=0.11 in /usr/local/lib/python3.6/dist-packages (from scikit-learn->sklearn) (0.14.1)\n"
          ],
          "name": "stdout"
        }
      ]
    },
    {
      "cell_type": "code",
      "metadata": {
        "id": "n_Wh6e5LrK-f",
        "colab_type": "code",
        "colab": {}
      },
      "source": [
        "from __future__ import absolute_import, division, print_function, unicode_literals\n",
        "\n",
        "import os\n",
        "import sys\n",
        "\n",
        "import numpy as np\n",
        "import pandas as pd\n",
        "import matplotlib.pyplot as plt\n",
        "from IPython.display import clear_output\n",
        "from six.moves import urllib"
      ],
      "execution_count": 0,
      "outputs": []
    },
    {
      "cell_type": "code",
      "metadata": {
        "id": "9UYDZkyG1dp9",
        "colab_type": "code",
        "colab": {}
      },
      "source": [
        "from sklearn.model_selection import train_test_split"
      ],
      "execution_count": 0,
      "outputs": []
    },
    {
      "cell_type": "code",
      "metadata": {
        "id": "NhXgM-41rTfh",
        "colab_type": "code",
        "outputId": "2019d89d-45ec-4686-94a1-bd74d137fffe",
        "colab": {
          "base_uri": "https://localhost:8080/",
          "height": 34
        }
      },
      "source": [
        "try:\n",
        "  # %tensorflow_version only exists in Colab.\n",
        "  %tensorflow_version 2.x\n",
        "except Exception:\n",
        "  pass\n",
        "import tensorflow.compat.v2.feature_column as fc\n",
        "\n",
        "import tensorflow as tf"
      ],
      "execution_count": 4,
      "outputs": [
        {
          "output_type": "stream",
          "text": [
            "TensorFlow 2.x selected.\n"
          ],
          "name": "stdout"
        }
      ]
    },
    {
      "cell_type": "code",
      "metadata": {
        "id": "h8eYk7rusgt_",
        "colab_type": "code",
        "colab": {}
      },
      "source": [
        "dftrain = pd.read_excel(io='https://github.com/ajtheb/COVID-inf_prob/blob/master/Train_dataset.xlsx?raw=true')\n",
        "dfeval = pd.read_excel(io='https://github.com/ajtheb/COVID-inf_prob/blob/master/Test_dataset.xlsx?raw=true')\n",
        "#y_train = dftrain.pop('Infect_Prob')\n"
      ],
      "execution_count": 0,
      "outputs": []
    },
    {
      "cell_type": "code",
      "metadata": {
        "id": "ptwZq21h1-X-",
        "colab_type": "code",
        "colab": {}
      },
      "source": [
        "#y_train.columns=['Infect_Prob']\n",
        "#y_train.head()\n",
        "\n",
        "dftrain['Infect_Prob'] = np.where(dftrain['Infect_Prob'] > 50.00, 1,0)\n"
      ],
      "execution_count": 0,
      "outputs": []
    },
    {
      "cell_type": "code",
      "metadata": {
        "id": "bJDPFa5U1Rzh",
        "colab_type": "code",
        "colab": {}
      },
      "source": [
        "dftrain,val = train_test_split(dftrain, test_size=0.2)"
      ],
      "execution_count": 0,
      "outputs": []
    },
    {
      "cell_type": "code",
      "metadata": {
        "id": "XCmeyJMmu0gZ",
        "colab_type": "code",
        "outputId": "37b3464e-60ad-44fb-cb4a-507e91e1d95c",
        "colab": {
          "base_uri": "https://localhost:8080/",
          "height": 286
        }
      },
      "source": [
        "dftrain.describe()"
      ],
      "execution_count": 8,
      "outputs": [
        {
          "output_type": "execute_result",
          "data": {
            "text/html": [
              "<div>\n",
              "<style scoped>\n",
              "    .dataframe tbody tr th:only-of-type {\n",
              "        vertical-align: middle;\n",
              "    }\n",
              "\n",
              "    .dataframe tbody tr th {\n",
              "        vertical-align: top;\n",
              "    }\n",
              "\n",
              "    .dataframe thead th {\n",
              "        text-align: right;\n",
              "    }\n",
              "</style>\n",
              "<table border=\"1\" class=\"dataframe\">\n",
              "  <thead>\n",
              "    <tr style=\"text-align: right;\">\n",
              "      <th></th>\n",
              "      <th>people_ID</th>\n",
              "      <th>Children</th>\n",
              "      <th>cases/1M</th>\n",
              "      <th>Deaths/1M</th>\n",
              "      <th>Age</th>\n",
              "      <th>Coma score</th>\n",
              "      <th>Diuresis</th>\n",
              "      <th>Platelets</th>\n",
              "      <th>HBB</th>\n",
              "      <th>d-dimer</th>\n",
              "      <th>Heart rate</th>\n",
              "      <th>HDL cholesterol</th>\n",
              "      <th>Charlson Index</th>\n",
              "      <th>Blood Glucose</th>\n",
              "      <th>Insurance</th>\n",
              "      <th>salary</th>\n",
              "      <th>FT/month</th>\n",
              "      <th>Infect_Prob</th>\n",
              "    </tr>\n",
              "  </thead>\n",
              "  <tbody>\n",
              "    <tr>\n",
              "      <th>count</th>\n",
              "      <td>8571.000000</td>\n",
              "      <td>8331.000000</td>\n",
              "      <td>8571.000000</td>\n",
              "      <td>8571.000000</td>\n",
              "      <td>8571.000000</td>\n",
              "      <td>8571.000000</td>\n",
              "      <td>7999.000000</td>\n",
              "      <td>7832.000000</td>\n",
              "      <td>8556.000000</td>\n",
              "      <td>7682.000000</td>\n",
              "      <td>7682.000000</td>\n",
              "      <td>8543.000000</td>\n",
              "      <td>8571.000000</td>\n",
              "      <td>8571.000000</td>\n",
              "      <td>7.702000e+03</td>\n",
              "      <td>8.571000e+03</td>\n",
              "      <td>7994.000000</td>\n",
              "      <td>8571.000000</td>\n",
              "    </tr>\n",
              "    <tr>\n",
              "      <th>mean</th>\n",
              "      <td>10081.381869</td>\n",
              "      <td>1.057856</td>\n",
              "      <td>3.275347</td>\n",
              "      <td>0.521059</td>\n",
              "      <td>42.208960</td>\n",
              "      <td>9.029868</td>\n",
              "      <td>278.730091</td>\n",
              "      <td>87.828779</td>\n",
              "      <td>116.866526</td>\n",
              "      <td>275.517834</td>\n",
              "      <td>74.695782</td>\n",
              "      <td>52.703734</td>\n",
              "      <td>20.013534</td>\n",
              "      <td>5.018901</td>\n",
              "      <td>2.643612e+06</td>\n",
              "      <td>1.308132e+06</td>\n",
              "      <td>1.003503</td>\n",
              "      <td>0.383853</td>\n",
              "    </tr>\n",
              "    <tr>\n",
              "      <th>std</th>\n",
              "      <td>7099.295897</td>\n",
              "      <td>0.820075</td>\n",
              "      <td>2.713985</td>\n",
              "      <td>0.851860</td>\n",
              "      <td>15.319814</td>\n",
              "      <td>3.725818</td>\n",
              "      <td>98.038039</td>\n",
              "      <td>41.747481</td>\n",
              "      <td>55.213162</td>\n",
              "      <td>43.697639</td>\n",
              "      <td>14.810921</td>\n",
              "      <td>10.456100</td>\n",
              "      <td>11.866490</td>\n",
              "      <td>1.394812</td>\n",
              "      <td>1.379994e+06</td>\n",
              "      <td>6.077008e+05</td>\n",
              "      <td>0.815365</td>\n",
              "      <td>0.486351</td>\n",
              "    </tr>\n",
              "    <tr>\n",
              "      <th>min</th>\n",
              "      <td>1.000000</td>\n",
              "      <td>0.000000</td>\n",
              "      <td>1.000000</td>\n",
              "      <td>0.000000</td>\n",
              "      <td>16.000000</td>\n",
              "      <td>3.000000</td>\n",
              "      <td>110.000000</td>\n",
              "      <td>15.000000</td>\n",
              "      <td>20.000000</td>\n",
              "      <td>200.000000</td>\n",
              "      <td>50.000000</td>\n",
              "      <td>35.000000</td>\n",
              "      <td>0.000000</td>\n",
              "      <td>3.000000</td>\n",
              "      <td>3.000000e+05</td>\n",
              "      <td>3.000000e+05</td>\n",
              "      <td>0.000000</td>\n",
              "      <td>0.000000</td>\n",
              "    </tr>\n",
              "    <tr>\n",
              "      <th>25%</th>\n",
              "      <td>2698.500000</td>\n",
              "      <td>0.000000</td>\n",
              "      <td>2.000000</td>\n",
              "      <td>0.000000</td>\n",
              "      <td>29.000000</td>\n",
              "      <td>6.000000</td>\n",
              "      <td>194.000000</td>\n",
              "      <td>52.000000</td>\n",
              "      <td>70.000000</td>\n",
              "      <td>237.000000</td>\n",
              "      <td>62.000000</td>\n",
              "      <td>44.000000</td>\n",
              "      <td>10.000000</td>\n",
              "      <td>4.000000</td>\n",
              "      <td>1.400000e+06</td>\n",
              "      <td>8.000000e+05</td>\n",
              "      <td>0.000000</td>\n",
              "      <td>0.000000</td>\n",
              "    </tr>\n",
              "    <tr>\n",
              "      <th>50%</th>\n",
              "      <td>10011.000000</td>\n",
              "      <td>1.000000</td>\n",
              "      <td>2.000000</td>\n",
              "      <td>0.000000</td>\n",
              "      <td>42.000000</td>\n",
              "      <td>9.000000</td>\n",
              "      <td>276.000000</td>\n",
              "      <td>88.500000</td>\n",
              "      <td>117.000000</td>\n",
              "      <td>276.000000</td>\n",
              "      <td>75.000000</td>\n",
              "      <td>53.000000</td>\n",
              "      <td>20.000000</td>\n",
              "      <td>5.000000</td>\n",
              "      <td>2.600000e+06</td>\n",
              "      <td>1.300000e+06</td>\n",
              "      <td>1.000000</td>\n",
              "      <td>0.000000</td>\n",
              "    </tr>\n",
              "    <tr>\n",
              "      <th>75%</th>\n",
              "      <td>15156.000000</td>\n",
              "      <td>2.000000</td>\n",
              "      <td>4.000000</td>\n",
              "      <td>1.000000</td>\n",
              "      <td>56.000000</td>\n",
              "      <td>12.000000</td>\n",
              "      <td>365.000000</td>\n",
              "      <td>124.000000</td>\n",
              "      <td>165.000000</td>\n",
              "      <td>313.000000</td>\n",
              "      <td>88.000000</td>\n",
              "      <td>62.000000</td>\n",
              "      <td>30.000000</td>\n",
              "      <td>6.000000</td>\n",
              "      <td>3.800000e+06</td>\n",
              "      <td>1.800000e+06</td>\n",
              "      <td>2.000000</td>\n",
              "      <td>1.000000</td>\n",
              "    </tr>\n",
              "    <tr>\n",
              "      <th>max</th>\n",
              "      <td>22694.000000</td>\n",
              "      <td>2.000000</td>\n",
              "      <td>8.000000</td>\n",
              "      <td>2.000000</td>\n",
              "      <td>68.000000</td>\n",
              "      <td>15.000000</td>\n",
              "      <td>450.000000</td>\n",
              "      <td>160.000000</td>\n",
              "      <td>210.000000</td>\n",
              "      <td>350.000000</td>\n",
              "      <td>100.000000</td>\n",
              "      <td>70.000000</td>\n",
              "      <td>40.000000</td>\n",
              "      <td>7.000000</td>\n",
              "      <td>5.000000e+06</td>\n",
              "      <td>2.300000e+06</td>\n",
              "      <td>2.000000</td>\n",
              "      <td>1.000000</td>\n",
              "    </tr>\n",
              "  </tbody>\n",
              "</table>\n",
              "</div>"
            ],
            "text/plain": [
              "          people_ID     Children  ...     FT/month  Infect_Prob\n",
              "count   8571.000000  8331.000000  ...  7994.000000  8571.000000\n",
              "mean   10081.381869     1.057856  ...     1.003503     0.383853\n",
              "std     7099.295897     0.820075  ...     0.815365     0.486351\n",
              "min        1.000000     0.000000  ...     0.000000     0.000000\n",
              "25%     2698.500000     0.000000  ...     0.000000     0.000000\n",
              "50%    10011.000000     1.000000  ...     1.000000     0.000000\n",
              "75%    15156.000000     2.000000  ...     2.000000     1.000000\n",
              "max    22694.000000     2.000000  ...     2.000000     1.000000\n",
              "\n",
              "[8 rows x 18 columns]"
            ]
          },
          "metadata": {
            "tags": []
          },
          "execution_count": 8
        }
      ]
    },
    {
      "cell_type": "code",
      "metadata": {
        "id": "m0IjMbpFWwdB",
        "colab_type": "code",
        "outputId": "8d64fcec-3338-462e-943d-8dd23df4a986",
        "colab": {
          "base_uri": "https://localhost:8080/",
          "height": 580
        }
      },
      "source": [
        "dftrain.info()"
      ],
      "execution_count": 9,
      "outputs": [
        {
          "output_type": "stream",
          "text": [
            "<class 'pandas.core.frame.DataFrame'>\n",
            "Int64Index: 8571 entries, 10083 to 4664\n",
            "Data columns (total 28 columns):\n",
            "people_ID                 8571 non-null int64\n",
            "Region                    8571 non-null object\n",
            "Gender                    8571 non-null object\n",
            "Designation               8571 non-null object\n",
            "Name                      8555 non-null object\n",
            "Married                   8571 non-null object\n",
            "Children                  8331 non-null float64\n",
            "Occupation                7982 non-null object\n",
            "Mode_transport            8568 non-null object\n",
            "cases/1M                  8571 non-null int64\n",
            "Deaths/1M                 8571 non-null int64\n",
            "comorbidity               8385 non-null object\n",
            "Age                       8571 non-null int64\n",
            "Coma score                8571 non-null int64\n",
            "Pulmonary score           8571 non-null object\n",
            "cardiological pressure    8489 non-null object\n",
            "Diuresis                  7999 non-null float64\n",
            "Platelets                 7832 non-null float64\n",
            "HBB                       8556 non-null float64\n",
            "d-dimer                   7682 non-null float64\n",
            "Heart rate                7682 non-null float64\n",
            "HDL cholesterol           8543 non-null float64\n",
            "Charlson Index            8571 non-null int64\n",
            "Blood Glucose             8571 non-null int64\n",
            "Insurance                 7702 non-null float64\n",
            "salary                    8571 non-null int64\n",
            "FT/month                  7994 non-null float64\n",
            "Infect_Prob               8571 non-null int64\n",
            "dtypes: float64(9), int64(9), object(10)\n",
            "memory usage: 1.9+ MB\n"
          ],
          "name": "stdout"
        }
      ]
    },
    {
      "cell_type": "code",
      "metadata": {
        "id": "iZRomMU_vAH-",
        "colab_type": "code",
        "colab": {}
      },
      "source": [
        "#if required \n",
        "#dftrain['salary']=(dftrain['salary']-dftrain['salary'].mean())/dftrain['salary'].std()\n",
        "dftrain['Insurance']=(dftrain['Insurance']-dftrain['Insurance'].mean())/dftrain['Insurance'].std()"
      ],
      "execution_count": 0,
      "outputs": []
    },
    {
      "cell_type": "code",
      "metadata": {
        "id": "4Ez6U_E297OH",
        "colab_type": "code",
        "outputId": "a1cc03b0-e442-4e0a-8556-6af33a749a98",
        "colab": {
          "base_uri": "https://localhost:8080/",
          "height": 319
        }
      },
      "source": [
        "dftrain.head()"
      ],
      "execution_count": 0,
      "outputs": [
        {
          "output_type": "execute_result",
          "data": {
            "text/html": [
              "<div>\n",
              "<style scoped>\n",
              "    .dataframe tbody tr th:only-of-type {\n",
              "        vertical-align: middle;\n",
              "    }\n",
              "\n",
              "    .dataframe tbody tr th {\n",
              "        vertical-align: top;\n",
              "    }\n",
              "\n",
              "    .dataframe thead th {\n",
              "        text-align: right;\n",
              "    }\n",
              "</style>\n",
              "<table border=\"1\" class=\"dataframe\">\n",
              "  <thead>\n",
              "    <tr style=\"text-align: right;\">\n",
              "      <th></th>\n",
              "      <th>people_ID</th>\n",
              "      <th>Region</th>\n",
              "      <th>Gender</th>\n",
              "      <th>Designation</th>\n",
              "      <th>Name</th>\n",
              "      <th>Married</th>\n",
              "      <th>Children</th>\n",
              "      <th>Occupation</th>\n",
              "      <th>Mode_transport</th>\n",
              "      <th>cases/1M</th>\n",
              "      <th>Deaths/1M</th>\n",
              "      <th>comorbidity</th>\n",
              "      <th>Age</th>\n",
              "      <th>Coma_score</th>\n",
              "      <th>Pulmonary_score</th>\n",
              "      <th>cardiological_pressure</th>\n",
              "      <th>Diuresis</th>\n",
              "      <th>Platelets</th>\n",
              "      <th>HBB</th>\n",
              "      <th>d-dimer</th>\n",
              "      <th>Heart_rate</th>\n",
              "      <th>HDL_cholesterol</th>\n",
              "      <th>Charlson_Index</th>\n",
              "      <th>Blood_Glucose</th>\n",
              "      <th>Insurance</th>\n",
              "      <th>salary</th>\n",
              "      <th>FT/month</th>\n",
              "      <th>Infect_Prob</th>\n",
              "    </tr>\n",
              "  </thead>\n",
              "  <tbody>\n",
              "    <tr>\n",
              "      <th>79</th>\n",
              "      <td>80</td>\n",
              "      <td>Bhubaneshwar</td>\n",
              "      <td>Female</td>\n",
              "      <td>Mrs</td>\n",
              "      <td>bilke khatoon</td>\n",
              "      <td>YES</td>\n",
              "      <td>1.0</td>\n",
              "      <td>Sales</td>\n",
              "      <td>Public</td>\n",
              "      <td>2</td>\n",
              "      <td>0</td>\n",
              "      <td>None</td>\n",
              "      <td>40</td>\n",
              "      <td>11</td>\n",
              "      <td>&lt;100</td>\n",
              "      <td>Stage-02</td>\n",
              "      <td>272.0</td>\n",
              "      <td>23.0</td>\n",
              "      <td>167.0</td>\n",
              "      <td>306.0</td>\n",
              "      <td>82.0</td>\n",
              "      <td>45.0</td>\n",
              "      <td>16</td>\n",
              "      <td>5</td>\n",
              "      <td>900000.0</td>\n",
              "      <td>500000</td>\n",
              "      <td>0.0</td>\n",
              "      <td>0</td>\n",
              "    </tr>\n",
              "    <tr>\n",
              "      <th>8191</th>\n",
              "      <td>15298</td>\n",
              "      <td>Chennai</td>\n",
              "      <td>Male</td>\n",
              "      <td>Mr</td>\n",
              "      <td>affan</td>\n",
              "      <td>YES</td>\n",
              "      <td>1.0</td>\n",
              "      <td>Business</td>\n",
              "      <td>Public</td>\n",
              "      <td>1</td>\n",
              "      <td>0</td>\n",
              "      <td>None</td>\n",
              "      <td>36</td>\n",
              "      <td>4</td>\n",
              "      <td>&lt;100</td>\n",
              "      <td>Stage-02</td>\n",
              "      <td>260.0</td>\n",
              "      <td>83.0</td>\n",
              "      <td>91.0</td>\n",
              "      <td>247.0</td>\n",
              "      <td>85.0</td>\n",
              "      <td>44.0</td>\n",
              "      <td>19</td>\n",
              "      <td>6</td>\n",
              "      <td>1700000.0</td>\n",
              "      <td>2300000</td>\n",
              "      <td>1.0</td>\n",
              "      <td>0</td>\n",
              "    </tr>\n",
              "    <tr>\n",
              "      <th>1607</th>\n",
              "      <td>1608</td>\n",
              "      <td>Chandigarh</td>\n",
              "      <td>Female</td>\n",
              "      <td>Mrs</td>\n",
              "      <td>smt tara devi</td>\n",
              "      <td>NO</td>\n",
              "      <td>1.0</td>\n",
              "      <td>NaN</td>\n",
              "      <td>Walk</td>\n",
              "      <td>2</td>\n",
              "      <td>0</td>\n",
              "      <td>Hypertension</td>\n",
              "      <td>17</td>\n",
              "      <td>6</td>\n",
              "      <td>&lt;100</td>\n",
              "      <td>Stage-02</td>\n",
              "      <td>149.0</td>\n",
              "      <td>18.0</td>\n",
              "      <td>40.0</td>\n",
              "      <td>253.0</td>\n",
              "      <td>96.0</td>\n",
              "      <td>42.0</td>\n",
              "      <td>16</td>\n",
              "      <td>7</td>\n",
              "      <td>2600000.0</td>\n",
              "      <td>1300000</td>\n",
              "      <td>0.0</td>\n",
              "      <td>1</td>\n",
              "    </tr>\n",
              "    <tr>\n",
              "      <th>10192</th>\n",
              "      <td>22174</td>\n",
              "      <td>Bengaluru</td>\n",
              "      <td>Male</td>\n",
              "      <td>Mr</td>\n",
              "      <td>pramod shrama</td>\n",
              "      <td>YES</td>\n",
              "      <td>0.0</td>\n",
              "      <td>Researcher</td>\n",
              "      <td>Walk</td>\n",
              "      <td>8</td>\n",
              "      <td>2</td>\n",
              "      <td>Coronary Heart Disease</td>\n",
              "      <td>37</td>\n",
              "      <td>15</td>\n",
              "      <td>&lt;200</td>\n",
              "      <td>Stage-01</td>\n",
              "      <td>133.0</td>\n",
              "      <td>132.0</td>\n",
              "      <td>165.0</td>\n",
              "      <td>205.0</td>\n",
              "      <td>67.0</td>\n",
              "      <td>66.0</td>\n",
              "      <td>5</td>\n",
              "      <td>7</td>\n",
              "      <td>2800000.0</td>\n",
              "      <td>1700000</td>\n",
              "      <td>1.0</td>\n",
              "      <td>0</td>\n",
              "    </tr>\n",
              "    <tr>\n",
              "      <th>5882</th>\n",
              "      <td>12989</td>\n",
              "      <td>Bhubaneshwar</td>\n",
              "      <td>Male</td>\n",
              "      <td>Mr</td>\n",
              "      <td>subhash mulla</td>\n",
              "      <td>YES</td>\n",
              "      <td>1.0</td>\n",
              "      <td>Sales</td>\n",
              "      <td>Car</td>\n",
              "      <td>2</td>\n",
              "      <td>0</td>\n",
              "      <td>Diabetes</td>\n",
              "      <td>39</td>\n",
              "      <td>11</td>\n",
              "      <td>&lt;400</td>\n",
              "      <td>Normal</td>\n",
              "      <td>353.0</td>\n",
              "      <td>39.0</td>\n",
              "      <td>127.0</td>\n",
              "      <td>237.0</td>\n",
              "      <td>53.0</td>\n",
              "      <td>66.0</td>\n",
              "      <td>4</td>\n",
              "      <td>7</td>\n",
              "      <td>3600000.0</td>\n",
              "      <td>1000000</td>\n",
              "      <td>2.0</td>\n",
              "      <td>0</td>\n",
              "    </tr>\n",
              "  </tbody>\n",
              "</table>\n",
              "</div>"
            ],
            "text/plain": [
              "       people_ID        Region  Gender  ...   salary FT/month Infect_Prob\n",
              "79            80  Bhubaneshwar  Female  ...   500000      0.0           0\n",
              "8191       15298       Chennai    Male  ...  2300000      1.0           0\n",
              "1607        1608    Chandigarh  Female  ...  1300000      0.0           1\n",
              "10192      22174     Bengaluru    Male  ...  1700000      1.0           0\n",
              "5882       12989  Bhubaneshwar    Male  ...  1000000      2.0           0\n",
              "\n",
              "[5 rows x 28 columns]"
            ]
          },
          "metadata": {
            "tags": []
          },
          "execution_count": 130
        }
      ]
    },
    {
      "cell_type": "code",
      "metadata": {
        "id": "ZklTRSjU-eci",
        "colab_type": "code",
        "outputId": "5ea7ee08-f568-460f-8cde-34eea81264d2",
        "colab": {
          "base_uri": "https://localhost:8080/",
          "height": 34
        }
      },
      "source": [
        "dftrain.shape[0], dfeval.shape[0]\n",
        "np.any(np.isnan())"
      ],
      "execution_count": 0,
      "outputs": [
        {
          "output_type": "execute_result",
          "data": {
            "text/plain": [
              "(8571, 14498)"
            ]
          },
          "metadata": {
            "tags": []
          },
          "execution_count": 361
        }
      ]
    },
    {
      "cell_type": "code",
      "metadata": {
        "id": "tDzC5F36-iug",
        "colab_type": "code",
        "colab": {}
      },
      "source": [
        "pd.concat([dftrain, y_train], axis=1).groupby('Region').Infect_Prob.mean().plot(kind='barh').set_xlabel('% infect chance')"
      ],
      "execution_count": 0,
      "outputs": []
    },
    {
      "cell_type": "code",
      "metadata": {
        "id": "VukIIMqT-55B",
        "colab_type": "code",
        "colab": {}
      },
      "source": [
        "pd.concat([dftrain, y_train], axis=1).groupby('Gender').Infect_Prob.mean().plot(kind='barh').set_xlabel('% infect chance')"
      ],
      "execution_count": 0,
      "outputs": []
    },
    {
      "cell_type": "code",
      "metadata": {
        "id": "L1NG8OYBRMo5",
        "colab_type": "code",
        "colab": {}
      },
      "source": [
        "pd.concat([dftrain, y_train], axis=1).groupby('Gender').Infect_Prob.mean().plot(kind='barh').set_xlabel('% infect chance')"
      ],
      "execution_count": 0,
      "outputs": []
    },
    {
      "cell_type": "code",
      "metadata": {
        "id": "pVdmXs1D_B3Y",
        "colab_type": "code",
        "colab": {}
      },
      "source": [
        "pd.concat([dftrain, y_train], axis=1).groupby('Occupation').Infect_Prob.mean().plot(kind='barh').set_xlabel('% infect chance')"
      ],
      "execution_count": 0,
      "outputs": []
    },
    {
      "cell_type": "code",
      "metadata": {
        "id": "iuUNY4EvA2To",
        "colab_type": "code",
        "colab": {}
      },
      "source": [
        "pd.concat([dftrain, y_train], axis=1).groupby('Mode_transport').Infect_Prob.mean().plot(kind='barh').set_xlabel('% infect chance')"
      ],
      "execution_count": 0,
      "outputs": []
    },
    {
      "cell_type": "code",
      "metadata": {
        "id": "mvMWff3wRdG6",
        "colab_type": "code",
        "outputId": "088284a4-19c8-4cfb-ccf1-0f3770dba526",
        "colab": {
          "base_uri": "https://localhost:8080/",
          "height": 296
        }
      },
      "source": [
        "dftrain.groupby('salary')['Infect_Prob'].mean().plot(kind='barh').set_xlabel('% infect chance')"
      ],
      "execution_count": 0,
      "outputs": [
        {
          "output_type": "execute_result",
          "data": {
            "text/plain": [
              "Text(0.5, 0, '% infect chance')"
            ]
          },
          "metadata": {
            "tags": []
          },
          "execution_count": 329
        },
        {
          "output_type": "display_data",
          "data": {
            "image/png": "[encoded data removed]",
            "text/plain": [
              "<Figure size 432x288 with 1 Axes>"
            ]
          },
          "metadata": {
            "tags": []
          }
        }
      ]
    },
    {
      "cell_type": "code",
      "metadata": {
        "id": "NNY8K4M7Uc0h",
        "colab_type": "code",
        "outputId": "ccf8c88a-a45c-406e-aa1c-93d242d5f0bc",
        "colab": {
          "base_uri": "https://localhost:8080/",
          "height": 432
        }
      },
      "source": [
        "dftrain.groupby(['comorbidity','Charlson_Index'])['Infect_Prob'].mean().plot(kind='bar').set_xlabel('% infect chance')"
      ],
      "execution_count": 0,
      "outputs": [
        {
          "output_type": "execute_result",
          "data": {
            "text/plain": [
              "Text(0.5, 0, '% infect chance')"
            ]
          },
          "metadata": {
            "tags": []
          },
          "execution_count": 381
        },
        {
          "output_type": "display_data",
          "data": {
            "image/png": "[encoded data removed]",
            "text/plain": [
              "<Figure size 432x288 with 1 Axes>"
            ]
          },
          "metadata": {
            "tags": []
          }
        }
      ]
    },
    {
      "cell_type": "code",
      "metadata": {
        "id": "FuWeHQbMeC6h",
        "colab_type": "code",
        "colab": {}
      },
      "source": [
        "dftrain.groupby('HBB')['Infect_Prob'].mean().plot(kind='bar').set_xlabel('% infect chance')"
      ],
      "execution_count": 0,
      "outputs": []
    },
    {
      "cell_type": "code",
      "metadata": {
        "id": "386VCSwu8P8G",
        "colab_type": "code",
        "colab": {}
      },
      "source": [
        "#not req\n",
        "y_train=dftrain.pop('Infect_Prob')"
      ],
      "execution_count": 0,
      "outputs": []
    },
    {
      "cell_type": "code",
      "metadata": {
        "id": "ng1v2qfA80Se",
        "colab_type": "code",
        "colab": {}
      },
      "source": [
        "dftrain.rename(columns = {'Coma score':'Coma_score', 'Pulmonary score':'Pulmonary_score', 'cardiological pressure':'cardiological_pressure','Heart rate':'Heart_rate','HDL cholesterol':'HDL_cholesterol','Charlson Index':'Charlson_Index','Blood Glucose':'Blood_Glucose'}, inplace = True)\n",
        "val.rename(columns = {'Coma score':'Coma_score', 'Pulmonary score':'Pulmonary_score', 'cardiological pressure':'cardiological_pressure','Heart rate':'Heart_rate','HDL cholesterol':'HDL_cholesterol','Charlson Index':'Charlson_Index','Blood Glucose':'Blood_Glucose'}, inplace = True)"
      ],
      "execution_count": 0,
      "outputs": []
    },
    {
      "cell_type": "code",
      "metadata": {
        "id": "rYNN9aPj2Y4k",
        "colab_type": "code",
        "colab": {}
      },
      "source": [
        "val['Mode_transport'].fillna('',inplace=True)\n",
        "val['Occupation'].fillna('',inplace=True)\n",
        "val['comorbidity'].fillna('',inplace=True)\n",
        "val['Name'].fillna('',inplace=True)\n",
        "val['Region'].fillna('',inplace=True)\n",
        "val['Pulmonary_score'].fillna('',inplace=True)\n",
        "val['cardiological_pressure'].fillna('',inplace=True)"
      ],
      "execution_count": 0,
      "outputs": []
    },
    {
      "cell_type": "code",
      "metadata": {
        "id": "40rfHU3DQDvK",
        "colab_type": "code",
        "colab": {}
      },
      "source": [
        "df = pd.get_dummies(dftrain)\n",
        "np.any(np.isnan(df))"
      ],
      "execution_count": 0,
      "outputs": []
    },
    {
      "cell_type": "code",
      "metadata": {
        "id": "2Q_JJsam8LXU",
        "colab_type": "code",
        "outputId": "331ffaef-3bc5-4dce-e9d0-ac5d1e3938a9",
        "colab": {
          "base_uri": "https://localhost:8080/",
          "height": 136
        }
      },
      "source": [
        "dftrain.head()\n",
        "print(dftrain.columns)"
      ],
      "execution_count": 0,
      "outputs": [
        {
          "output_type": "stream",
          "text": [
            "Index(['people_ID', 'Region', 'Gender', 'Designation', 'Name', 'Married',\n",
            "       'Children', 'Occupation', 'Mode_transport', 'cases/1M', 'Deaths/1M',\n",
            "       'comorbidity', 'Age', 'Coma_score', 'Pulmonary_score',\n",
            "       'cardiological_pressure', 'Diuresis', 'Platelets', 'HBB', 'd-dimer',\n",
            "       'Heart_rate', 'HDL_cholesterol', 'Charlson_Index', 'Blood_Glucose',\n",
            "       'Insurance', 'salary', 'FT/month', 'Infect_Prob'],\n",
            "      dtype='object')\n"
          ],
          "name": "stdout"
        }
      ]
    },
    {
      "cell_type": "code",
      "metadata": {
        "id": "MBrULXzDCQYX",
        "colab_type": "code",
        "colab": {}
      },
      "source": [
        "dftrain['Name'].fillna('',inplace=True)"
      ],
      "execution_count": 0,
      "outputs": []
    },
    {
      "cell_type": "code",
      "metadata": {
        "id": "ISDd_BatXso1",
        "colab_type": "code",
        "colab": {}
      },
      "source": [
        "feat=['Children','Diuresis','Platelets','HBB','d-dimer','Heart_rate','HDL_cholesterol','Insurance','FT/month']\n",
        "for f in feat:\n",
        "  dftrain[f]=dftrain[f].astype(np.int64)\n",
        "  dftrain[f].fillna(dftrain[f].median(),inplace=True)\n",
        "  val[f].fillna(val[f].median(),inplace=True)"
      ],
      "execution_count": 0,
      "outputs": []
    },
    {
      "cell_type": "code",
      "metadata": {
        "id": "lSllv803T51l",
        "colab_type": "code",
        "colab": {}
      },
      "source": [
        "dftrain['Children'].astype(np.int64)"
      ],
      "execution_count": 0,
      "outputs": []
    },
    {
      "cell_type": "code",
      "metadata": {
        "id": "IIQHkPxqYmza",
        "colab_type": "code",
        "colab": {}
      },
      "source": [
        "dftrain.info()"
      ],
      "execution_count": 0,
      "outputs": []
    },
    {
      "cell_type": "code",
      "metadata": {
        "id": "tDT229_q4e1_",
        "colab_type": "code",
        "colab": {}
      },
      "source": [
        "CATEGORICAL_COLUMNS = ['Region','Pulmonary_score','cardiological_pressure','Married']\n",
        "NUMERIC_COLUMNS = ['Children','Age', 'Coma_score', 'Diuresis', 'Platelets', 'FT/month']\n",
        "def one_hot_cat_column(feature_name, vocab):\n",
        "  return tf.feature_column.indicator_column(\n",
        "      tf.feature_column.categorical_column_with_vocabulary_list(feature_name,vocab))\n",
        "feature_columns = []\n",
        "dftrain['Mode_transport'].fillna('',inplace=True)\n",
        "dftrain['Occupation'].fillna('',inplace=True)\n",
        "dftrain['comorbidity'].fillna('',inplace=True)\n",
        "for feature_name in CATEGORICAL_COLUMNS:\n",
        "  dftrain[feature_name].fillna('',inplace=True)\n",
        "  # Need to one-hot encode categorical features.\n",
        "  vocabulary = dftrain[feature_name].unique()\n",
        "  feature_columns.append(one_hot_cat_column(feature_name, vocabulary))\n",
        "for feature_name in NUMERIC_COLUMNS:\n",
        "  feature_columns.append(tf.feature_column.numeric_column(feature_name, dtype=tf.float32))\n",
        "\n",
        "Age=tf.feature_column.numeric_column('Age', dtype=tf.float32)\n",
        "age_buckets = tf.feature_column.bucketized_column(Age, boundaries=[16, 29, 30, 35, 40, 45, 50, 55, 60, 68])\n",
        "feature_columns.append(age_buckets)\n",
        "\n",
        "chld=tf.feature_column.numeric_column('Children', dtype=tf.float32)\n",
        "chld_buckets = tf.feature_column.bucketized_column(chld, boundaries=[0, 1, 2])\n",
        "feature_columns.append(chld_buckets)\n",
        "hr=tf.feature_column.numeric_column('Heart_rate', dtype=tf.float32)\n",
        "hr_b = tf.feature_column.bucketized_column(hr, boundaries=[50, 62,70,88,100])\n",
        "feature_columns.append(hr_b)\n",
        "\n",
        "drs=tf.feature_column.numeric_column('Diuresis', dtype=tf.float32)\n",
        "drs_b = tf.feature_column.bucketized_column(drs, boundaries=[110,194,200,276,364,450])\n",
        "feature_columns.append(drs_b)\n",
        "\n",
        "cix=tf.feature_column.numeric_column('Charlson_Index', dtype=tf.float32)\n",
        "cix_b = tf.feature_column.bucketized_column(cix, boundaries=[0,10,20,30,40])\n",
        "feature_columns.append(cix_b)\n",
        "#sal=tf.feature_column.numeric_column('salary', dtype=tf.float32)\n",
        "#sal_buckets = tf.feature_column.bucketized_column(sal, boundaries=[300000, 800000, 1000000, 1300000, 1500000, 1800000, 2000000, 2300000])\n",
        "#feature_columns.append(sal_buckets)\n",
        "\n",
        "vocab = dftrain['comorbidity'].unique()\n",
        "com=tf.feature_column.categorical_column_with_vocabulary_list('comorbidity',vocab)\n",
        "vocab = dftrain['Mode_transport'].unique()\n",
        "Mod_trans=tf.feature_column.categorical_column_with_vocabulary_list('Mode_transport',vocab)\n",
        "vocab = dftrain['Occupation'].unique()\n",
        "occ=tf.feature_column.categorical_column_with_vocabulary_list('Occupation',vocab)\n",
        "vocab = dftrain['cardiological_pressure'].unique()\n",
        "cp=tf.feature_column.categorical_column_with_vocabulary_list('cardiological_pressure',vocab)\n",
        "vocab = dftrain['Region'].unique()\n",
        "rg=tf.feature_column.categorical_column_with_vocabulary_list('Region',vocab)\n",
        "\n",
        "#crossed_feature = tf.feature_column.crossed_column([age_buckets, com], hash_bucket_size=1000)\n",
        "#crossed_feature = tf.feature_column.indicator_column(crossed_feature)\n",
        "#feature_columns.append(crossed_feature)\n",
        "\n",
        "crossed_feature3 = tf.feature_column.crossed_column([age_buckets,cp ], hash_bucket_size=1000)\n",
        "crossed_feature3 = tf.feature_column.indicator_column(crossed_feature3)\n",
        "feature_columns.append(crossed_feature3)\n",
        "crossed_feature1 = tf.feature_column.crossed_column([age_buckets, Mod_trans], hash_bucket_size=1000)\n",
        "crossed_feature1 = tf.feature_column.indicator_column(crossed_feature1)\n",
        "feature_columns.append(crossed_feature1)\n",
        "crossed_feature2 = tf.feature_column.crossed_column([Mod_trans,occ], hash_bucket_size=1000)\n",
        "crossed_feature2 = tf.feature_column.indicator_column(crossed_feature2)\n",
        "feature_columns.append(crossed_feature2)\n",
        "\n",
        "crossed_feature4 = tf.feature_column.crossed_column([rg,Mod_trans], hash_bucket_size=1000)\n",
        "crossed_feature4 = tf.feature_column.indicator_column(crossed_feature4)\n",
        "feature_columns.append(crossed_feature4)\n",
        "crossed_feature5 = tf.feature_column.crossed_column([hr_b,com], hash_bucket_size=1000)\n",
        "crossed_feature5 = tf.feature_column.indicator_column(crossed_feature5)\n",
        "feature_columns.append(crossed_feature5)\n",
        "\n",
        "crossed_feature6 = tf.feature_column.crossed_column([drs_b,com], hash_bucket_size=1000)\n",
        "crossed_feature6 = tf.feature_column.indicator_column(crossed_feature6)\n",
        "feature_columns.append(crossed_feature6)\n",
        "\n",
        "#crossed_feature7 = tf.feature_column.crossed_column([cp,com], hash_bucket_size=1000)\n",
        "#crossed_feature7 = tf.feature_column.indicator_column(crossed_feature7)\n",
        "#feature_columns.append(crossed_feature7)\n",
        "\n",
        "crossed_feature8 = tf.feature_column.crossed_column([cix_b,com], hash_bucket_size=1000)\n",
        "crossed_feature8 = tf.feature_column.indicator_column(crossed_feature8)\n",
        "feature_columns.append(crossed_feature8)"
      ],
      "execution_count": 0,
      "outputs": []
    },
    {
      "cell_type": "code",
      "metadata": {
        "id": "Qa7zINJBA34E",
        "colab_type": "code",
        "colab": {}
      },
      "source": [
        "def make_input_fn(data_df, label_df, num_epochs=10, shuffle=True, batch_size=32):\n",
        "  def input_function():\n",
        "    ds = tf.data.Dataset.from_tensor_slices((dict(data_df), label_df))\n",
        "    for ele in ds:\n",
        "      print(ele)\n",
        "    if shuffle:\n",
        "      ds = ds.shuffle(1000)\n",
        "    ds = ds.batch(batch_size).repeat(num_epochs)\n",
        "    return ds\n",
        "  return input_function\n",
        "\n",
        "train_input_fn = make_input_fn(dftrain, y_train)\n",
        "#eval_input_fn = make_input_fn(dfeval, y_eval, num_epochs=1, shuffle=False)"
      ],
      "execution_count": 0,
      "outputs": []
    },
    {
      "cell_type": "code",
      "metadata": {
        "id": "hnertlsyqreh",
        "colab_type": "code",
        "colab": {}
      },
      "source": [
        "def df_to_dataset(dataframe, shuffle_and_repeat=True, batch_size=10):\n",
        "  dataframe = dataframe.copy()\n",
        "  labels = dataframe.pop('Infect_Prob')\n",
        "  ds = tf.data.Dataset.from_tensor_slices((dict(dataframe), labels))\n",
        "  if shuffle_and_repeat:\n",
        "    ds = ds.shuffle(buffer_size=len(dataframe))\n",
        "    ds = ds.repeat()\n",
        "    \n",
        "  ds = ds.batch(batch_size)\n",
        "  \n",
        "  return ds\n"
      ],
      "execution_count": 0,
      "outputs": []
    },
    {
      "cell_type": "code",
      "metadata": {
        "id": "ioOguqHbA_Wj",
        "colab_type": "code",
        "colab": {}
      },
      "source": [
        "linear_est = tf.estimator.LinearClassifier(feature_columns=feature_columns)\n",
        "linear_est.train(input_fn=lambda: df_to_dataset(dftrain),steps=500)\n",
        "#result = linear_est.evaluate(eval_input_fn)\n",
        "\n",
        "#clear_output()\n",
        "#print(result)"
      ],
      "execution_count": 0,
      "outputs": []
    },
    {
      "cell_type": "code",
      "metadata": {
        "colab_type": "code",
        "outputId": "1e263405-ff29-4113-a8c8-b60997615113",
        "id": "2IkGULD1d8Mn",
        "colab": {
          "base_uri": "https://localhost:8080/",
          "height": 221
        }
      },
      "source": [
        "s=linear_est.evaluate(input_fn=lambda: df_to_dataset(val),steps=100)\n",
        "clear_output()\n",
        "print(pd.Series(s))"
      ],
      "execution_count": 0,
      "outputs": [
        {
          "output_type": "stream",
          "text": [
            "accuracy                  0.384000\n",
            "accuracy_baseline         0.616000\n",
            "auc                       0.500000\n",
            "auc_precision_recall      0.384000\n",
            "average_loss            819.136169\n",
            "label/mean                0.384000\n",
            "loss                    819.136230\n",
            "precision                 0.384000\n",
            "prediction/mean           1.000000\n",
            "recall                    1.000000\n",
            "global_step             500.000000\n",
            "dtype: float64\n"
          ],
          "name": "stdout"
        }
      ]
    },
    {
      "cell_type": "code",
      "metadata": {
        "id": "OXr2k9ucRGES",
        "colab_type": "code",
        "colab": {}
      },
      "source": [
        "tf.random.set_seed(13)"
      ],
      "execution_count": 0,
      "outputs": []
    },
    {
      "cell_type": "code",
      "metadata": {
        "id": "h-5KD4sZ4vxG",
        "colab_type": "code",
        "outputId": "d0d0b33e-a86a-434f-c125-e78a269c8e83",
        "colab": {
          "base_uri": "https://localhost:8080/",
          "height": 583
        }
      },
      "source": [
        "n_batches = 1\n",
        "est = tf.estimator.BoostedTreesClassifier(feature_columns,n_batches_per_layer=n_batches)\n",
        "\n",
        "# The model will stop training once the specified number of trees is built, not\n",
        "# based on the number of steps.\n",
        "est.train(input_fn=lambda: df_to_dataset(dftrain), max_steps=60)\n"
      ],
      "execution_count": 32,
      "outputs": [
        {
          "output_type": "stream",
          "text": [
            "INFO:tensorflow:Using default config.\n",
            "WARNING:tensorflow:Using temporary folder as model directory: /tmp/tmpmc3h_a5p\n",
            "INFO:tensorflow:Using config: {'_model_dir': '/tmp/tmpmc3h_a5p', '_tf_random_seed': None, '_save_summary_steps': 100, '_save_checkpoints_steps': None, '_save_checkpoints_secs': 600, '_session_config': allow_soft_placement: true\n",
            "graph_options {\n",
            "  rewrite_options {\n",
            "    meta_optimizer_iterations: ONE\n",
            "  }\n",
            "}\n",
            ", '_keep_checkpoint_max': 5, '_keep_checkpoint_every_n_hours': 10000, '_log_step_count_steps': 100, '_train_distribute': None, '_device_fn': None, '_protocol': None, '_eval_distribute': None, '_experimental_distribute': None, '_experimental_max_worker_delay_secs': None, '_session_creation_timeout_secs': 7200, '_service': None, '_cluster_spec': ClusterSpec({}), '_task_type': 'worker', '_task_id': 0, '_global_id_in_cluster': 0, '_master': '', '_evaluation_master': '', '_is_chief': True, '_num_ps_replicas': 0, '_num_worker_replicas': 1}\n",
            "INFO:tensorflow:Calling model_fn.\n",
            "INFO:tensorflow:Done calling model_fn.\n",
            "INFO:tensorflow:Create CheckpointSaverHook.\n",
            "WARNING:tensorflow:Issue encountered when serializing resources.\n",
            "Type is unsupported, or the types of the items don't match field type in CollectionDef. Note this is a warning and probably safe to ignore.\n",
            "'_Resource' object has no attribute 'name'\n",
            "INFO:tensorflow:Graph was finalized.\n",
            "INFO:tensorflow:Running local_init_op.\n",
            "INFO:tensorflow:Done running local_init_op.\n",
            "WARNING:tensorflow:Issue encountered when serializing resources.\n",
            "Type is unsupported, or the types of the items don't match field type in CollectionDef. Note this is a warning and probably safe to ignore.\n",
            "'_Resource' object has no attribute 'name'\n",
            "INFO:tensorflow:Saving checkpoints for 0 into /tmp/tmpmc3h_a5p/model.ckpt.\n",
            "WARNING:tensorflow:Issue encountered when serializing resources.\n",
            "Type is unsupported, or the types of the items don't match field type in CollectionDef. Note this is a warning and probably safe to ignore.\n",
            "'_Resource' object has no attribute 'name'\n",
            "INFO:tensorflow:loss = 0.6931472, step = 0\n",
            "INFO:tensorflow:Saving checkpoints for 60 into /tmp/tmpmc3h_a5p/model.ckpt.\n",
            "WARNING:tensorflow:Issue encountered when serializing resources.\n",
            "Type is unsupported, or the types of the items don't match field type in CollectionDef. Note this is a warning and probably safe to ignore.\n",
            "'_Resource' object has no attribute 'name'\n",
            "INFO:tensorflow:Loss for final step: 0.51452273.\n"
          ],
          "name": "stdout"
        },
        {
          "output_type": "execute_result",
          "data": {
            "text/plain": [
              "<tensorflow_estimator.python.estimator.canned.boosted_trees.BoostedTreesClassifier at 0x7ff38b77ba20>"
            ]
          },
          "metadata": {
            "tags": []
          },
          "execution_count": 32
        }
      ]
    },
    {
      "cell_type": "code",
      "metadata": {
        "id": "5vUPCk_TEqrH",
        "colab_type": "code",
        "outputId": "bd45b1cf-301d-4006-cdfd-1c552c6a2e96",
        "colab": {
          "base_uri": "https://localhost:8080/",
          "height": 221
        }
      },
      "source": [
        "s=est.evaluate(input_fn=lambda: df_to_dataset(val),steps=50)\n",
        "clear_output()\n",
        "print(pd.Series(s))"
      ],
      "execution_count": 33,
      "outputs": [
        {
          "output_type": "stream",
          "text": [
            "accuracy                 0.716000\n",
            "accuracy_baseline        0.612000\n",
            "auc                      0.815899\n",
            "auc_precision_recall     0.669721\n",
            "average_loss             0.527389\n",
            "label/mean               0.388000\n",
            "loss                     0.527389\n",
            "precision                0.703125\n",
            "prediction/mean          0.318375\n",
            "recall                   0.463918\n",
            "global_step             60.000000\n",
            "dtype: float64\n"
          ],
          "name": "stdout"
        }
      ]
    },
    {
      "cell_type": "code",
      "metadata": {
        "id": "5HqSfYIRddOp",
        "colab_type": "code",
        "outputId": "ebfc4b2b-0d99-41a9-8e3c-8013cf91536a",
        "colab": {
          "base_uri": "https://localhost:8080/",
          "height": 580
        }
      },
      "source": [
        "dfeval.info()"
      ],
      "execution_count": 0,
      "outputs": [
        {
          "output_type": "stream",
          "text": [
            "<class 'pandas.core.frame.DataFrame'>\n",
            "RangeIndex: 14498 entries, 0 to 14497\n",
            "Data columns (total 28 columns):\n",
            "people_ID                 14498 non-null int64\n",
            "Region                    14498 non-null object\n",
            "Gender                    14498 non-null object\n",
            "Designation               14498 non-null object\n",
            "Name                      14466 non-null object\n",
            "Married                   14498 non-null object\n",
            "Children                  14498 non-null int64\n",
            "Occupation                14498 non-null object\n",
            "Mode_transport            14498 non-null object\n",
            "cases/1M                  14498 non-null int64\n",
            "Deaths/1M                 14498 non-null int64\n",
            "comorbidity               14498 non-null object\n",
            "Age                       14498 non-null int64\n",
            "Coma score                14498 non-null int64\n",
            "Pulmonary score           14498 non-null object\n",
            "cardiological pressure    14498 non-null object\n",
            "Diuresis                  14498 non-null int64\n",
            "Platelets                 14498 non-null int64\n",
            "HBB                       14498 non-null int64\n",
            "d-dimer                   14498 non-null int64\n",
            "Heart rate                14498 non-null int64\n",
            "HDL cholesterol           14498 non-null int64\n",
            "Charlson Index            14498 non-null int64\n",
            "Blood Glucose             14498 non-null int64\n",
            "Insurance                 14498 non-null int64\n",
            "salary                    14498 non-null int64\n",
            "FT/month                  14498 non-null int64\n",
            "Infect_Prob               14498 non-null int64\n",
            "dtypes: int64(18), object(10)\n",
            "memory usage: 3.1+ MB\n"
          ],
          "name": "stdout"
        }
      ]
    },
    {
      "cell_type": "code",
      "metadata": {
        "id": "UbDAAX3UPb1m",
        "colab_type": "code",
        "outputId": "ec597ec0-1021-4c2d-bb4e-c986fbccb2c7",
        "colab": {
          "base_uri": "https://localhost:8080/",
          "height": 119
        }
      },
      "source": [
        "dfeval['Infect_Prob']=0\n",
        "#dfeval.head()\n",
        "#dfeval.info()\n",
        "#dftrain.info()\n",
        "#eval_input_fn=df_to_dataset(dfeval,False)\n",
        "dfeval['Name'].fillna('',inplace=True)\n",
        "dfeval.rename(columns = {'Coma score':'Coma_score', 'Pulmonary score':'Pulmonary_score', 'cardiological pressure':'cardiological_pressure','Heart rate':'Heart_rate','HDL cholesterol':'HDL_cholesterol','Charlson Index':'Charlson_Index','Blood Glucose':'Blood_Glucose'}, inplace = True)\n",
        "pred_dicts = list(est.predict(input_fn=lambda: df_to_dataset(dfeval,False)))\n"
      ],
      "execution_count": 0,
      "outputs": [
        {
          "output_type": "stream",
          "text": [
            "INFO:tensorflow:Calling model_fn.\n",
            "INFO:tensorflow:Done calling model_fn.\n",
            "INFO:tensorflow:Graph was finalized.\n",
            "INFO:tensorflow:Restoring parameters from /tmp/tmpgsumzj4o/model.ckpt-60\n",
            "INFO:tensorflow:Running local_init_op.\n",
            "INFO:tensorflow:Done running local_init_op.\n"
          ],
          "name": "stdout"
        }
      ]
    },
    {
      "cell_type": "code",
      "metadata": {
        "id": "rpqKtCfcf_gy",
        "colab_type": "code",
        "colab": {}
      },
      "source": [
        "pid=list(dfeval['people_ID'])"
      ],
      "execution_count": 0,
      "outputs": []
    },
    {
      "cell_type": "code",
      "metadata": {
        "id": "ix6cMqE3g1Sc",
        "colab_type": "code",
        "colab": {}
      },
      "source": [
        "pid"
      ],
      "execution_count": 0,
      "outputs": []
    },
    {
      "cell_type": "code",
      "metadata": {
        "id": "-Xd-Y5RReO7D",
        "colab_type": "code",
        "colab": {}
      },
      "source": [
        "res=pd.DataFrame(pred_dicts)\n",
        "prob=list(res['probabilities'])\n",
        "pr=[]\n",
        "for l in prob:\n",
        "  pr.append(l[0])\n",
        "df = pd.DataFrame(list(zip(pid, pr)), \n",
        "               columns =['people_ID', 'infect_prob']) "
      ],
      "execution_count": 0,
      "outputs": []
    },
    {
      "cell_type": "code",
      "metadata": {
        "id": "HRSyob88qF4c",
        "colab_type": "code",
        "outputId": "48618a38-6c7c-4caa-e362-13598ef6d970",
        "colab": {
          "base_uri": "https://localhost:8080/",
          "height": 405
        }
      },
      "source": [
        "df"
      ],
      "execution_count": 0,
      "outputs": [
        {
          "output_type": "execute_result",
          "data": {
            "text/html": [
              "<div>\n",
              "<style scoped>\n",
              "    .dataframe tbody tr th:only-of-type {\n",
              "        vertical-align: middle;\n",
              "    }\n",
              "\n",
              "    .dataframe tbody tr th {\n",
              "        vertical-align: top;\n",
              "    }\n",
              "\n",
              "    .dataframe thead th {\n",
              "        text-align: right;\n",
              "    }\n",
              "</style>\n",
              "<table border=\"1\" class=\"dataframe\">\n",
              "  <thead>\n",
              "    <tr style=\"text-align: right;\">\n",
              "      <th></th>\n",
              "      <th>people_ID</th>\n",
              "      <th>infect_prob</th>\n",
              "    </tr>\n",
              "  </thead>\n",
              "  <tbody>\n",
              "    <tr>\n",
              "      <th>0</th>\n",
              "      <td>5942</td>\n",
              "      <td>0.561212</td>\n",
              "    </tr>\n",
              "    <tr>\n",
              "      <th>1</th>\n",
              "      <td>18664</td>\n",
              "      <td>0.653882</td>\n",
              "    </tr>\n",
              "    <tr>\n",
              "      <th>2</th>\n",
              "      <td>5603</td>\n",
              "      <td>0.440247</td>\n",
              "    </tr>\n",
              "    <tr>\n",
              "      <th>3</th>\n",
              "      <td>5649</td>\n",
              "      <td>0.201560</td>\n",
              "    </tr>\n",
              "    <tr>\n",
              "      <th>4</th>\n",
              "      <td>5099</td>\n",
              "      <td>0.663242</td>\n",
              "    </tr>\n",
              "    <tr>\n",
              "      <th>...</th>\n",
              "      <td>...</td>\n",
              "      <td>...</td>\n",
              "    </tr>\n",
              "    <tr>\n",
              "      <th>14493</th>\n",
              "      <td>23737</td>\n",
              "      <td>0.996928</td>\n",
              "    </tr>\n",
              "    <tr>\n",
              "      <th>14494</th>\n",
              "      <td>11171</td>\n",
              "      <td>0.958626</td>\n",
              "    </tr>\n",
              "    <tr>\n",
              "      <th>14495</th>\n",
              "      <td>23243</td>\n",
              "      <td>0.962447</td>\n",
              "    </tr>\n",
              "    <tr>\n",
              "      <th>14496</th>\n",
              "      <td>11199</td>\n",
              "      <td>0.959868</td>\n",
              "    </tr>\n",
              "    <tr>\n",
              "      <th>14497</th>\n",
              "      <td>10787</td>\n",
              "      <td>0.811530</td>\n",
              "    </tr>\n",
              "  </tbody>\n",
              "</table>\n",
              "<p>14498 rows × 2 columns</p>\n",
              "</div>"
            ],
            "text/plain": [
              "       people_ID  infect_prob\n",
              "0           5942     0.561212\n",
              "1          18664     0.653882\n",
              "2           5603     0.440247\n",
              "3           5649     0.201560\n",
              "4           5099     0.663242\n",
              "...          ...          ...\n",
              "14493      23737     0.996928\n",
              "14494      11171     0.958626\n",
              "14495      23243     0.962447\n",
              "14496      11199     0.959868\n",
              "14497      10787     0.811530\n",
              "\n",
              "[14498 rows x 2 columns]"
            ]
          },
          "metadata": {
            "tags": []
          },
          "execution_count": 296
        }
      ]
    },
    {
      "cell_type": "code",
      "metadata": {
        "id": "S3Z5itcOuDB1",
        "colab_type": "code",
        "colab": {}
      },
      "source": [
        "df.to_csv(\"result_part2.csv\")\n",
        "from google.colab import files\n",
        "files.download('result_part2.csv')"
      ],
      "execution_count": 0,
      "outputs": []
    },
    {
      "cell_type": "code",
      "metadata": {
        "id": "9wymIzW0QWPR",
        "colab_type": "code",
        "outputId": "8dbc1c8a-1799-4f29-97f6-7cc2d1bdab1e",
        "colab": {
          "base_uri": "https://localhost:8080/",
          "height": 480
        }
      },
      "source": [
        "estimator = tf.estimator.DNNLinearCombinedClassifier(\n",
        "    # wide settings\n",
        "    linear_feature_columns=feature_columns,dnn_hidden_units=[100]\n",
        ")\n",
        "estimator.train(input_fn=lambda: df_to_dataset(dftrain),steps=60)"
      ],
      "execution_count": 0,
      "outputs": [
        {
          "output_type": "stream",
          "text": [
            "INFO:tensorflow:Using default config.\n",
            "WARNING:tensorflow:Using temporary folder as model directory: /tmp/tmpzle0j7ez\n",
            "INFO:tensorflow:Using config: {'_model_dir': '/tmp/tmpzle0j7ez', '_tf_random_seed': None, '_save_summary_steps': 100, '_save_checkpoints_steps': None, '_save_checkpoints_secs': 600, '_session_config': allow_soft_placement: true\n",
            "graph_options {\n",
            "  rewrite_options {\n",
            "    meta_optimizer_iterations: ONE\n",
            "  }\n",
            "}\n",
            ", '_keep_checkpoint_max': 5, '_keep_checkpoint_every_n_hours': 10000, '_log_step_count_steps': 100, '_train_distribute': None, '_device_fn': None, '_protocol': None, '_eval_distribute': None, '_experimental_distribute': None, '_experimental_max_worker_delay_secs': None, '_session_creation_timeout_secs': 7200, '_service': None, '_cluster_spec': ClusterSpec({}), '_task_type': 'worker', '_task_id': 0, '_global_id_in_cluster': 0, '_master': '', '_evaluation_master': '', '_is_chief': True, '_num_ps_replicas': 0, '_num_worker_replicas': 1}\n",
            "INFO:tensorflow:Calling model_fn.\n",
            "WARNING:tensorflow:Layer linear/linear_model is casting an input tensor from dtype float64 to the layer's dtype of float32, which is new behavior in TensorFlow 2.  The layer has dtype float32 because it's dtype defaults to floatx.\n",
            "\n",
            "If you intended to run this layer in float32, you can safely ignore this warning. If in doubt, this warning is likely only an issue if you are porting a TensorFlow 1.X model to TensorFlow 2.\n",
            "\n",
            "To change all layers to have dtype float64 by default, call `tf.keras.backend.set_floatx('float64')`. To change just this layer, pass dtype='float64' to the layer constructor. If you are the author of this layer, you can disable autocasting by passing autocast=False to the base Layer constructor.\n",
            "\n",
            "INFO:tensorflow:Done calling model_fn.\n",
            "INFO:tensorflow:Create CheckpointSaverHook.\n",
            "INFO:tensorflow:Graph was finalized.\n",
            "INFO:tensorflow:Running local_init_op.\n",
            "INFO:tensorflow:Done running local_init_op.\n",
            "INFO:tensorflow:Saving checkpoints for 0 into /tmp/tmpzle0j7ez/model.ckpt.\n",
            "INFO:tensorflow:loss = 0.6931472, step = 0\n",
            "INFO:tensorflow:Saving checkpoints for 60 into /tmp/tmpzle0j7ez/model.ckpt.\n",
            "INFO:tensorflow:Loss for final step: 357.3155.\n"
          ],
          "name": "stdout"
        },
        {
          "output_type": "execute_result",
          "data": {
            "text/plain": [
              "<tensorflow_estimator.python.estimator.canned.dnn_linear_combined.DNNLinearCombinedClassifierV2 at 0x7fb13a44f710>"
            ]
          },
          "metadata": {
            "tags": []
          },
          "execution_count": 220
        }
      ]
    },
    {
      "cell_type": "code",
      "metadata": {
        "id": "xQFA8bqCanlM",
        "colab_type": "code",
        "outputId": "ddc2c0fc-360f-4a63-c07b-5913837a86f2",
        "colab": {
          "base_uri": "https://localhost:8080/",
          "height": 221
        }
      },
      "source": [
        "s=estimator.evaluate(input_fn=lambda: df_to_dataset(val),steps=50)\n",
        "clear_output()\n",
        "print(pd.Series(s))"
      ],
      "execution_count": 0,
      "outputs": [
        {
          "output_type": "stream",
          "text": [
            "accuracy                 0.386000\n",
            "accuracy_baseline        0.614000\n",
            "auc                      0.500000\n",
            "auc_precision_recall     0.386000\n",
            "average_loss            32.853886\n",
            "label/mean               0.386000\n",
            "loss                    32.853886\n",
            "precision                0.386000\n",
            "prediction/mean          1.000000\n",
            "recall                   1.000000\n",
            "global_step             60.000000\n",
            "dtype: float64\n"
          ],
          "name": "stdout"
        }
      ]
    },
    {
      "cell_type": "code",
      "metadata": {
        "id": "sJyYysMaQUus",
        "colab_type": "code",
        "colab": {}
      },
      "source": [
        "d27=pd.read_excel(io='https://github.com/ajtheb/COVID-inf_prob/blob/master/diuresis27.xlsx?raw=true')"
      ],
      "execution_count": 0,
      "outputs": []
    },
    {
      "cell_type": "code",
      "metadata": {
        "id": "kRjDXDAHJiQY",
        "colab_type": "code",
        "outputId": "5e7a19a3-be30-4fb9-e769-604e884dcd53",
        "colab": {
          "base_uri": "https://localhost:8080/",
          "height": 197
        }
      },
      "source": [
        "d27.head()"
      ],
      "execution_count": 0,
      "outputs": [
        {
          "output_type": "execute_result",
          "data": {
            "text/html": [
              "<div>\n",
              "<style scoped>\n",
              "    .dataframe tbody tr th:only-of-type {\n",
              "        vertical-align: middle;\n",
              "    }\n",
              "\n",
              "    .dataframe tbody tr th {\n",
              "        vertical-align: top;\n",
              "    }\n",
              "\n",
              "    .dataframe thead th {\n",
              "        text-align: right;\n",
              "    }\n",
              "</style>\n",
              "<table border=\"1\" class=\"dataframe\">\n",
              "  <thead>\n",
              "    <tr style=\"text-align: right;\">\n",
              "      <th></th>\n",
              "      <th>Unnamed: 0</th>\n",
              "      <th>Diuresis</th>\n",
              "    </tr>\n",
              "  </thead>\n",
              "  <tbody>\n",
              "    <tr>\n",
              "      <th>0</th>\n",
              "      <td>0</td>\n",
              "      <td>1148.444824</td>\n",
              "    </tr>\n",
              "    <tr>\n",
              "      <th>1</th>\n",
              "      <td>1</td>\n",
              "      <td>755.845459</td>\n",
              "    </tr>\n",
              "    <tr>\n",
              "      <th>2</th>\n",
              "      <td>2</td>\n",
              "      <td>1148.444702</td>\n",
              "    </tr>\n",
              "    <tr>\n",
              "      <th>3</th>\n",
              "      <td>3</td>\n",
              "      <td>1148.444580</td>\n",
              "    </tr>\n",
              "    <tr>\n",
              "      <th>4</th>\n",
              "      <td>4</td>\n",
              "      <td>1148.444336</td>\n",
              "    </tr>\n",
              "  </tbody>\n",
              "</table>\n",
              "</div>"
            ],
            "text/plain": [
              "   Unnamed: 0     Diuresis\n",
              "0           0  1148.444824\n",
              "1           1   755.845459\n",
              "2           2  1148.444702\n",
              "3           3  1148.444580\n",
              "4           4  1148.444336"
            ]
          },
          "metadata": {
            "tags": []
          },
          "execution_count": 24
        }
      ]
    },
    {
      "cell_type": "code",
      "metadata": {
        "id": "loqTiuSfJrWS",
        "colab_type": "code",
        "colab": {}
      },
      "source": [
        "dftrain['Diuresis']=d27['Diuresis']"
      ],
      "execution_count": 0,
      "outputs": []
    },
    {
      "cell_type": "code",
      "metadata": {
        "id": "jaEcdK1tJ9Bj",
        "colab_type": "code",
        "colab": {}
      },
      "source": [
        "pid=list(dfeval['people_ID'])"
      ],
      "execution_count": 0,
      "outputs": []
    },
    {
      "cell_type": "code",
      "metadata": {
        "id": "gf8v_5DFKeyv",
        "colab_type": "code",
        "colab": {}
      },
      "source": [
        "dfeval['Infect_Prob']=0\n",
        "#dfeval.head()\n",
        "#dfeval.info()\n",
        "#dftrain.info()\n",
        "#eval_input_fn=df_to_dataset(dfeval,False)\n",
        "dfeval['Name'].fillna('',inplace=True)\n",
        "dfeval.rename(columns = {'Coma score':'Coma_score', 'Pulmonary score':'Pulmonary_score', 'cardiological pressure':'cardiological_pressure','Heart rate':'Heart_rate','HDL cholesterol':'HDL_cholesterol','Charlson Index':'Charlson_Index','Blood Glucose':'Blood_Glucose'}, inplace = True)\n",
        "pred_dicts = list(est.predict(input_fn=lambda: df_to_dataset(dfeval,False)))\n"
      ],
      "execution_count": 0,
      "outputs": []
    },
    {
      "cell_type": "markdown",
      "metadata": {
        "id": "hjUBbwhB4vXZ",
        "colab_type": "text"
      },
      "source": [
        ""
      ]
    }
  ]
}