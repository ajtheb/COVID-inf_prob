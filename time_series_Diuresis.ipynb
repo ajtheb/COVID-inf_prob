{
  "nbformat": 4,
  "nbformat_minor": 0,
  "metadata": {
    "colab": {
      "name": "time_series_Diuresis.ipynb",
      "provenance": []
    },
    "kernelspec": {
      "name": "python3",
      "display_name": "Python 3"
    }
  },
  "cells": [
    {
      "cell_type": "code",
      "metadata": {
        "id": "NIjTwzHhh3B2",
        "colab_type": "code",
        "colab": {
          "base_uri": "https://localhost:8080/",
          "height": 102
        },
        "outputId": "f590fc4e-8b3c-4e33-d725-bbf72b03fec1"
      },
      "source": [
        "!pip install sklearn"
      ],
      "execution_count": 1,
      "outputs": [
        {
          "output_type": "stream",
          "text": [
            "Requirement already satisfied: sklearn in /usr/local/lib/python3.6/dist-packages (0.0)\n",
            "Requirement already satisfied: scikit-learn in /usr/local/lib/python3.6/dist-packages (from sklearn) (0.22.2.post1)\n",
            "Requirement already satisfied: numpy>=1.11.0 in /usr/local/lib/python3.6/dist-packages (from scikit-learn->sklearn) (1.18.2)\n",
            "Requirement already satisfied: scipy>=0.17.0 in /usr/local/lib/python3.6/dist-packages (from scikit-learn->sklearn) (1.4.1)\n",
            "Requirement already satisfied: joblib>=0.11 in /usr/local/lib/python3.6/dist-packages (from scikit-learn->sklearn) (0.14.1)\n"
          ],
          "name": "stdout"
        }
      ]
    },
    {
      "cell_type": "code",
      "metadata": {
        "id": "e1xjUCdKiKR6",
        "colab_type": "code",
        "colab": {}
      },
      "source": [
        "from __future__ import absolute_import, division, print_function, unicode_literals\n",
        "\n",
        "import os\n",
        "import sys\n",
        "\n",
        "import numpy as np\n",
        "import pandas as pd\n",
        "import matplotlib.pyplot as plt\n",
        "from IPython.display import clear_output\n",
        "from six.moves import urllib"
      ],
      "execution_count": 0,
      "outputs": []
    },
    {
      "cell_type": "code",
      "metadata": {
        "id": "ln2kpgEtit2p",
        "colab_type": "code",
        "colab": {
          "base_uri": "https://localhost:8080/",
          "height": 34
        },
        "outputId": "7f6d15a7-e488-4775-f301-91f41b389dfd"
      },
      "source": [
        "from sklearn.model_selection import train_test_split\n",
        "try:\n",
        "  # %tensorflow_version only exists in Colab.\n",
        "  %tensorflow_version 2.x\n",
        "except Exception:\n",
        "  pass\n",
        "import tensorflow.compat.v2.feature_column as fc\n",
        "\n",
        "import tensorflow as tf"
      ],
      "execution_count": 5,
      "outputs": [
        {
          "output_type": "stream",
          "text": [
            "TensorFlow 2.x selected.\n"
          ],
          "name": "stdout"
        }
      ]
    },
    {
      "cell_type": "code",
      "metadata": {
        "id": "Pi85rzFgizNv",
        "colab_type": "code",
        "colab": {}
      },
      "source": [
        "dftrain = pd.read_excel(io='https://github.com/ajtheb/COVID-inf_prob/blob/master/Train_dataset.xlsx?raw=true',sheet_name='Diuresis_TS')\n",
        "dfeval = pd.read_excel(io='https://github.com/ajtheb/COVID-inf_prob/blob/master/Test_dataset.xlsx?raw=true')\n",
        "#y_train = dftrain.pop('Infect_Prob')\n"
      ],
      "execution_count": 0,
      "outputs": []
    },
    {
      "cell_type": "code",
      "metadata": {
        "id": "z9B_iXhLBASq",
        "colab_type": "code",
        "colab": {}
      },
      "source": [
        "dftrain2 = pd.read_excel(io='https://github.com/ajtheb/COVID-inf_prob/blob/master/Train_dataset.xlsx?raw=true',sheet_name='Diuresis_TS')"
      ],
      "execution_count": 0,
      "outputs": []
    },
    {
      "cell_type": "code",
      "metadata": {
        "id": "2uGS6r-Ti_jd",
        "colab_type": "code",
        "colab": {
          "base_uri": "https://localhost:8080/",
          "height": 197
        },
        "outputId": "5b079882-70c4-4a73-d7ac-ab5c95a66857"
      },
      "source": [
        "dftrain.head()"
      ],
      "execution_count": 45,
      "outputs": [
        {
          "output_type": "execute_result",
          "data": {
            "text/html": [
              "<div>\n",
              "<style scoped>\n",
              "    .dataframe tbody tr th:only-of-type {\n",
              "        vertical-align: middle;\n",
              "    }\n",
              "\n",
              "    .dataframe tbody tr th {\n",
              "        vertical-align: top;\n",
              "    }\n",
              "\n",
              "    .dataframe thead th {\n",
              "        text-align: right;\n",
              "    }\n",
              "</style>\n",
              "<table border=\"1\" class=\"dataframe\">\n",
              "  <thead>\n",
              "    <tr style=\"text-align: right;\">\n",
              "      <th></th>\n",
              "      <th>people_ID</th>\n",
              "      <th>2020-03-20 00:00:00</th>\n",
              "      <th>2020-03-21 00:00:00</th>\n",
              "      <th>2020-03-22 00:00:00</th>\n",
              "      <th>2020-03-23 00:00:00</th>\n",
              "      <th>2020-03-24 00:00:00</th>\n",
              "      <th>2020-03-25 00:00:00</th>\n",
              "      <th>2020-03-26 00:00:00</th>\n",
              "    </tr>\n",
              "  </thead>\n",
              "  <tbody>\n",
              "    <tr>\n",
              "      <th>0</th>\n",
              "      <td>1</td>\n",
              "      <td>441</td>\n",
              "      <td>544.2</td>\n",
              "      <td>669.64</td>\n",
              "      <td>821.368</td>\n",
              "      <td>1002.2416</td>\n",
              "      <td>1215.68992</td>\n",
              "      <td>1472.627904</td>\n",
              "    </tr>\n",
              "    <tr>\n",
              "      <th>1</th>\n",
              "      <td>2</td>\n",
              "      <td>151</td>\n",
              "      <td>197.2</td>\n",
              "      <td>253.24</td>\n",
              "      <td>321.688</td>\n",
              "      <td>399.9256</td>\n",
              "      <td>492.91072</td>\n",
              "      <td>606.892864</td>\n",
              "    </tr>\n",
              "    <tr>\n",
              "      <th>2</th>\n",
              "      <td>3</td>\n",
              "      <td>416</td>\n",
              "      <td>515.2</td>\n",
              "      <td>632.44</td>\n",
              "      <td>776.728</td>\n",
              "      <td>947.7736</td>\n",
              "      <td>1150.32832</td>\n",
              "      <td>1395.793984</td>\n",
              "    </tr>\n",
              "    <tr>\n",
              "      <th>3</th>\n",
              "      <td>4</td>\n",
              "      <td>410</td>\n",
              "      <td>506.0</td>\n",
              "      <td>621.40</td>\n",
              "      <td>761.880</td>\n",
              "      <td>928.1560</td>\n",
              "      <td>1126.78720</td>\n",
              "      <td>1368.344640</td>\n",
              "    </tr>\n",
              "    <tr>\n",
              "      <th>4</th>\n",
              "      <td>5</td>\n",
              "      <td>390</td>\n",
              "      <td>483.0</td>\n",
              "      <td>595.00</td>\n",
              "      <td>730.200</td>\n",
              "      <td>892.8400</td>\n",
              "      <td>1084.40800</td>\n",
              "      <td>1315.889600</td>\n",
              "    </tr>\n",
              "  </tbody>\n",
              "</table>\n",
              "</div>"
            ],
            "text/plain": [
              "   people_ID  2020-03-20 00:00:00  ...  2020-03-25 00:00:00  2020-03-26 00:00:00\n",
              "0          1                  441  ...           1215.68992          1472.627904\n",
              "1          2                  151  ...            492.91072           606.892864\n",
              "2          3                  416  ...           1150.32832          1395.793984\n",
              "3          4                  410  ...           1126.78720          1368.344640\n",
              "4          5                  390  ...           1084.40800          1315.889600\n",
              "\n",
              "[5 rows x 8 columns]"
            ]
          },
          "metadata": {
            "tags": []
          },
          "execution_count": 45
        }
      ]
    },
    {
      "cell_type": "code",
      "metadata": {
        "id": "XVva8HhyuERD",
        "colab_type": "code",
        "colab": {}
      },
      "source": [
        ""
      ],
      "execution_count": 0,
      "outputs": []
    },
    {
      "cell_type": "code",
      "metadata": {
        "id": "PWH5tuU5jGX_",
        "colab_type": "code",
        "colab": {
          "base_uri": "https://localhost:8080/",
          "height": 238
        },
        "outputId": "4d3e17a3-84db-4b47-f9e0-858756c3a32a"
      },
      "source": [
        "dftrain.info()"
      ],
      "execution_count": 8,
      "outputs": [
        {
          "output_type": "stream",
          "text": [
            "<class 'pandas.core.frame.DataFrame'>\n",
            "RangeIndex: 10714 entries, 0 to 10713\n",
            "Data columns (total 8 columns):\n",
            "people_ID              10714 non-null int64\n",
            "2020-03-20 00:00:00    10714 non-null int64\n",
            "2020-03-21 00:00:00    10714 non-null float64\n",
            "2020-03-22 00:00:00    10714 non-null float64\n",
            "2020-03-23 00:00:00    10714 non-null float64\n",
            "2020-03-24 00:00:00    10714 non-null float64\n",
            "2020-03-25 00:00:00    10714 non-null float64\n",
            "2020-03-26 00:00:00    10714 non-null float64\n",
            "dtypes: float64(6), int64(2)\n",
            "memory usage: 669.8 KB\n"
          ],
          "name": "stdout"
        }
      ]
    },
    {
      "cell_type": "code",
      "metadata": {
        "id": "jQNK37KTm6nL",
        "colab_type": "code",
        "colab": {
          "base_uri": "https://localhost:8080/",
          "height": 85
        },
        "outputId": "0466b03d-8ff9-425e-e5c9-0f4d8d1726dc"
      },
      "source": [
        "dftrain.columns"
      ],
      "execution_count": 11,
      "outputs": [
        {
          "output_type": "execute_result",
          "data": {
            "text/plain": [
              "Index([        'people_ID', 2020-03-20 00:00:00, 2020-03-21 00:00:00,\n",
              "       2020-03-22 00:00:00, 2020-03-23 00:00:00, 2020-03-24 00:00:00,\n",
              "       2020-03-25 00:00:00, 2020-03-26 00:00:00],\n",
              "      dtype='object')"
            ]
          },
          "metadata": {
            "tags": []
          },
          "execution_count": 11
        }
      ]
    },
    {
      "cell_type": "code",
      "metadata": {
        "id": "td7UbNnkuUAh",
        "colab_type": "code",
        "colab": {}
      },
      "source": [
        "dftrain,val = train_test_split(dftrain, test_size=0.2)"
      ],
      "execution_count": 0,
      "outputs": []
    },
    {
      "cell_type": "code",
      "metadata": {
        "id": "sHtDEK5lm3E9",
        "colab_type": "code",
        "colab": {}
      },
      "source": [
        "dftrain.columns=['people_ID','d1','d2','d3','d4','d5','d6','d7']\n",
        "val.columns=['people_ID','d1','d2','d3','d4','d5','d6','d7']\n",
        "dftrain2.columns=['people_ID','d1','d2','d3','d4','d5','d6','d7']"
      ],
      "execution_count": 0,
      "outputs": []
    },
    {
      "cell_type": "code",
      "metadata": {
        "id": "ZwiYzwZznas_",
        "colab_type": "code",
        "colab": {
          "base_uri": "https://localhost:8080/",
          "height": 197
        },
        "outputId": "be4cc37b-7023-465c-c136-24c2084c7a88"
      },
      "source": [
        "dftrain2.head()"
      ],
      "execution_count": 98,
      "outputs": [
        {
          "output_type": "execute_result",
          "data": {
            "text/html": [
              "<div>\n",
              "<style scoped>\n",
              "    .dataframe tbody tr th:only-of-type {\n",
              "        vertical-align: middle;\n",
              "    }\n",
              "\n",
              "    .dataframe tbody tr th {\n",
              "        vertical-align: top;\n",
              "    }\n",
              "\n",
              "    .dataframe thead th {\n",
              "        text-align: right;\n",
              "    }\n",
              "</style>\n",
              "<table border=\"1\" class=\"dataframe\">\n",
              "  <thead>\n",
              "    <tr style=\"text-align: right;\">\n",
              "      <th></th>\n",
              "      <th>people_ID</th>\n",
              "      <th>d1</th>\n",
              "      <th>d2</th>\n",
              "      <th>d3</th>\n",
              "      <th>d4</th>\n",
              "      <th>d5</th>\n",
              "      <th>d6</th>\n",
              "      <th>d7</th>\n",
              "    </tr>\n",
              "  </thead>\n",
              "  <tbody>\n",
              "    <tr>\n",
              "      <th>0</th>\n",
              "      <td>1</td>\n",
              "      <td>441</td>\n",
              "      <td>544.2</td>\n",
              "      <td>669.64</td>\n",
              "      <td>821.368</td>\n",
              "      <td>1002.2416</td>\n",
              "      <td>1215.68992</td>\n",
              "      <td>1472.627904</td>\n",
              "    </tr>\n",
              "    <tr>\n",
              "      <th>1</th>\n",
              "      <td>2</td>\n",
              "      <td>151</td>\n",
              "      <td>197.2</td>\n",
              "      <td>253.24</td>\n",
              "      <td>321.688</td>\n",
              "      <td>399.9256</td>\n",
              "      <td>492.91072</td>\n",
              "      <td>606.892864</td>\n",
              "    </tr>\n",
              "    <tr>\n",
              "      <th>2</th>\n",
              "      <td>3</td>\n",
              "      <td>416</td>\n",
              "      <td>515.2</td>\n",
              "      <td>632.44</td>\n",
              "      <td>776.728</td>\n",
              "      <td>947.7736</td>\n",
              "      <td>1150.32832</td>\n",
              "      <td>1395.793984</td>\n",
              "    </tr>\n",
              "    <tr>\n",
              "      <th>3</th>\n",
              "      <td>4</td>\n",
              "      <td>410</td>\n",
              "      <td>506.0</td>\n",
              "      <td>621.40</td>\n",
              "      <td>761.880</td>\n",
              "      <td>928.1560</td>\n",
              "      <td>1126.78720</td>\n",
              "      <td>1368.344640</td>\n",
              "    </tr>\n",
              "    <tr>\n",
              "      <th>4</th>\n",
              "      <td>5</td>\n",
              "      <td>390</td>\n",
              "      <td>483.0</td>\n",
              "      <td>595.00</td>\n",
              "      <td>730.200</td>\n",
              "      <td>892.8400</td>\n",
              "      <td>1084.40800</td>\n",
              "      <td>1315.889600</td>\n",
              "    </tr>\n",
              "  </tbody>\n",
              "</table>\n",
              "</div>"
            ],
            "text/plain": [
              "   people_ID   d1     d2      d3       d4         d5          d6           d7\n",
              "0          1  441  544.2  669.64  821.368  1002.2416  1215.68992  1472.627904\n",
              "1          2  151  197.2  253.24  321.688   399.9256   492.91072   606.892864\n",
              "2          3  416  515.2  632.44  776.728   947.7736  1150.32832  1395.793984\n",
              "3          4  410  506.0  621.40  761.880   928.1560  1126.78720  1368.344640\n",
              "4          5  390  483.0  595.00  730.200   892.8400  1084.40800  1315.889600"
            ]
          },
          "metadata": {
            "tags": []
          },
          "execution_count": 98
        }
      ]
    },
    {
      "cell_type": "code",
      "metadata": {
        "id": "Sxrdl0jpjPjj",
        "colab_type": "code",
        "colab": {}
      },
      "source": [
        "\n",
        "dx=[]\n",
        "dy=[]\n",
        "dx_val=[]\n",
        "dy_val=[]\n",
        "for ind in dftrain.index: \n",
        "     l=[dftrain['d1'][ind], dftrain['d2'][ind],dftrain['d3'][ind],dftrain['d4'][ind],dftrain['d5'][ind],dftrain['d6'][ind]]\n",
        "     dx.append(l)\n",
        "     dy.append(dftrain['d7'][ind])\n",
        "for ind in val.index: \n",
        "     l=[val['d1'][ind], val['d2'][ind],val['d3'][ind],val['d4'][ind],val['d5'][ind],val['d6'][ind]]\n",
        "     dx_val.append(l)\n",
        "     dy_val.append(val['d7'][ind])"
      ],
      "execution_count": 0,
      "outputs": []
    },
    {
      "cell_type": "code",
      "metadata": {
        "id": "XCBXt2ZgBM-F",
        "colab_type": "code",
        "colab": {}
      },
      "source": [
        "dx_27=[]\n",
        "for ind in dftrain2.index: \n",
        "     l=[dftrain2['d2'][ind], dftrain2['d3'][ind],dftrain2['d4'][ind],dftrain2['d5'][ind],dftrain2['d6'][ind],dftrain2['d7'][ind]]\n",
        "     dx_27.append(l)"
      ],
      "execution_count": 0,
      "outputs": []
    },
    {
      "cell_type": "code",
      "metadata": {
        "id": "XIPhvmYgBj9D",
        "colab_type": "code",
        "colab": {}
      },
      "source": [
        "dx_27=np.array(dx_27)\n",
        "dx_27=dx_27.reshape(dx_27.shape[0],dx_27.shape[1],1)"
      ],
      "execution_count": 0,
      "outputs": []
    },
    {
      "cell_type": "code",
      "metadata": {
        "id": "LKkQy1BICb6p",
        "colab_type": "code",
        "colab": {
          "base_uri": "https://localhost:8080/",
          "height": 34
        },
        "outputId": "839251e4-da6c-40a1-bd8b-3491d020e146"
      },
      "source": [
        "dy_27=np.zeros(10714)\n",
        "dy_27=np.array(dy_27)\n",
        "dy_27.reshape(10714)"
      ],
      "execution_count": 108,
      "outputs": [
        {
          "output_type": "execute_result",
          "data": {
            "text/plain": [
              "array([0., 0., 0., ..., 0., 0., 0.])"
            ]
          },
          "metadata": {
            "tags": []
          },
          "execution_count": 108
        }
      ]
    },
    {
      "cell_type": "code",
      "metadata": {
        "id": "A1n9yk9BootY",
        "colab_type": "code",
        "colab": {}
      },
      "source": [
        "dx=np.array(dx)\n",
        "dy=np.array(dy)\n",
        "dx_val=np.array(dx_val)\n",
        "dy_val=np.array(dy_val)\n",
        "dx=dx.reshape(dx.shape[0],dx.shape[1],1)\n",
        "#dy.reshape(dy.shape[0],dy.shape[1],1)\n",
        "dx_val=dx_val.reshape(dx_val.shape[0],dx_val.shape[1],1)\n",
        "#dy_val.reshape(dy_val.shape[0],dy_val.shape[1],1)"
      ],
      "execution_count": 0,
      "outputs": []
    },
    {
      "cell_type": "code",
      "metadata": {
        "id": "5wUkiyVvxlhD",
        "colab_type": "code",
        "colab": {
          "base_uri": "https://localhost:8080/",
          "height": 34
        },
        "outputId": "31a7ee74-11d1-4cac-d114-04339e6c23dc"
      },
      "source": [
        "dx.shape\n"
      ],
      "execution_count": 68,
      "outputs": [
        {
          "output_type": "execute_result",
          "data": {
            "text/plain": [
              "(8571, 6, 1)"
            ]
          },
          "metadata": {
            "tags": []
          },
          "execution_count": 68
        }
      ]
    },
    {
      "cell_type": "code",
      "metadata": {
        "id": "NNzcCmsVpqVq",
        "colab_type": "code",
        "colab": {}
      },
      "source": [
        "def create_time_steps(length):\n",
        "  return list(range(-length, 0))\n",
        "def show_plot(plot_data, delta, title):\n",
        "  labels = ['History', 'True Future', 'Model Prediction']\n",
        "  marker = ['.-', 'rx', 'go']\n",
        "  time_steps = create_time_steps(plot_data[0].shape[0])\n",
        "  if delta:\n",
        "    future = delta\n",
        "  else:\n",
        "    future = 0\n",
        "\n",
        "  plt.title(title)\n",
        "  for i, x in enumerate(plot_data):\n",
        "    if i:\n",
        "      plt.plot(future, plot_data[i], marker[i], markersize=10,\n",
        "                label=labels[i])\n",
        "    else:\n",
        "      plt.plot(time_steps, plot_data[i].flatten(), marker[i], label=labels[i])\n",
        "  plt.legend()\n",
        "  plt.xlim([time_steps[0], (future+5)*2])\n",
        "  plt.xlabel('Time-Step')\n",
        "  return plt"
      ],
      "execution_count": 0,
      "outputs": []
    },
    {
      "cell_type": "code",
      "metadata": {
        "id": "T2zx-KNApWfm",
        "colab_type": "code",
        "colab": {}
      },
      "source": [
        "def baseline(history):\n",
        "  return np.mean(history)"
      ],
      "execution_count": 0,
      "outputs": []
    },
    {
      "cell_type": "code",
      "metadata": {
        "id": "U_4Rqp7ApA4i",
        "colab_type": "code",
        "colab": {
          "base_uri": "https://localhost:8080/",
          "height": 312
        },
        "outputId": "2c3bf666-863b-480f-bd22-dfc5a03192c8"
      },
      "source": [
        "show_plot([dx[1], dy[1], baseline(dx[0])], 0,\n",
        "           'Baseline Prediction Example')"
      ],
      "execution_count": 38,
      "outputs": [
        {
          "output_type": "execute_result",
          "data": {
            "text/plain": [
              "<module 'matplotlib.pyplot' from '/usr/local/lib/python3.6/dist-packages/matplotlib/pyplot.py'>"
            ]
          },
          "metadata": {
            "tags": []
          },
          "execution_count": 38
        },
        {
          "output_type": "display_data",
          "data": {
            "image/png": "[encoded data removed]",
            "text/plain": [
              "<Figure size 432x288 with 1 Axes>"
            ]
          },
          "metadata": {
            "tags": []
          }
        }
      ]
    },
    {
      "cell_type": "code",
      "metadata": {
        "id": "BRmZF9gosW-j",
        "colab_type": "code",
        "colab": {}
      },
      "source": [
        "BATCH_SIZE = 128\n",
        "BUFFER_SIZE = 1000\n",
        "\n",
        "train_univariate = tf.data.Dataset.from_tensor_slices((dx, dy))\n",
        "train_univariate = train_univariate.cache().shuffle(BUFFER_SIZE).batch(BATCH_SIZE).repeat()\n",
        "\n",
        "val_univariate = tf.data.Dataset.from_tensor_slices((dx_val,dy_val))\n",
        "val_univariate = val_univariate.batch(BATCH_SIZE).repeat()"
      ],
      "execution_count": 0,
      "outputs": []
    },
    {
      "cell_type": "code",
      "metadata": {
        "id": "HeK6nG_yB4ML",
        "colab_type": "code",
        "colab": {}
      },
      "source": [
        "test_univariate = tf.data.Dataset.from_tensor_slices((dx_27,dy_27))\n",
        "test_univariate = test_univariate.batch(BATCH_SIZE).repeat()"
      ],
      "execution_count": 0,
      "outputs": []
    },
    {
      "cell_type": "code",
      "metadata": {
        "id": "aAxGzNhns313",
        "colab_type": "code",
        "colab": {
          "base_uri": "https://localhost:8080/",
          "height": 34
        },
        "outputId": "707fd46a-fb58-46c5-ffd2-15de723fec9f"
      },
      "source": [
        "dx.shape"
      ],
      "execution_count": 41,
      "outputs": [
        {
          "output_type": "execute_result",
          "data": {
            "text/plain": [
              "(10714, 6)"
            ]
          },
          "metadata": {
            "tags": []
          },
          "execution_count": 41
        }
      ]
    },
    {
      "cell_type": "code",
      "metadata": {
        "id": "HqfEHHh_skz2",
        "colab_type": "code",
        "colab": {}
      },
      "source": [
        "simple_lstm_model = tf.keras.models.Sequential([\n",
        "    tf.keras.layers.LSTM(20, input_shape=dx.shape[-2:]),\n",
        "    \n",
        "    tf.keras.layers.Dense(1)\n",
        "])\n",
        "\n",
        "simple_lstm_model.compile(optimizer='adam', loss='mae')"
      ],
      "execution_count": 0,
      "outputs": []
    },
    {
      "cell_type": "code",
      "metadata": {
        "id": "m3k0Qmh1vkhM",
        "colab_type": "code",
        "colab": {
          "base_uri": "https://localhost:8080/",
          "height": 34
        },
        "outputId": "956d5042-240e-483c-ac27-329cc5a6d549"
      },
      "source": [
        "for x, y in val_univariate.take(1):\n",
        "    print(simple_lstm_model.predict(x).shape)"
      ],
      "execution_count": 71,
      "outputs": [
        {
          "output_type": "stream",
          "text": [
            "(32, 1)\n"
          ],
          "name": "stdout"
        }
      ]
    },
    {
      "cell_type": "code",
      "metadata": {
        "id": "oK6aVn_0tErH",
        "colab_type": "code",
        "colab": {
          "base_uri": "https://localhost:8080/",
          "height": 1000
        },
        "outputId": "2254b506-7019-456e-de25-897d84f3f277"
      },
      "source": [
        "EVALUATION_INTERVAL = 1000\n",
        "EPOCHS = 130\n",
        "\n",
        "simple_lstm_model.fit(train_univariate, epochs=EPOCHS,\n",
        "                      steps_per_epoch=EVALUATION_INTERVAL,\n",
        "                      validation_data=val_univariate, validation_steps=100)"
      ],
      "execution_count": 95,
      "outputs": [
        {
          "output_type": "stream",
          "text": [
            "Train for 1000 steps, validate for 100 steps\n",
            "Epoch 1/130\n",
            "1000/1000 [==============================] - 6s 6ms/step - loss: 974.5526 - val_loss: 973.5507\n",
            "Epoch 2/130\n",
            "1000/1000 [==============================] - 5s 5ms/step - loss: 964.4108 - val_loss: 963.8642\n",
            "Epoch 3/130\n",
            "1000/1000 [==============================] - 5s 5ms/step - loss: 954.6932 - val_loss: 954.2970\n",
            "Epoch 4/130\n",
            "1000/1000 [==============================] - 5s 5ms/step - loss: 945.3243 - val_loss: 944.7592\n",
            "Epoch 5/130\n",
            "1000/1000 [==============================] - 5s 5ms/step - loss: 935.8067 - val_loss: 935.2315\n",
            "Epoch 6/130\n",
            "1000/1000 [==============================] - 5s 5ms/step - loss: 925.1687 - val_loss: 924.2175\n",
            "Epoch 7/130\n",
            "1000/1000 [==============================] - 5s 5ms/step - loss: 915.1143 - val_loss: 914.3914\n",
            "Epoch 8/130\n",
            "1000/1000 [==============================] - 5s 5ms/step - loss: 905.4513 - val_loss: 904.6071\n",
            "Epoch 9/130\n",
            "1000/1000 [==============================] - 5s 5ms/step - loss: 895.4024 - val_loss: 894.8341\n",
            "Epoch 10/130\n",
            "1000/1000 [==============================] - 5s 5ms/step - loss: 885.8152 - val_loss: 885.0662\n",
            "Epoch 11/130\n",
            "1000/1000 [==============================] - 5s 5ms/step - loss: 875.8768 - val_loss: 875.3001\n",
            "Epoch 12/130\n",
            "1000/1000 [==============================] - 5s 5ms/step - loss: 866.2488 - val_loss: 865.5347\n",
            "Epoch 13/130\n",
            "1000/1000 [==============================] - 5s 5ms/step - loss: 856.4673 - val_loss: 855.7693\n",
            "Epoch 14/130\n",
            "1000/1000 [==============================] - 5s 5ms/step - loss: 846.6045 - val_loss: 846.0038\n",
            "Epoch 15/130\n",
            "1000/1000 [==============================] - 5s 5ms/step - loss: 836.9029 - val_loss: 836.2384\n",
            "Epoch 16/130\n",
            "1000/1000 [==============================] - 5s 5ms/step - loss: 827.0052 - val_loss: 826.4749\n",
            "Epoch 17/130\n",
            "1000/1000 [==============================] - 5s 5ms/step - loss: 817.5061 - val_loss: 816.7186\n",
            "Epoch 18/130\n",
            "1000/1000 [==============================] - 5s 5ms/step - loss: 807.5475 - val_loss: 806.9625\n",
            "Epoch 19/130\n",
            "1000/1000 [==============================] - 5s 5ms/step - loss: 797.8914 - val_loss: 797.2064\n",
            "Epoch 20/130\n",
            "1000/1000 [==============================] - 5s 5ms/step - loss: 788.1383 - val_loss: 787.4502\n",
            "Epoch 21/130\n",
            "1000/1000 [==============================] - 5s 5ms/step - loss: 778.3523 - val_loss: 777.6941\n",
            "Epoch 22/130\n",
            "1000/1000 [==============================] - 5s 5ms/step - loss: 768.6488 - val_loss: 767.9380\n",
            "Epoch 23/130\n",
            "1000/1000 [==============================] - 5s 5ms/step - loss: 758.8597 - val_loss: 758.1819\n",
            "Epoch 24/130\n",
            "1000/1000 [==============================] - 5s 5ms/step - loss: 749.0203 - val_loss: 748.4257\n",
            "Epoch 25/130\n",
            "1000/1000 [==============================] - 5s 5ms/step - loss: 739.4056 - val_loss: 738.6696\n",
            "Epoch 26/130\n",
            "1000/1000 [==============================] - 5s 5ms/step - loss: 729.5751 - val_loss: 728.9134\n",
            "Epoch 27/130\n",
            "1000/1000 [==============================] - 5s 5ms/step - loss: 719.8639 - val_loss: 719.1573\n",
            "Epoch 28/130\n",
            "1000/1000 [==============================] - 5s 5ms/step - loss: 710.0230 - val_loss: 709.4012\n",
            "Epoch 29/130\n",
            "1000/1000 [==============================] - 5s 5ms/step - loss: 700.2322 - val_loss: 699.6450\n",
            "Epoch 30/130\n",
            "1000/1000 [==============================] - 5s 5ms/step - loss: 690.4907 - val_loss: 689.8889\n",
            "Epoch 31/130\n",
            "1000/1000 [==============================] - 5s 5ms/step - loss: 680.8468 - val_loss: 680.1328\n",
            "Epoch 32/130\n",
            "1000/1000 [==============================] - 5s 5ms/step - loss: 671.0861 - val_loss: 670.3766\n",
            "Epoch 33/130\n",
            "1000/1000 [==============================] - 5s 5ms/step - loss: 661.2631 - val_loss: 660.6205\n",
            "Epoch 34/130\n",
            "1000/1000 [==============================] - 5s 5ms/step - loss: 651.5277 - val_loss: 650.8644\n",
            "Epoch 35/130\n",
            "1000/1000 [==============================] - 5s 5ms/step - loss: 641.7923 - val_loss: 641.1083\n",
            "Epoch 36/130\n",
            "1000/1000 [==============================] - 5s 5ms/step - loss: 632.0281 - val_loss: 631.3521\n",
            "Epoch 37/130\n",
            "1000/1000 [==============================] - 5s 5ms/step - loss: 622.3420 - val_loss: 621.5960\n",
            "Epoch 38/130\n",
            "1000/1000 [==============================] - 5s 5ms/step - loss: 612.4935 - val_loss: 611.8398\n",
            "Epoch 39/130\n",
            "1000/1000 [==============================] - 5s 5ms/step - loss: 602.6769 - val_loss: 602.0837\n",
            "Epoch 40/130\n",
            "1000/1000 [==============================] - 5s 5ms/step - loss: 593.0619 - val_loss: 592.3276\n",
            "Epoch 41/130\n",
            "1000/1000 [==============================] - 5s 5ms/step - loss: 583.2062 - val_loss: 582.5714\n",
            "Epoch 42/130\n",
            "1000/1000 [==============================] - 5s 5ms/step - loss: 573.5484 - val_loss: 572.8153\n",
            "Epoch 43/130\n",
            "1000/1000 [==============================] - 5s 5ms/step - loss: 563.5968 - val_loss: 563.0592\n",
            "Epoch 44/130\n",
            "1000/1000 [==============================] - 5s 5ms/step - loss: 553.9214 - val_loss: 553.3030\n",
            "Epoch 45/130\n",
            "1000/1000 [==============================] - 5s 5ms/step - loss: 544.2632 - val_loss: 543.5469\n",
            "Epoch 46/130\n",
            "1000/1000 [==============================] - 5s 5ms/step - loss: 534.3415 - val_loss: 533.7908\n",
            "Epoch 47/130\n",
            "1000/1000 [==============================] - 5s 5ms/step - loss: 524.7681 - val_loss: 524.0346\n",
            "Epoch 48/130\n",
            "1000/1000 [==============================] - 5s 5ms/step - loss: 515.0720 - val_loss: 514.2803\n",
            "Epoch 49/130\n",
            "1000/1000 [==============================] - 5s 5ms/step - loss: 505.1378 - val_loss: 504.5846\n",
            "Epoch 50/130\n",
            "1000/1000 [==============================] - 5s 5ms/step - loss: 495.6468 - val_loss: 495.0828\n",
            "Epoch 51/130\n",
            "1000/1000 [==============================] - 5s 5ms/step - loss: 486.3201 - val_loss: 485.8211\n",
            "Epoch 52/130\n",
            "1000/1000 [==============================] - 5s 5ms/step - loss: 477.0882 - val_loss: 476.7047\n",
            "Epoch 53/130\n",
            "1000/1000 [==============================] - 5s 5ms/step - loss: 468.1160 - val_loss: 467.7431\n",
            "Epoch 54/130\n",
            "1000/1000 [==============================] - 5s 5ms/step - loss: 459.3950 - val_loss: 458.9988\n",
            "Epoch 55/130\n",
            "1000/1000 [==============================] - 6s 6ms/step - loss: 450.7501 - val_loss: 450.4387\n",
            "Epoch 56/130\n",
            "1000/1000 [==============================] - 5s 5ms/step - loss: 442.2450 - val_loss: 442.0289\n",
            "Epoch 57/130\n",
            "1000/1000 [==============================] - 5s 5ms/step - loss: 434.3063 - val_loss: 433.8339\n",
            "Epoch 58/130\n",
            "1000/1000 [==============================] - 6s 6ms/step - loss: 426.2357 - val_loss: 425.8100\n",
            "Epoch 59/130\n",
            "1000/1000 [==============================] - 5s 5ms/step - loss: 418.3249 - val_loss: 417.9729\n",
            "Epoch 60/130\n",
            "1000/1000 [==============================] - 5s 5ms/step - loss: 410.7705 - val_loss: 410.3032\n",
            "Epoch 61/130\n",
            "1000/1000 [==============================] - 5s 5ms/step - loss: 403.3487 - val_loss: 402.7994\n",
            "Epoch 62/130\n",
            "1000/1000 [==============================] - 5s 5ms/step - loss: 395.9685 - val_loss: 395.4628\n",
            "Epoch 63/130\n",
            "1000/1000 [==============================] - 5s 5ms/step - loss: 388.9784 - val_loss: 388.3129\n",
            "Epoch 64/130\n",
            "1000/1000 [==============================] - 5s 5ms/step - loss: 382.1724 - val_loss: 381.3269\n",
            "Epoch 65/130\n",
            "1000/1000 [==============================] - 5s 5ms/step - loss: 375.4370 - val_loss: 374.5172\n",
            "Epoch 66/130\n",
            "1000/1000 [==============================] - 5s 5ms/step - loss: 368.1573 - val_loss: 366.4817\n",
            "Epoch 67/130\n",
            "1000/1000 [==============================] - 5s 5ms/step - loss: 360.7789 - val_loss: 359.5290\n",
            "Epoch 68/130\n",
            "1000/1000 [==============================] - 5s 5ms/step - loss: 354.0193 - val_loss: 352.6385\n",
            "Epoch 69/130\n",
            "1000/1000 [==============================] - 5s 5ms/step - loss: 346.5465 - val_loss: 344.4157\n",
            "Epoch 70/130\n",
            "1000/1000 [==============================] - 5s 5ms/step - loss: 339.1329 - val_loss: 337.5824\n",
            "Epoch 71/130\n",
            "1000/1000 [==============================] - 5s 5ms/step - loss: 332.2540 - val_loss: 329.1171\n",
            "Epoch 72/130\n",
            "1000/1000 [==============================] - 5s 5ms/step - loss: 324.1443 - val_loss: 322.3474\n",
            "Epoch 73/130\n",
            "1000/1000 [==============================] - 5s 5ms/step - loss: 317.7845 - val_loss: 315.8809\n",
            "Epoch 74/130\n",
            "1000/1000 [==============================] - 5s 5ms/step - loss: 311.6605 - val_loss: 309.5827\n",
            "Epoch 75/130\n",
            "1000/1000 [==============================] - 5s 5ms/step - loss: 305.5398 - val_loss: 303.2226\n",
            "Epoch 76/130\n",
            "1000/1000 [==============================] - 5s 5ms/step - loss: 299.2829 - val_loss: 297.1864\n",
            "Epoch 77/130\n",
            "1000/1000 [==============================] - 5s 5ms/step - loss: 293.2188 - val_loss: 291.1836\n",
            "Epoch 78/130\n",
            "1000/1000 [==============================] - 5s 5ms/step - loss: 284.7495 - val_loss: 281.7895\n",
            "Epoch 79/130\n",
            "1000/1000 [==============================] - 5s 5ms/step - loss: 276.3941 - val_loss: 272.2001\n",
            "Epoch 80/130\n",
            "1000/1000 [==============================] - 5s 5ms/step - loss: 265.7865 - val_loss: 262.4473\n",
            "Epoch 81/130\n",
            "1000/1000 [==============================] - 5s 5ms/step - loss: 256.0307 - val_loss: 253.7524\n",
            "Epoch 82/130\n",
            "1000/1000 [==============================] - 5s 5ms/step - loss: 249.7678 - val_loss: 247.4576\n",
            "Epoch 83/130\n",
            "1000/1000 [==============================] - 5s 5ms/step - loss: 243.8042 - val_loss: 241.4784\n",
            "Epoch 84/130\n",
            "1000/1000 [==============================] - 5s 5ms/step - loss: 238.1793 - val_loss: 235.8125\n",
            "Epoch 85/130\n",
            "1000/1000 [==============================] - 5s 5ms/step - loss: 232.6411 - val_loss: 230.1161\n",
            "Epoch 86/130\n",
            "1000/1000 [==============================] - 5s 5ms/step - loss: 227.2250 - val_loss: 224.7800\n",
            "Epoch 87/130\n",
            "1000/1000 [==============================] - 5s 5ms/step - loss: 222.1030 - val_loss: 219.5353\n",
            "Epoch 88/130\n",
            "1000/1000 [==============================] - 5s 5ms/step - loss: 216.8058 - val_loss: 214.3982\n",
            "Epoch 89/130\n",
            "1000/1000 [==============================] - 5s 5ms/step - loss: 211.7957 - val_loss: 209.6895\n",
            "Epoch 90/130\n",
            "1000/1000 [==============================] - 5s 5ms/step - loss: 206.8598 - val_loss: 204.7334\n",
            "Epoch 91/130\n",
            "1000/1000 [==============================] - 5s 5ms/step - loss: 202.0273 - val_loss: 199.6831\n",
            "Epoch 92/130\n",
            "1000/1000 [==============================] - 5s 5ms/step - loss: 197.4139 - val_loss: 194.6938\n",
            "Epoch 93/130\n",
            "1000/1000 [==============================] - 5s 5ms/step - loss: 192.8840 - val_loss: 190.1437\n",
            "Epoch 94/130\n",
            "1000/1000 [==============================] - 5s 5ms/step - loss: 188.4332 - val_loss: 185.5370\n",
            "Epoch 95/130\n",
            "1000/1000 [==============================] - 5s 5ms/step - loss: 184.2459 - val_loss: 181.4404\n",
            "Epoch 96/130\n",
            "1000/1000 [==============================] - 5s 5ms/step - loss: 179.8532 - val_loss: 176.9478\n",
            "Epoch 97/130\n",
            "1000/1000 [==============================] - 5s 5ms/step - loss: 175.8844 - val_loss: 173.4501\n",
            "Epoch 98/130\n",
            "1000/1000 [==============================] - 5s 5ms/step - loss: 171.9981 - val_loss: 170.0093\n",
            "Epoch 99/130\n",
            "1000/1000 [==============================] - 5s 5ms/step - loss: 168.1501 - val_loss: 165.4428\n",
            "Epoch 100/130\n",
            "1000/1000 [==============================] - 5s 5ms/step - loss: 164.6447 - val_loss: 161.7780\n",
            "Epoch 101/130\n",
            "1000/1000 [==============================] - 5s 5ms/step - loss: 161.0602 - val_loss: 158.0866\n",
            "Epoch 102/130\n",
            "1000/1000 [==============================] - 5s 5ms/step - loss: 157.6475 - val_loss: 154.9468\n",
            "Epoch 103/130\n",
            "1000/1000 [==============================] - 5s 5ms/step - loss: 154.3399 - val_loss: 151.2379\n",
            "Epoch 104/130\n",
            "1000/1000 [==============================] - 5s 5ms/step - loss: 150.9688 - val_loss: 148.3953\n",
            "Epoch 105/130\n",
            "1000/1000 [==============================] - 5s 5ms/step - loss: 147.9926 - val_loss: 144.7688\n",
            "Epoch 106/130\n",
            "1000/1000 [==============================] - 5s 5ms/step - loss: 144.9336 - val_loss: 142.1624\n",
            "Epoch 107/130\n",
            "1000/1000 [==============================] - 5s 5ms/step - loss: 142.0232 - val_loss: 138.8317\n",
            "Epoch 108/130\n",
            "1000/1000 [==============================] - 5s 5ms/step - loss: 139.2320 - val_loss: 136.0196\n",
            "Epoch 109/130\n",
            "1000/1000 [==============================] - 5s 5ms/step - loss: 136.4674 - val_loss: 134.5461\n",
            "Epoch 110/130\n",
            "1000/1000 [==============================] - 5s 5ms/step - loss: 133.7921 - val_loss: 131.0202\n",
            "Epoch 111/130\n",
            "1000/1000 [==============================] - 5s 5ms/step - loss: 131.3513 - val_loss: 128.4183\n",
            "Epoch 112/130\n",
            "1000/1000 [==============================] - 5s 5ms/step - loss: 129.0421 - val_loss: 126.0515\n",
            "Epoch 113/130\n",
            "1000/1000 [==============================] - 5s 5ms/step - loss: 126.6977 - val_loss: 123.9157\n",
            "Epoch 114/130\n",
            "1000/1000 [==============================] - 5s 5ms/step - loss: 124.2830 - val_loss: 121.9452\n",
            "Epoch 115/130\n",
            "1000/1000 [==============================] - 5s 5ms/step - loss: 122.2585 - val_loss: 119.8997\n",
            "Epoch 116/130\n",
            "1000/1000 [==============================] - 5s 5ms/step - loss: 120.1698 - val_loss: 117.5461\n",
            "Epoch 117/130\n",
            "1000/1000 [==============================] - 5s 5ms/step - loss: 118.1434 - val_loss: 115.5985\n",
            "Epoch 118/130\n",
            "1000/1000 [==============================] - 5s 5ms/step - loss: 116.1205 - val_loss: 114.5959\n",
            "Epoch 119/130\n",
            "1000/1000 [==============================] - 5s 5ms/step - loss: 114.2978 - val_loss: 112.0337\n",
            "Epoch 120/130\n",
            "1000/1000 [==============================] - 5s 5ms/step - loss: 112.6007 - val_loss: 110.0757\n",
            "Epoch 121/130\n",
            "1000/1000 [==============================] - 5s 5ms/step - loss: 110.9672 - val_loss: 108.0897\n",
            "Epoch 122/130\n",
            "1000/1000 [==============================] - 5s 5ms/step - loss: 109.0419 - val_loss: 106.6058\n",
            "Epoch 123/130\n",
            "1000/1000 [==============================] - 5s 5ms/step - loss: 107.5317 - val_loss: 105.5147\n",
            "Epoch 124/130\n",
            "1000/1000 [==============================] - 5s 5ms/step - loss: 105.9993 - val_loss: 103.2362\n",
            "Epoch 125/130\n",
            "1000/1000 [==============================] - 5s 5ms/step - loss: 104.5030 - val_loss: 101.8611\n",
            "Epoch 126/130\n",
            "1000/1000 [==============================] - 5s 5ms/step - loss: 103.0859 - val_loss: 100.7933\n",
            "Epoch 127/130\n",
            "1000/1000 [==============================] - 5s 5ms/step - loss: 101.5600 - val_loss: 99.9471\n",
            "Epoch 128/130\n",
            "1000/1000 [==============================] - 5s 5ms/step - loss: 100.0898 - val_loss: 98.5235\n",
            "Epoch 129/130\n",
            "1000/1000 [==============================] - 5s 5ms/step - loss: 98.7962 - val_loss: 96.1269\n",
            "Epoch 130/130\n",
            "1000/1000 [==============================] - 5s 5ms/step - loss: 97.5309 - val_loss: 94.9593\n"
          ],
          "name": "stdout"
        },
        {
          "output_type": "execute_result",
          "data": {
            "text/plain": [
              "<tensorflow.python.keras.callbacks.History at 0x7fb81d88f208>"
            ]
          },
          "metadata": {
            "tags": []
          },
          "execution_count": 95
        }
      ]
    },
    {
      "cell_type": "code",
      "metadata": {
        "id": "uEIkUfvjDZyA",
        "colab_type": "code",
        "colab": {}
      },
      "source": [
        "s=list(simple_lstm_model.predict(dx_27))"
      ],
      "execution_count": 0,
      "outputs": []
    },
    {
      "cell_type": "code",
      "metadata": {
        "id": "JsRmgWgwE70H",
        "colab_type": "code",
        "colab": {}
      },
      "source": [
        "pid=list(dftrain2['people_ID'])"
      ],
      "execution_count": 0,
      "outputs": []
    },
    {
      "cell_type": "code",
      "metadata": {
        "id": "Cz-TN8DNDmO2",
        "colab_type": "code",
        "colab": {
          "base_uri": "https://localhost:8080/",
          "height": 54
        },
        "outputId": "c2a3ede1-9a18-45bf-af01-36117572add4"
      },
      "source": [
        "l=[]\n",
        "for a in s:\n",
        "  l.append(a[0])\n",
        "print(l)"
      ],
      "execution_count": 113,
      "outputs": [
        {
          "output_type": "stream",
          "text": [
            "[1148.4448, 755.84546, 1148.4447, 1148.4446, 1148.4443, 1148.4442, 1148.4364, 884.8419, 1148.4296, 1055.1622, 1148.444, 885.4055, 1148.4445, 752.44934, 1148.4442, 1056.467, 905.81665, 847.2606, 848.45764, 991.4984, 1073.3983, 985.88794, 1148.4447, 918.01025, 753.7195, 1148.4441, 1082.0637, 858.9708, 1148.4436, 1148.4446, 1060.3733, 1046.7522, 1148.4335, 1096.0347, 1148.402, 1148.3639, 910.4624, 1148.4435, 862.48804, 824.66565, 1148.4434, 873.39746, 1148.4419, 1148.4447, 1110.4655, 752.4613, 1148.3934, 1148.4448, 752.4573, 1148.4435, 1007.23315, 1056.7781, 1148.4447, 752.4314, 1148.4342, 1148.4434, 1000.6079, 1101.7726, 1148.442, 1036.5566, 752.4884, 1055.2073, 1097.6979, 1148.4435, 991.7953, 1148.3954, 1148.4274, 1148.4376, 1148.4431, 947.0348, 940.90063, 1028.446, 752.4237, 1148.4338, 1148.4443, 1063.9712, 1148.445, 1006.87573, 1148.4448, 1147.6884, 1148.4374, 760.90344, 1042.5452, 1148.4149, 753.21094, 1148.4445, 847.1836, 1067.076, 1148.3473, 1148.2748, 1148.4443, 1148.4447, 1148.4257, 1148.4447, 972.60876, 752.5604, 752.6577, 754.43286, 1148.4421, 1148.4426, 880.32996, 1148.4445, 1070.1227, 1148.4396, 752.7733, 1148.4431, 1023.7191, 1148.2814, 1148.4425, 1096.6082, 1148.4447, 1148.4359, 1148.4398, 1148.4445, 902.4176, 1147.8451, 829.532, 1106.5564, 1148.4441, 1148.4413, 1148.4407, 904.66125, 1098.3193, 1148.4137, 752.42224, 930.72107, 1148.445, 1019.75867, 1089.3196, 1148.4437, 1148.4171, 752.49915, 1148.4447, 1148.4447, 1148.4426, 1148.4435, 752.4442, 873.1637, 1148.4325, 1145.3729, 753.00305, 1148.4423, 1148.4447, 933.6714, 1148.4193, 1148.3531, 1092.6387, 752.9507, 1148.4413, 931.28455, 1110.0497, 824.16345, 753.48303, 1148.4418, 1148.3424, 1148.392, 1115.4198, 1087.65, 1002.9668, 757.26636, 1101.4471, 1148.4326, 1148.4347, 1148.4067, 1145.6776, 827.7538, 824.90857, 1145.1074, 1148.4432, 839.67773, 1148.4435, 1148.445, 1148.4443, 1148.4446, 1148.4445, 1148.4447, 752.45703, 982.83093, 1148.4359, 965.386, 927.0228, 753.78345, 1148.4445, 1148.4368, 1148.3134, 1148.4438, 1018.6394, 1148.4445, 1081.5132, 1148.4437, 789.63477, 1148.4448, 1148.4445, 754.75476, 781.1881, 841.3469, 1116.0142, 1148.4382, 1148.3162, 1148.4441, 1042.2361, 1112.8546, 824.66565, 752.4308, 1148.443, 1148.4061, 752.43835, 1148.4316, 752.41614, 755.067, 1075.5984, 1148.441, 1148.4437, 1148.4176, 1127.1078, 1045.6873, 1100.671, 801.91626, 1148.4434, 1148.2473, 1148.4438, 1148.4178, 1148.4447, 1148.4442, 1148.4437, 1084.1064, 1148.4446, 879.6808, 1038.3136, 1148.4373, 1148.4443, 1148.4149, 752.65247, 752.8301, 778.5707, 1148.4442, 974.99475, 1148.4398, 761.7014, 1148.3644, 1058.969, 1148.3082, 1148.4447, 1148.444, 1148.4391, 886.11926, 1145.6096, 1092.2465, 888.64124, 1148.3002, 1148.4445, 1148.4445, 1051.7129, 1148.4432, 779.69385, 1148.435, 1148.4447, 904.78955, 1114.8516, 1148.4447, 922.7024, 863.1979, 818.0088, 1148.267, 1148.444, 934.3336, 752.43335, 1000.80786, 1148.2522, 1148.4441, 1148.4448, 1148.4098, 1020.8771, 784.7698, 758.9044, 834.4105, 1148.4448, 1148.4437, 1148.4445, 761.03394, 1148.3396, 755.2307, 1148.445, 813.0753, 1148.4373, 1148.3956, 1148.4332, 755.80237, 1148.4437, 1148.4448, 1148.4436, 1148.4401, 980.86804, 752.7057, 843.99524, 1148.4445, 1148.4445, 1067.1223, 1148.4447, 1148.4371, 1148.4445, 753.1664, 1148.445, 862.0476, 1148.4436, 956.947, 913.78125, 756.11035, 1148.3873, 1148.4225, 1148.4446, 752.4551, 1148.4448, 1148.4448, 980.594, 1148.4447, 752.4158, 1148.4445, 848.3799, 1148.4446, 1148.4432, 1148.4447, 1148.4447, 1148.4441, 1142.8424, 1128.5292, 1148.431, 1148.4443, 1148.444, 1148.4435, 902.8468, 1148.2245, 1148.4305, 1148.403, 1148.4446, 1148.4442, 1148.3313, 878.09863, 1148.4338, 1148.4437, 859.9717, 1148.4445, 759.71936, 1019.0099, 934.28625, 1148.4447, 1148.4427, 1148.4431, 1127.9415, 1125.223, 802.18604, 752.41223, 1148.4446, 756.5807, 1148.4418, 1129.1971, 1048.159, 1148.413, 1148.4337, 1148.4369, 1148.4437, 1148.4408, 752.4358, 1148.445, 989.2433, 1148.4447, 1148.4448, 1148.4447, 1148.4448, 1148.443, 1148.2814, 1148.4448, 868.489, 1017.6881, 867.4706, 755.9147, 1120.316, 1148.4447, 808.72095, 753.62756, 1146.4635, 1147.9463, 1072.886, 1148.4448, 761.36914, 764.3561, 980.85205, 1148.4281, 1117.7197, 1148.3845, 983.9675, 1148.4304, 1142.798, 1055.1622, 1148.1553, 1147.2296, 1148.433, 797.0736, 1148.441, 752.60706, 1148.4113, 1148.4415, 1148.4272, 1148.4059, 754.3788, 1148.4426, 1148.444, 1148.4156, 768.1726, 1069.9213, 1148.4427, 1148.4432, 951.56665, 1148.4429, 1148.4398, 1148.4442, 1148.4401, 843.156, 1148.4398, 1148.442, 1148.4447, 1148.443, 754.4524, 794.1083, 752.84717, 1148.439, 821.4214, 1148.4446, 1033.3231, 856.3789, 925.2551, 790.70337, 1078.2853, 1148.4365, 1148.411, 1148.4424, 788.4995, 1084.4153, 809.52966, 1148.44, 1076.1196, 1148.4323, 1050.1278, 980.13416, 1148.4448, 1140.2372, 1148.4448, 1148.445, 1148.4436, 1001.218, 1027.2957, 1014.09436, 1148.4429, 752.82324, 1058.408, 1148.442, 850.3368, 826.8982, 901.15393, 854.6466, 752.50037, 1088.1084, 1148.4447, 886.369, 752.5814, 1027.7101, 1148.4447, 837.29114, 1148.4403, 1148.443, 865.90796, 1148.4403, 753.6853, 1148.4197, 1148.4429, 1148.0929, 954.14307, 753.28406, 752.6416, 752.5072, 1148.4414, 1148.445, 1148.4447, 1148.4432, 1148.4437, 1148.4442, 1148.4413, 752.53564, 758.5154, 1078.1206, 1147.9791, 1148.3718, 752.7876, 752.4735, 754.078, 1148.4447, 1148.4448, 753.4844, 1148.4446, 1148.2952, 1148.4448, 775.80615, 752.6494, 1148.4327, 924.6727, 1148.4447, 753.8445, 1137.6556, 753.4487, 799.01733, 1148.3748, 1148.4052, 1148.4414, 976.7865, 1145.3622, 1148.4392, 1148.441, 1148.4077, 752.5206, 862.03345, 1148.4447, 988.0166, 1141.8248, 1148.4442, 793.8109, 1148.4413, 824.1205, 753.16345, 752.4105, 1148.4386, 1148.4401, 1148.441, 1148.4447, 1147.5973, 945.0593, 779.7213, 998.0586, 752.42224, 1148.4427, 1064.1549, 966.6471, 1142.433, 899.3297, 1148.4427, 802.62463, 808.2224, 1148.4446, 762.05066, 1148.445, 1148.4435, 903.3633, 753.1677, 857.235, 1148.4435, 752.923, 1148.4409, 1148.4358, 877.5925, 753.2634, 1028.7948, 1148.4448, 1148.4249, 1049.0635, 752.5814, 752.82324, 1096.2091, 1148.4448, 1148.4447, 1148.4293, 1148.4359, 1148.4447, 1036.2898, 1148.4204, 1148.4445, 1148.4435, 1148.445, 1148.4445, 752.42175, 752.5646, 1148.4266, 1084.1803, 1148.4294, 988.2516, 752.4498, 1148.314, 752.48413, 976.0382, 995.254, 1148.4445, 1148.4445, 835.48425, 1148.4448, 757.22107, 990.6544, 752.7908, 1148.442, 1148.117, 1147.6853, 1148.4447, 1148.4447, 1148.4369, 866.0978, 935.62854, 959.7471, 1148.4412, 753.3468, 1126.134, 1148.4181, 1047.7855, 753.53613, 1049.072, 1148.4448, 1148.4385, 1148.4443, 887.55286, 1148.3911, 1148.4435, 821.49976, 1148.4448, 1148.4196, 1148.4448, 1148.443, 1148.4447, 1148.4403, 1148.4448, 1148.4188, 756.90027, 877.5121, 879.9774, 1022.8345, 931.22986, 1082.2903, 943.6974, 1103.2358, 1148.4447, 964.7706, 1148.445, 891.4332, 789.60864, 1148.3984, 1109.3809, 1148.4436, 1148.4445, 1148.3354, 752.8102, 753.43616, 752.53076, 1148.4443, 1148.4358, 752.458, 1148.4447, 1148.445, 1148.4375, 752.631, 1148.444, 1148.4435, 1148.395, 1148.4447, 1053.6873, 1146.4548, 1023.6666, 1148.445, 1148.4401, 1148.4209, 802.4263, 760.3937, 939.32666, 1148.3861, 1148.4443, 1148.386, 1148.3967, 1148.4442, 752.8469, 1148.4446, 752.7529, 936.0913, 1125.5651, 1148.4119, 1148.4277, 1148.2781, 1036.2065, 752.51843, 914.3158, 752.4595, 1148.4447, 847.6052, 1029.2999, 1148.3177, 1148.4446, 960.625, 1148.4387, 1148.4421, 1148.4294, 833.4203, 1148.4442, 999.5642, 1148.4434, 757.43445, 768.01086, 1148.4447, 1148.3827, 752.8224, 1148.444, 753.2462, 1148.4447, 1148.443, 955.7825, 1148.444, 1096.5953, 1148.444, 846.4038, 991.51086, 1148.4445, 1148.4441, 1148.432, 1148.438, 1148.434, 754.7213, 1148.4407, 753.2551, 900.22, 1012.0099, 906.5668, 1148.4447, 752.6981, 1148.4438, 752.44507, 754.7384, 1148.1947, 1148.441, 757.19507, 1148.4448, 888.02405, 1148.4447, 959.29675, 1098.1564, 878.55225, 1148.4437, 1148.4447, 761.47253, 1144.4199, 771.6267, 752.4745, 1113.5975, 960.719, 1148.4358, 1148.4276, 1059.4534, 753.2991, 1148.4426, 1148.4445, 1148.442, 1148.4425, 1148.4113, 752.4844, 1148.4432, 1148.4291, 1148.4432, 860.19165, 1148.4447, 969.49976, 952.6869, 998.23584, 752.52515, 1148.4443, 1147.6412, 1095.5371, 1148.2861, 937.3927, 810.61414, 803.20557, 1148.4412, 1148.445, 1148.4441, 847.03516, 1148.4391, 835.01746, 752.6741, 1148.4448, 1148.4442, 1148.4447, 1148.444, 752.4602, 784.34546, 849.00806, 1028.9755, 1148.4446, 1148.4371, 1148.4171, 841.37524, 1148.4305, 1148.4448, 862.902, 1148.4172, 767.21204, 1018.50635, 752.4713, 1148.4446, 1148.4448, 1108.8518, 1148.4441, 944.3583, 752.6738, 1148.4417, 1148.4443, 753.07214, 1148.4448, 962.9364, 752.4303, 1115.375, 758.4418, 1148.4436, 993.5249, 1148.4432, 796.18396, 1148.4365, 1081.653, 1052.0087, 1148.4445, 1096.01, 916.7273, 752.41785, 1148.4407, 753.4116, 767.17993, 852.6537, 858.9995, 1148.4414, 1148.444, 812.3778, 1148.4352, 764.4324, 1148.4431, 1117.7197, 1013.20703, 1005.2467, 752.42456, 1148.4419, 884.422, 799.5038, 752.48254, 752.65076, 1148.4393, 1148.4448, 1148.4445, 834.28235, 771.9404, 1148.443, 1148.4403, 1148.445, 1148.4427, 1148.4447, 1148.4448, 863.4132, 1148.4435, 1067.5889, 1148.4376, 968.9336, 753.2461, 754.0919, 971.17346, 1148.3868, 1148.4207, 1025.4989, 828.79224, 1148.4437, 1084.9542, 907.27515, 752.551, 1148.4447, 1148.4404, 1148.4446, 752.68506, 1148.4423, 910.03, 752.6459, 1148.4448, 1148.2083, 1148.4432, 756.7102, 1148.3824, 1019.1487, 1148.4438, 1148.4447, 752.6754, 832.91956, 1148.4413, 1023.7864, 877.8716, 1148.4448, 1148.4415, 969.3878, 994.6205, 1148.001, 860.2434, 1148.4358, 820.99316, 755.80725, 997.80383, 966.2272, 1099.2803, 1134.4606, 752.5222, 1148.4438, 752.7804, 844.7206, 1130.5571, 1013.7588, 1148.4448, 1148.4292, 1148.4446, 952.5425, 930.427, 983.7886, 1148.443, 1148.4276, 1148.4257, 1148.2744, 855.19385, 1022.82886, 982.05725, 1125.0817, 1148.4448, 1148.4115, 1147.097, 753.89417, 1148.445, 1024.669, 1148.4218, 824.96204, 1012.7272, 1148.4296, 1004.569, 1148.4448, 1148.421, 1148.4318, 1148.4445, 960.48975, 914.66223, 947.78015, 752.5139, 1148.4448, 1148.4149, 1148.4448, 1068.6078, 1141.0862, 1148.4445, 1148.4105, 1039.8506, 1148.4447, 1034.536, 1148.4442, 1051.5209, 835.932, 1148.443, 1041.849, 933.5016, 1148.4391, 1148.4448, 1148.4171, 752.4822, 1148.4434, 752.9503, 1148.3126, 1078.9023, 752.42896, 755.979, 956.53064, 1148.445, 1139.0483, 1142.4532, 808.05896, 1148.4445, 1103.6337, 937.82666, 816.322, 1148.3124, 1148.4441, 752.9481, 1141.943, 1148.1593, 804.89685, 752.5405, 805.42053, 1148.443, 1148.4391, 1148.4447, 1148.4435, 1050.475, 1148.4448, 946.2781, 1148.4373, 863.0779, 1148.3733, 1147.0565, 1148.4448, 1148.4437, 1148.4398, 1017.06946, 1148.4437, 1148.4419, 752.7312, 1148.4435, 756.94226, 1148.4376, 1148.4448, 1005.5587, 837.7621, 1035.2135, 1003.12256, 755.4464, 752.53394, 1044.7874, 1148.4, 1047.3527, 966.9158, 1148.3987, 1148.4447, 1148.4404, 1148.4305, 1148.4412, 752.5331, 752.41675, 1069.3473, 874.8556, 1148.445, 1148.445, 1088.8357, 1148.441, 1102.399, 758.69116, 1075.0277, 1148.4447, 849.7506, 856.3146, 1148.3743, 1148.4448, 905.55286, 1148.4447, 769.301, 755.52124, 1148.445, 878.4497, 1148.4445, 1148.419, 1148.4438, 1148.4427, 964.9447, 1148.4448, 1148.444, 1148.4414, 1148.443, 1148.3912, 1148.1937, 958.48926, 1148.4447, 1123.9242, 1148.4442, 1148.4447, 1115.1288, 1148.4448, 825.0272, 1148.4442, 1147.4775, 1148.4442, 1148.4447, 941.7367, 1148.4115, 1119.3806, 873.90857, 1148.4396, 752.44653, 1148.444, 834.86365, 1148.4446, 1148.4447, 1148.4446, 752.70276, 817.0515, 844.6538, 1004.052, 1148.4448, 1148.4445, 1097.9359, 797.61096, 1148.406, 1148.4432, 1148.444, 1128.4011, 755.1863, 757.375, 752.63806, 752.4319, 1148.4436, 752.4332, 1148.4066, 1148.4447, 1022.2241, 1148.4332, 752.47107, 752.5376, 773.2825, 1148.4443, 1148.4432, 1119.6304, 1148.4436, 1148.3761, 1139.3503, 855.1764, 950.6438, 793.8137, 1148.4445, 914.2368, 1148.443, 803.7278, 1148.443, 1148.4445, 753.1564, 1148.4448, 1148.4448, 1148.4437, 945.6019, 1023.1455, 1148.4448, 973.85767, 1148.4447, 1146.7772, 879.3705, 1148.4446, 1148.4318, 752.8718, 1123.0386, 903.0823, 1148.4447, 908.17847, 906.5459, 1148.4445, 1148.4436, 1148.4246, 1148.3953, 1148.4417, 1148.4387, 1055.2661, 1148.4448, 761.63745, 1148.4445, 1148.4437, 1148.4309, 760.1437, 1148.4448, 1004.1417, 1148.4423, 764.6909, 837.29114, 1148.4443, 1148.445, 1083.3837, 1047.037, 1148.4414, 818.084, 752.4835, 1148.4442, 1148.4423, 1148.4435, 853.51196, 852.02637, 1085.8179, 1079.142, 844.66626, 1148.4448, 752.7328, 1148.3489, 989.69604, 1148.4445, 926.4459, 814.45544, 1148.4443, 1148.4303, 752.4236, 753.2788, 1148.4447, 752.4154, 997.71545, 1036.7688, 1148.4432, 1148.422, 802.99915, 803.5491, 878.92175, 1148.4364, 752.6102, 1148.4446, 811.6853, 1148.4447, 789.4121, 963.81384, 1148.2974, 1143.6562, 1148.38, 1148.4445, 1114.6868, 936.6388, 1148.4436, 762.8629, 1148.4445, 1148.4432, 752.8064, 1082.3096, 1148.4442, 849.60046, 752.61487, 909.3126, 1148.4388, 752.4767, 1043.0171, 1146.7694, 1101.7977, 1148.4402, 994.51416, 1148.4384, 1148.4442, 1148.4354, 788.39, 1148.3937, 1148.4396, 911.6992, 1148.4247, 1148.3989, 985.68677, 1148.4445, 1133.2614, 1148.4446, 757.12683, 752.4177, 1148.4425, 876.8623, 1148.4142, 1148.4447, 752.49695, 1148.4447, 846.62695, 1148.4432, 954.10425, 1148.424, 1148.442, 1148.4445, 1148.4442, 775.57605, 752.7283, 1148.4448, 752.4313, 794.1918, 1148.4191, 752.42126, 1148.4291, 1148.4365, 1148.4431, 1148.442, 872.7195, 1107.1375, 1148.4435, 1148.4446, 752.4602, 1148.4369, 1148.3925, 890.7815, 782.0337, 1148.4421, 1148.4442, 754.05383, 1148.4395, 1148.4447, 1148.4408, 1148.4447, 978.6648, 1148.4391, 1148.3851, 1148.4442, 755.5066, 1140.6749, 1093.6152, 1148.439, 1148.2356, 1148.4448, 1148.4436, 763.2051, 1148.03, 844.05945, 1087.576, 1148.4447, 893.725, 804.9607, 1148.444, 1148.4448, 1148.4427, 786.0526, 1148.4381, 1148.4445, 1148.4196, 1035.127, 1148.4445, 1148.445, 752.58606, 1148.4448, 1148.4362, 1148.4447, 1148.4446, 959.2186, 752.6161, 1148.381, 752.6089, 1142.7198, 1148.361, 868.44214, 1148.435, 1148.4425, 1148.4424, 1145.7216, 1148.4445, 766.0149, 1148.4431, 1148.4442, 753.1168, 1148.4396, 1148.4446, 1141.9476, 790.64014, 752.86707, 1148.4058, 944.2748, 754.42224, 752.41223, 1148.4437, 1005.1821, 1148.445, 1148.445, 775.91016, 1148.3339, 879.0751, 937.324, 1148.4337, 1148.4438, 1148.3759, 766.08813, 1148.4447, 940.5277, 1148.4225, 1148.4437, 1148.4443, 1148.444, 898.16724, 1148.4429, 1148.4448, 805.59985, 1148.4044, 860.0748, 904.47327, 821.1964, 752.66797, 754.22925, 1111.4381, 1132.9042, 1148.4447, 759.46936, 798.0846, 1148.4445, 1148.4432, 1023.36206, 1143.3451, 1148.4377, 1148.4314, 1148.4412, 1147.3275, 1148.4448, 1148.4447, 1148.4447, 975.39856, 757.02576, 1003.51245, 1148.4438, 752.47205, 896.92065, 1075.9097, 819.1157, 1148.4235, 752.60583, 1135.6825, 752.4823, 979.9043, 932.4375, 1148.4448, 854.31104, 1148.4447, 831.81934, 752.4784, 1148.4448, 754.35376, 757.73206, 1148.4396, 752.6102, 1036.7997, 936.5575, 992.7145, 753.2855, 1148.4447, 752.4374, 824.32996, 1022.5348, 789.82446, 1127.1982, 882.72974, 781.6598, 1148.4292, 1148.4442, 1148.4385, 1148.4435, 1148.4419, 1148.4447, 1101.5807, 752.5936, 1147.461, 948.61084, 977.07104, 1148.444, 1148.3672, 875.58887, 752.6538, 753.54126, 1148.4441, 1148.4437, 1148.4437, 1003.8541, 1148.441, 1148.4445, 827.374, 1087.7329, 752.50696, 752.42834, 855.19116, 1148.4448, 1148.44, 1147.1088, 910.4772, 1148.4437, 1148.41, 752.4457, 1146.258, 1148.4448, 1148.4442, 756.7073, 1148.4448, 1028.8832, 1148.444, 925.7439, 832.48425, 856.9852, 752.63196, 982.13074, 1148.445, 1148.4441, 1148.4357, 976.25244, 761.8417, 1148.4409, 1148.4447, 1148.4225, 1148.4447, 1148.4447, 1148.4395, 752.48694, 1148.4016, 931.9584, 752.6233, 816.5359, 1148.4446, 1148.4418, 919.67163, 1148.445, 1148.4445, 952.43555, 760.4547, 900.34265, 753.82117, 900.09375, 1148.4369, 1148.4436, 1148.4435, 1043.6324, 1148.2057, 752.44275, 1148.4417, 1148.4447, 871.11487, 752.4785, 1140.5167, 1031.939, 1148.4446, 1148.4365, 780.8855, 826.5106, 786.72046, 1147.9178, 1043.5963, 752.5327, 1118.7762, 1146.2728, 994.0935, 766.47314, 1148.4393, 1146.1263, 1007.80054, 1148.4441, 1010.6096, 1148.4448, 1148.4445, 1148.4447, 752.58093, 1148.438, 1148.4447, 753.12354, 1148.4391, 1052.8306, 1148.4415, 752.6262, 1148.4093, 1030.2186, 753.3087, 791.8092, 1148.4432, 753.2289, 1046.4403, 896.7052, 1148.4412, 820.9723, 1148.4341, 852.3873, 759.0099, 1111.1904, 1148.4429, 1148.4445, 757.46326, 755.80237, 1148.4442, 1019.6522, 1148.4443, 1140.0161, 1148.442, 1039.1688, 1148.4432, 1109.5034, 864.3291, 1054.7118, 1148.4365, 752.4103, 1064.3375, 752.4088, 775.6251, 1148.4429, 1034.4935, 1148.4446, 752.42505, 785.01636, 797.6659, 908.0901, 1148.445, 752.7095, 1148.4417, 863.9435, 799.5768, 992.0679, 752.6505, 1148.4309, 1148.441, 1148.4213, 1148.4415, 1027.4904, 1147.6075, 1148.3778, 786.1383, 1148.4254, 899.58325, 1148.3911, 1148.3893, 1148.4447, 1148.4447, 754.803, 1146.8024, 1148.266, 939.1007, 1148.4445, 1148.4448, 1148.3861, 752.41943, 1148.4406, 1148.4388, 1103.256, 1148.4442, 1148.445, 1012.3362, 1148.4447, 842.79736, 1148.4291, 752.4126, 1148.4354, 752.4352, 1148.2942, 1148.4423, 754.54114, 1148.4437, 752.42065, 1129.747, 1148.3937, 752.64343, 1148.4288, 1148.4437, 752.42737, 1148.4442, 1148.4441, 795.671, 1148.4435, 1148.4291, 1021.21875, 1123.1931, 781.7633, 1124.7135, 1148.4406, 757.2384, 1148.4426, 1148.4441, 752.86365, 1148.4414, 1147.4442, 872.5879, 1148.4441, 754.09766, 752.9851, 877.89307, 955.6063, 951.75, 1148.4445, 851.4923, 1148.4408, 1117.3551, 887.25476, 756.2648, 1148.445, 1049.8007, 1148.4017, 968.92053, 753.1234, 955.6063, 1148.4447, 1091.0902, 753.8208, 752.46594, 1148.445, 1006.76465, 1148.4446, 879.48145, 786.1964, 1148.443, 1148.4232, 752.4335, 1148.4431, 1148.4447, 1148.3756, 753.1383, 1148.4442, 774.5338, 1148.4247, 932.6444, 1148.444, 959.8762, 817.7733, 1148.4447, 1148.4446, 1148.4414, 1056.8518, 910.5414, 1148.4221, 1148.4436, 777.01965, 752.44165, 754.11145, 1148.4418, 753.98975, 1148.4442, 1148.4417, 1148.2314, 1052.583, 1034.8579, 1148.4423, 1148.443, 942.1078, 1138.354, 1148.4388, 952.9092, 1148.4447, 1148.4447, 1079.8982, 1148.3883, 1148.4188, 1101.9012, 1128.3455, 1041.3583, 926.41797, 1148.4296, 825.1133, 785.73267, 1054.4926, 995.6776, 752.525, 1148.4447, 753.40576, 1148.4406, 848.876, 1138.505, 1011.09924, 1148.445, 1143.4762, 1148.4442, 1148.4447, 1075.8292, 850.38635, 992.1095, 951.6931, 1125.602, 769.6898, 947.2554, 1148.4447, 752.4271, 1035.5411, 1148.4425, 1148.4398, 1148.4398, 1148.4353, 1148.4403, 1148.4447, 757.9657, 753.25024, 806.22986, 1034.6259, 752.45825, 752.411, 841.5803, 923.4031, 1148.434, 753.23535, 1147.9819, 802.9391, 864.3638, 1148.4447, 1106.8569, 1148.4315, 1148.4442, 1139.746, 1148.4448, 752.6703, 1147.7917, 951.1898, 752.42676, 1148.4448, 1148.4332, 1148.4442, 1148.4276, 815.4685, 1148.4392, 1148.4421, 1148.4445, 1025.001, 1148.285, 1148.4252, 1148.4445, 1148.4437, 1148.3666, 752.77136, 754.32996, 1148.4432, 1148.445, 866.9126, 906.35315, 1135.3264, 754.58057, 1148.445, 1148.4229, 1148.3722, 1148.2809, 1146.5275, 840.6681, 1148.4442, 752.9835, 878.3955, 1148.0106, 1148.4441, 1148.4443, 990.31836, 1109.598, 752.53516, 826.376, 1148.445, 1052.3572, 1148.43, 1148.3165, 788.3219, 838.6669, 1148.4447, 1148.4131, 752.9298, 1148.3594, 957.1847, 752.4884, 862.48804, 752.46155, 1148.444, 1148.4386, 1148.4435, 753.8528, 930.68115, 1141.6249, 755.8192, 1148.1482, 1054.5371, 1123.7872, 877.54126, 1148.445, 1148.4353, 1148.4336, 1148.4447, 983.5198, 869.35, 1148.3951, 1148.4445, 1025.6143, 1114.5481, 1148.445, 1148.4149, 1148.4418, 1148.4448, 907.4746, 752.4463, 1148.445, 1148.441, 1148.4447, 997.5658, 893.77795, 1056.3362, 776.17566, 756.937, 1148.4442, 1135.0743, 752.9602, 1097.2583, 1148.445, 953.8363, 838.9116, 816.5541, 1148.4388, 1082.024, 966.7627, 1148.4443, 1148.4445, 1024.7859, 789.85693, 1148.4347, 1148.4362, 1148.4447, 949.13293, 758.624, 1148.444, 753.72986, 1087.097, 1148.4447, 1067.293, 1148.4437, 872.74744, 1000.8898, 1148.4387, 1041.5306, 752.98804, 1148.4442, 936.26404, 1108.5886, 1052.1633, 1148.4447, 1148.4435, 1053.587, 1148.444, 1077.2274, 1148.4427, 1148.4432, 1148.4447, 754.1006, 1148.4436, 1067.076, 1148.2788, 1148.445, 752.4563, 1148.443, 1144.5541, 1148.4431, 1148.4414, 949.02234, 1148.4435, 1136.0947, 752.4072, 819.5088, 1148.4445, 1024.84, 752.44006, 1040.1802, 752.6221, 1148.4095, 1148.4442, 1148.4448, 1000.78735, 1148.444, 1148.4447, 1148.4442, 1148.4446, 997.6864, 1148.4418, 1148.4443, 1148.4447, 1148.4434, 973.31726, 818.0088, 919.2053, 1140.7024, 928.1697, 1148.4447, 752.94934, 1148.4446, 1011.0432, 1148.444, 1148.4261, 752.5818, 1148.4447, 752.7517, 1148.444, 1148.4445, 1148.4338, 1019.3197, 1148.445, 1148.4445, 753.42065, 1019.1134, 1148.4414, 1008.271, 1148.4365, 1148.4335, 847.24146, 1101.8837, 1148.4443, 1148.4442, 752.7307, 1148.2052, 1148.4443, 1148.415, 973.1692, 752.7451, 975.9629, 806.86084, 1148.4437, 1062.6277, 1148.4365, 1148.4448, 826.11365, 1148.4386, 1148.4447, 1148.4427, 828.82275, 755.6439, 1148.4445, 1148.4448, 1148.4386, 1065.1787, 858.90173, 1148.4215, 1148.4183, 1148.42, 1148.3923, 1148.4447, 1148.4447, 752.5453, 873.5028, 1148.4314, 753.05945, 1148.4448, 1148.4438, 1148.4448, 1148.444, 928.8572, 1147.8434, 1148.2986, 1148.2004, 1146.7098, 1148.4376, 1148.4219, 1148.4445, 776.43115, 1148.437, 1109.9991, 1148.4426, 954.2356, 754.8297, 1027.5824, 1148.4447, 810.7423, 752.7302, 752.50635, 910.7118, 875.58887, 1148.4447, 1148.4446, 1148.444, 1148.3889, 1148.4432, 889.9448, 944.3723, 1148.4448, 1104.82, 1148.4426, 1148.4407, 946.31824, 777.5027, 1148.4445, 1148.3534, 1103.2286, 1148.4447, 1092.8828, 1148.4381, 1148.4401, 1028.2566, 753.70874, 802.26013, 1147.6447, 1148.4363, 1033.6653, 1148.4423, 859.2534, 1148.0931, 1148.4357, 1148.4423, 915.4132, 1148.4374, 752.494, 1047.6998, 754.1123, 1148.4408, 752.84607, 1013.95325, 1148.4445, 1148.4335, 1148.4447, 1103.7137, 1148.4414, 874.6537, 775.1023, 894.0012, 1145.7981, 1148.4381, 753.0354, 1072.8794, 1148.4435, 1146.9713, 1080.4437, 786.2822, 1148.4446, 1148.4441, 1148.4447, 843.74146, 752.5785, 1135.7975, 1001.5238, 1148.4442, 1042.3644, 1148.4447, 1148.4447, 1148.4397, 1148.441, 1148.4364, 1148.4447, 1148.4437, 1055.0482, 1143.6827, 1148.4441, 903.4341, 788.1522, 994.78064, 753.2499, 1148.4445, 1148.4364, 954.05566, 1148.4393, 1148.4373, 793.777, 790.82947, 754.63574, 753.6692, 1061.8839, 1148.4373, 969.5681, 1148.4446, 991.9895, 972.0736, 1148.4445, 1148.444, 1148.4445, 828.5984, 793.7544, 752.4309, 1148.4445, 996.0486, 829.9398, 1148.4437, 752.4547, 840.9955, 1148.4218, 1109.3146, 1148.4442, 1148.4447, 878.56396, 1148.4069, 1148.4181, 1148.4441, 1148.4446, 1148.4447, 1003.7096, 1148.4425, 752.58044, 1148.3977, 847.4885, 1012.2987, 1148.414, 892.6057, 752.5669, 754.00684, 752.6952, 945.30347, 1148.442, 1148.4447, 1148.4426, 1148.444, 1148.4448, 828.0051, 1148.3582, 1148.4447, 1141.2662, 1148.4447, 1014.57446, 752.7467, 1148.4244, 962.97815, 755.07446, 1148.4432, 1148.439, 1148.4445, 1030.1616, 1073.0753, 1090.1208, 1148.436, 1148.4448, 1148.4448, 1148.4443, 1148.445, 1148.3766, 1148.4447, 1148.4277, 1015.15283, 1148.4447, 1148.4402, 1148.3899, 1148.424, 1148.4429, 1148.4441, 1148.4344, 1148.4396, 1148.4164, 1148.4443, 1148.4447, 1148.442, 752.51196, 1148.4423, 1147.8583, 1148.4436, 1146.5416, 1148.4435, 752.4668, 1148.4415, 1148.4385, 1063.9594, 1148.4434, 811.0062, 1148.4447, 865.5581, 1018.2595, 1148.4447, 1148.4445, 1124.7645, 1148.445, 947.09717, 1148.4447, 922.1571, 754.4918, 754.4022, 1148.4448, 1148.4442, 864.1411, 993.4187, 752.7976, 1090.3053, 1148.4434, 1148.4298, 1148.4448, 1128.8835, 753.56274, 1148.4448, 1148.3563, 1148.4362, 754.3367, 1122.785, 1148.4188, 1016.70435, 752.4237, 1028.9825, 1148.4448, 862.7605, 1148.4237, 1148.4312, 1148.443, 783.9453, 1148.4447, 1148.4436, 1121.6183, 1127.6943, 928.2594, 1148.4438, 1148.4414, 1028.6337, 1148.4443, 1148.4443, 1148.4447, 1148.4447, 990.0864, 1148.3951, 1148.4281, 1016.2688, 1148.4442, 1148.444, 756.3357, 1000.34094, 752.7252, 866.7057, 1148.4448, 753.5443, 828.62317, 1148.3154, 752.7921, 1147.6986, 1146.434, 1047.248, 1148.4443, 1148.445, 1073.9395, 1021.8867, 752.7079, 1016.0636, 1148.4385, 752.76746, 752.44727, 754.95325, 1148.4427, 756.48254, 1148.4437, 752.673, 782.41235, 1148.4417, 1148.4352, 1147.5901, 1148.4386, 1148.4448, 898.95667, 1148.4435, 1148.4448, 1148.4417, 753.5137, 1148.4441, 1057.99, 752.6787, 752.4281, 753.0797, 858.14014, 1148.445, 752.89087, 1148.4274, 1148.4435, 1148.444, 1148.4432, 1147.6788, 753.0398, 1148.4447, 1148.4205, 1148.4392, 1148.3296, 1148.2822, 873.3745, 1148.4413, 754.89514, 1140.9423, 1148.4275, 1122.6732, 1148.4442, 1148.444, 940.176, 1147.6945, 1110.2715, 754.39246, 1148.4376, 753.0856, 1147.9862, 1148.4447, 1148.3904, 1148.3112, 855.2014, 1148.4352, 964.1173, 752.4386, 1148.4374, 753.93225, 1012.98193, 779.04016, 1148.4445, 1148.4447, 1148.4442, 756.5758, 1148.4423, 957.9209, 840.3501, 1148.4319, 1148.442, 752.4746, 1122.7534, 1148.4446, 752.4662, 1148.445, 1030.16, 1145.9424, 1148.432, 1148.4446, 1148.4448, 1115.5327, 1148.4054, 935.271, 902.83813, 1148.4441, 1019.9354, 938.7661, 1148.4445, 752.5856, 1148.4448, 1148.4447, 1148.4447, 1148.4369, 1148.443, 1148.4447, 1148.432, 752.437, 1148.4092, 1147.1918, 1148.437, 752.6821, 789.761, 754.12524, 1148.438, 752.51526, 752.58826, 952.90283, 811.94165, 1148.2601, 1105.6085, 978.55237, 866.0908, 1148.4045, 752.4286, 1050.3444, 837.60767, 1148.4448, 1148.4446, 1148.4113, 774.156, 1148.4242, 1148.417, 1148.3872, 1148.4169, 1148.4432, 763.3059, 1148.442, 1148.4404, 964.15173, 1148.3956, 940.1362, 752.4359, 752.4446, 807.8668, 1145.236, 1082.8473, 902.3839, 1148.444, 1148.4447, 752.5038, 966.9846, 1148.4436, 1148.4208, 1148.4446, 1148.4434, 1148.4448, 1148.444, 1148.443, 761.4303, 1148.4448, 1147.1945, 1148.4418, 810.78723, 925.1658, 752.4181, 1148.4385, 1148.431, 752.4365, 1148.3468, 1148.4448, 1148.4445, 1148.4446, 1148.4443, 753.8534, 1148.4447, 1043.1206, 1148.4448, 1148.4447, 1148.4445, 1147.2822, 990.4238, 1148.327, 1148.4437, 1076.7349, 1148.4316, 764.8019, 990.5851, 755.9745, 1148.3981, 752.9343, 1148.4218, 752.4315, 1148.4443, 752.43677, 1101.5331, 1148.4448, 1096.445, 1148.4447, 822.7013, 888.7189, 1148.4268, 1148.38, 882.833, 1148.4392, 1148.4252, 1148.4374, 1081.5171, 1148.4113, 752.98315, 1146.9774, 1148.4225, 1030.3359, 1148.4442, 1148.4326, 938.5648, 1148.4395, 752.4928, 752.41614, 1148.4424, 907.41565, 1148.3634, 1148.4325, 1087.5724, 984.37744, 1148.4366, 1148.4429, 1148.4126, 1148.444, 842.9934, 950.7709, 1055.5112, 1148.445, 1148.4314, 1148.4447, 772.25525, 1148.4402, 981.79114, 1148.4103, 1068.0928, 752.4226, 1120.7294, 752.56116, 752.4901, 1148.4448, 1148.4446, 1148.3333, 1148.4447, 1148.4447, 946.98975, 1005.489, 1148.4413, 753.52344, 837.93225, 833.32336, 1148.4419, 752.42017, 1148.4437, 1013.3523, 1148.444, 1011.235, 752.42554, 1148.4398, 754.52856, 1148.4447, 752.4155, 981.69885, 1148.431, 1028.3795, 1148.4445, 1148.4375, 752.82434, 1148.443, 752.4136, 1148.4437, 1148.4442, 752.4187, 755.3098, 1148.4432, 1148.4447, 1148.4426, 787.484, 752.4718, 1136.2328, 757.0504, 1097.7368, 1148.4447, 952.07336, 978.17883, 1035.578, 758.652, 1133.4158, 1015.5421, 810.79443, 1148.443, 1148.4377, 752.4364, 752.4536, 1148.4178, 1148.398, 752.4094, 1148.4448, 790.4564, 1078.8304, 752.6212, 960.32056, 752.6321, 863.3114, 1148.4448, 1148.4441, 1148.1469, 1148.4304, 1148.4412, 850.36707, 1148.4042, 867.43286, 752.8336, 752.6835, 1053.8197, 804.33716, 1014.5834, 1053.0165, 753.05945, 753.2489, 1148.4283, 807.1139, 1148.4447, 906.5459, 1049.5731, 752.61646, 1148.4371, 1148.4448, 1006.29895, 1148.4448, 1147.779, 1148.4319, 752.41406, 1066.0331, 1148.4448, 1148.4447, 1148.4447, 1148.4448, 1148.4447, 1148.2836, 1148.4138, 1148.4448, 1148.4432, 1148.4103, 1148.4447, 1148.4442, 1148.4384, 1148.4298, 806.2512, 754.2792, 752.4087, 1148.3984, 1148.444, 1071.4661, 854.88696, 1148.444, 1148.3701, 1148.4442, 1148.2627, 753.9259, 1148.4447, 752.88184, 754.57996, 1148.4442, 753.21765, 1148.4438, 863.4132, 754.51733, 952.2693, 1148.4437, 1148.4446, 1098.5519, 1148.1432, 819.9254, 752.8727, 809.5503, 1148.445, 1036.6489, 1122.2561, 1098.62, 778.75854, 1148.436, 921.5514, 1148.4447, 752.67175, 1148.4447, 1148.4396, 1148.4445, 1148.4448, 1148.4323, 1148.4447, 1066.8486, 752.4895, 900.79956, 1105.1254, 752.48975, 1143.1454, 1121.1265, 1082.5474, 1148.2932, 1148.4391, 1148.4447, 817.0382, 1148.431, 1148.4441, 1029.2079, 1148.4448, 1148.3035, 1012.54236, 752.43896, 752.4668, 1148.443, 789.3253, 1148.4417, 1148.4443, 1148.4442, 828.0226, 1113.9106, 1148.4402, 1148.4287, 1129.8691, 1148.4432, 1148.4447, 1148.4125, 995.60767, 1085.2648, 1113.2208, 1090.2178, 994.6532, 1068.4724, 1140.7101, 1148.4447, 1119.163, 753.11475, 1148.429, 1148.4384, 1148.4437, 904.69055, 1148.4418, 814.3071, 1148.4447, 1148.4418, 1148.443, 888.31433, 1045.7246, 1148.4393, 937.3545, 1148.4445, 753.81287, 1148.4401, 1148.4442, 881.4348, 931.7285, 1148.4419, 1080.2104, 1148.445, 1148.4447, 756.9302, 752.48, 1148.4415, 753.1123, 752.4697, 971.1538, 1148.445, 752.7505, 753.4027, 1148.4308, 752.70374, 901.6957, 1148.4443, 752.47, 1148.4427, 1064.8159, 1148.422, 942.7373, 1148.4447, 1148.443, 1148.445, 1148.436, 893.48596, 1148.4447, 1022.90234, 1037.7466, 1148.4432, 1148.4426, 752.917, 1148.4391, 1148.4371, 1148.444, 1148.4447, 1148.406, 810.99976, 759.4745, 1148.4423, 755.6798, 763.58215, 1148.4445, 908.40845, 951.2949, 1148.4429, 1043.5135, 764.77136, 1147.6864, 1148.4446, 1148.4344, 1148.4438, 1148.4445, 1072.58, 1148.442, 1148.442, 752.4498, 1148.417, 803.8362, 752.4181, 945.9586, 1148.4441, 901.886, 1148.4366, 1148.4418, 1148.4135, 948.9872, 1148.4445, 1148.4309, 1148.4448, 1148.4448, 830.2178, 1148.4425, 1148.4098, 1148.4056, 753.11084, 1022.0145, 752.6011, 1148.4406, 1148.4441, 1148.4447, 752.40894, 1148.4441, 885.0343, 962.01, 1148.444, 752.5547, 992.1118, 1148.4354, 752.4269, 1075.6517, 1148.2699, 1148.445, 957.8209, 1148.4137, 1148.4445, 1148.4423, 1148.4369, 1144.2565, 752.45654, 1148.438, 1148.4365, 1148.443, 1148.4415, 1068.4305, 759.8607, 1037.2168, 1148.4447, 1148.4414, 1011.4835, 1145.6506, 1148.4191, 1101.0402, 1148.4447, 1039.9534, 1148.4364, 1148.4445, 752.4801, 753.76086, 1148.444, 752.4148, 934.87854, 968.1704, 986.8004, 1148.445, 752.68066, 1148.4442, 1148.4447, 1148.3712, 1148.4447, 1148.445, 990.5493, 1148.1853, 1148.4187, 1022.45544, 1148.4448, 1148.4424, 807.6266, 1148.3844, 1148.4448, 875.5791, 1021.6155, 1148.4232, 963.37585, 1148.4441, 1148.4174, 1148.4447, 1148.4382, 1148.3411, 752.7151, 1148.4369, 1146.8685, 1148.4388, 1148.4446, 1075.628, 1148.4156, 1106.4854, 1148.4447, 1148.444, 790.7335, 1148.442, 1148.4442, 1146.8717, 1148.4447, 752.4343, 1002.246, 1148.4437, 755.03345, 1148.398, 1148.4355, 1148.4445, 1148.4373, 1148.3815, 759.3602, 1121.8379, 1148.4213, 1148.4447, 958.4302, 1080.9583, 1145.4877, 1148.4447, 756.1373, 1148.4407, 1148.4447, 1044.3503, 1148.4423, 752.49414, 754.1102, 1148.4447, 752.4935, 753.93335, 1148.4412, 752.46313, 1148.3379, 1148.4445, 1148.4181, 1148.4446, 1148.4448, 1148.4248, 1147.0426, 752.4365, 1148.4362, 1148.4447, 855.8561, 1148.4413, 1001.218, 1148.4442, 753.0321, 1148.4445, 1148.445, 1083.6492, 1148.3761, 792.28516, 1148.416, 1148.4379, 752.42676, 977.47437, 1148.4419, 957.55554, 905.1726, 1148.4447, 1148.4427, 972.9087, 1148.4441, 752.47046, 753.2733, 1148.2192, 1121.6157, 857.7488, 1148.3483, 759.4829, 1148.444, 1148.444, 806.0492, 1148.4393, 842.5779, 1148.4448, 752.4175, 886.57056, 1148.4447, 1148.4379, 753.5115, 800.563, 1058.444, 1148.4445, 1148.3346, 752.4878, 1148.4448, 1148.4396, 1148.4326, 1148.444, 1148.4312, 1148.4448, 1148.4407, 1148.4314, 752.4236, 1148.4437, 791.3915, 1148.441, 752.5376, 930.07996, 1104.0842, 1103.8116, 1148.4419, 1148.4445, 752.48926, 899.9928, 854.94116, 1148.4443, 753.54443, 1146.4884, 1148.4443, 957.2971, 1148.4447, 1148.4054, 892.1975, 1148.4442, 1148.4445, 752.42126, 1148.4291, 1148.442, 1148.4296, 752.4158, 1148.3954, 1148.4429, 1148.4335, 1148.4447, 754.21924, 1133.0664, 800.43774, 978.1063, 1148.4446, 1148.4349, 1148.4447, 1148.4447, 1140.9297, 953.8496, 760.1117, 1148.4447, 959.9784, 1148.4437, 1109.0072, 1148.4447, 752.4524, 1148.4445, 929.94727, 1148.4401, 950.6438, 752.9015, 1148.4447, 994.58374, 1148.4396, 1090.2292, 1148.4419, 1148.4435, 1095.3611, 1148.4296, 901.2765, 1148.4037, 974.6062, 993.6554, 1148.4448, 999.281, 752.43176, 752.6023, 1148.427, 1148.4446, 752.93286, 752.41614, 1148.3885, 752.53076, 1053.3627, 1148.383, 959.1488, 754.27, 752.4501, 1148.4417, 1016.9391, 1148.4347, 1144.2509, 1148.4387, 1148.4417, 752.45605, 1148.4181, 962.9866, 1148.444, 983.42944, 1148.4403, 1102.7072, 1023.697, 1017.6262, 752.4154, 1148.4369, 1148.4446, 1148.4435, 799.1317, 867.5945, 1148.4446, 1148.4448, 803.8657, 854.9834, 896.6433, 1148.396, 805.91113, 1148.445, 1146.8617, 779.00793, 752.4833, 1148.4447, 1148.4435, 1035.1221, 1148.4264, 1148.4447, 1148.4279, 1148.4437, 752.5592, 752.63184, 852.1726, 757.1315, 793.9005, 1148.4247, 756.318, 1148.4417, 752.5552, 956.1538, 1148.4447, 758.82947, 1032.0359, 1003.5189, 1148.4448, 842.49036, 847.594, 883.06616, 1148.4432, 1148.4209, 1148.445, 752.631, 752.42944, 1148.4446, 1148.4349, 752.41077, 1148.4026, 752.4404, 940.9601, 1148.4375, 1148.445, 1148.4447, 752.6914, 1101.8164, 809.29175, 1148.4348, 950.29236, 752.4132, 1148.4366, 1148.4349, 1010.4712, 971.8069, 1148.4429, 1148.445, 754.47, 1148.4434, 1148.4423, 752.47864, 1124.7645, 752.7318, 839.8877, 763.5624, 1144.3671, 1148.4436, 1148.4438, 752.4404, 856.18774, 1148.4407, 924.057, 971.78455, 1148.38, 1049.4966, 1148.4447, 1140.012, 1148.4369, 1148.3754, 1148.4447, 1148.4447, 1148.4448, 889.3004, 1148.444, 822.0148, 1148.444, 821.8264, 1148.4161, 1148.2924, 997.7567, 1109.8507, 768.26575, 1045.3575, 754.3218, 1148.4282, 1148.4174, 753.5248, 1148.4418, 753.0917, 867.8845, 1148.4448, 796.4457, 1148.445, 1148.4248, 1148.4355, 969.93787, 752.4938, 1148.4264, 1148.3407, 1148.4447, 752.4198, 879.33997, 1148.4448, 1148.4442, 1148.4437, 1148.4438, 865.24084, 795.8865, 1035.1038, 1146.9661, 756.307, 752.5299, 755.66724, 1148.3268, 769.17053, 752.6835, 909.1515, 1148.4445, 1061.9037, 752.4281, 1148.4442, 752.79443, 1146.3143, 752.4429, 1148.4414, 1148.445, 1148.4384, 1148.4448, 1148.3953, 934.43494, 982.59204, 1148.4423, 1148.4065, 752.5536, 1148.3478, 1148.4437, 1148.4371, 1148.4447, 752.4564, 752.73914, 1148.4426, 1148.4426, 752.80115, 847.8147, 842.7521, 1148.3795, 1148.4445, 1148.4398, 1148.4443, 752.42236, 1148.4447, 1148.4445, 1148.443, 1023.79956, 868.03906, 869.34644, 1148.4403, 752.47314, 1148.4421, 1148.4447, 997.2291, 1148.4447, 1148.4447, 1072.6075, 1148.4447, 1148.4447, 950.8087, 1148.4417, 1148.4431, 853.6465, 937.7318, 752.5056, 935.54346, 1010.1531, 990.0719, 1148.4432, 752.53394, 752.42126, 1081.8717, 870.8351, 1148.4348, 752.41785, 753.0586, 924.5006, 800.89526, 1138.5753, 922.73706, 998.7811, 1137.6444, 1148.4427, 752.5425, 1093.5679, 752.4287, 1148.436, 752.5272, 930.16675, 902.5243, 989.0785, 1148.4448, 794.2384, 930.11975, 1148.4443, 805.5216, 1148.4138, 1148.3397, 1148.4418, 1148.4447, 1137.9862, 774.2759, 1148.443, 753.98645, 753.46643, 849.52954, 1148.4448, 753.3822, 1148.4447, 752.47424, 1148.4128, 1148.444, 1123.4375, 1148.4447, 779.3557, 755.0397, 752.5106, 852.12964, 928.2228, 1148.4447, 901.4147, 1148.4418, 1148.443, 1148.313, 1148.4377, 754.3706, 1148.4431, 1148.4423, 881.1019, 1057.3102, 911.4105, 1148.445, 1148.3267, 1148.4412, 1148.1956, 1148.445, 1148.4216, 1062.0555, 1148.3918, 752.49866, 1148.3636, 1146.3928, 1095.8413, 1148.3586, 1148.4403, 890.0156, 1148.4448, 752.68823, 1148.4442, 823.14294, 1148.4432, 1148.4264, 755.52954, 1148.4116, 752.7937, 1148.4427, 752.8845, 753.0095, 1148.4071, 1146.7098, 1148.445, 1148.4384, 752.5604, 820.51917, 885.2864, 1148.4446, 1146.4761, 1148.4442, 846.23193, 977.8351, 835.9332, 1148.4362, 1115.1006, 1148.442, 1148.4369, 1148.3875, 1148.4447, 1147.9424, 969.5276, 752.9214, 992.4756, 925.78723, 1092.3787, 760.1666, 1148.4415, 1148.4447, 1148.437, 1148.4447, 1080.8593, 752.5659, 1148.3947, 978.02405, 798.2058, 1148.4425, 1148.4427, 858.272, 1148.4188, 1118.1882, 1148.4426, 752.41565, 1148.4447, 1148.4447, 1148.4448, 1057.3986, 811.68933, 779.7134, 752.5419, 874.4415, 1148.443, 1146.0303, 1133.1353, 1148.4414, 1023.7191, 1148.4447, 911.3209, 752.6494, 850.1422, 752.52246, 867.1964, 752.4237, 1148.4357, 1148.2267, 1063.985, 1099.246, 1027.1383, 756.21814, 1148.4298, 1148.4424, 1148.4323, 1012.2578, 753.01697, 1009.5847, 1148.4447, 1147.7517, 754.7333, 1148.4448, 1060.4755, 1148.4434, 1148.4447, 904.074, 1148.4215, 1148.4448, 828.29663, 1024.23, 1148.4435, 825.63306, 791.85315, 1148.4427, 1106.402, 1148.445, 1026.4974, 947.69995, 1148.4371, 1148.4426, 1148.441, 992.4656, 1148.4415, 1138.4553, 1148.4309, 1144.7617, 754.1499, 1148.4164, 1148.4435, 1148.4447, 1148.4445, 791.3915, 1148.4447, 1148.4445, 944.256, 930.552, 1039.4941, 753.34827, 1123.2916, 1148.4034, 1085.5067, 755.78, 1148.4299, 966.7688, 1148.4426, 1148.4443, 1148.4445, 1132.1553, 753.8351, 790.744, 1040.6537, 966.02563, 752.4181, 1148.4447, 1148.4407, 1148.4447, 1148.4377, 975.2388, 1148.4427, 758.1294, 1148.4448, 1148.445, 1148.3972, 772.74866, 752.58496, 1148.445, 1148.4106, 952.99817, 754.39246, 1035.4508, 1148.4442, 1148.4448, 1148.4327, 1148.4431, 1148.4377, 1148.2434, 1148.445, 1148.4446, 937.4199, 873.5034, 754.50903, 817.8071, 752.43164, 1148.4443, 1087.7574, 820.4513, 820.96265, 1148.4446, 812.83813, 889.2709, 824.1349, 1148.4445, 1013.21277, 1148.445, 1148.4304, 752.527, 1148.4447, 868.4917, 1041.8381, 1148.4448, 979.1489, 754.65186, 1148.4447, 1148.4424, 838.3738, 1148.4445, 752.4121, 916.2368, 1148.4396, 1148.4447, 1148.4341, 966.1437, 1148.3036, 1062.6277, 1148.4419, 1148.4401, 976.2644, 752.44324, 1072.588, 839.0626, 1148.4447, 1148.4435, 1148.4415, 1148.4302, 930.78577, 1148.4349, 1027.2021, 1148.4447, 1148.445, 1148.3834, 910.6909, 788.0381, 1050.6167, 987.3917, 930.07544, 961.7919, 752.47046, 753.60876, 1148.4327, 1148.4434, 1002.97156, 1148.4446, 1148.4445, 752.41736, 752.5293, 752.6544, 753.44214, 832.3247, 752.64526, 753.13403, 1148.4437, 1148.4443, 1056.0232, 936.0498, 752.4772, 1148.4198, 1148.3951, 1148.4419, 752.53406, 1131.0231, 1148.4429, 829.14014, 830.04736, 1148.4448, 1061.9137, 1148.4376, 752.7355, 1094.535, 752.4739, 929.38916, 1148.4441, 840.1747, 752.44446, 1148.4446, 944.53, 853.9059, 1148.4447, 1147.2181, 1020.1887, 1076.9958, 1148.445, 1148.4401, 1145.4601, 1148.4447, 1148.443, 1148.2142, 1148.4244, 753.8539, 1148.4445, 1148.4442, 1070.4338, 764.7329, 753.9125, 952.806, 869.27356, 767.22327, 1148.444, 1148.4445, 1148.4438, 1148.4448, 1093.5306, 1069.3483, 1021.39453, 1148.4414, 1148.4445, 857.1387, 754.33606, 1148.442, 1148.443, 1148.4445, 1148.4441, 754.45593, 1027.9303, 1052.8268, 753.0353, 752.60803, 1148.442, 1007.3386, 988.9563, 1148.4255, 1148.4343, 761.3176, 876.08105, 890.4232, 1148.439, 1148.445, 927.0752, 1148.4397, 918.43054, 1148.4448, 831.09705, 1148.445, 1087.7291, 1148.4412, 1148.4385, 841.96326, 1148.4039, 752.4425, 1029.208, 1017.9575, 1148.4442, 755.4092, 1136.2775, 1132.3246, 754.39404, 1017.95984, 752.42444, 1148.4442, 1148.4415, 752.46765, 811.8562, 1148.3506, 974.17737, 1148.4209, 1148.3771, 1148.445, 1144.4111, 1148.4437, 1031.7079, 1012.28174, 1148.4438, 1143.5822, 1148.4447, 876.6929, 1129.0815, 1148.4442, 825.9398, 1148.4425, 1148.4448, 1144.5828, 1148.4447, 1148.4443, 1148.4446, 1055.6023, 1103.2361, 1148.4437, 1148.4447, 752.8313, 1148.419, 1148.4448, 752.9302, 1148.4447, 752.943, 773.46265, 752.4518, 1141.3209, 915.02686, 759.6332, 1134.739, 1148.4305, 1148.444, 772.4429, 1148.4249, 812.631, 1148.444, 1148.4447, 1148.4032, 752.5375, 1129.0305, 785.5635, 885.1062, 1148.4447, 1070.4369, 1148.377, 1148.3761, 1148.4427, 916.7302, 1148.4447, 1148.444, 753.3418, 1100.6742, 1148.4408, 1148.445, 1148.4423, 1148.3944, 1097.6971, 1148.4323, 1148.4093, 1148.4448, 752.99805, 866.3135, 1148.1079, 1148.4086, 1006.87317, 1148.4448, 1148.4271, 1148.4342, 1148.4446, 809.32983, 948.2157, 1148.422, 1085.8043, 752.4175, 1148.4082, 1148.4448, 1148.4417, 752.75916, 1148.4447, 752.51697, 1148.4448, 1148.445, 825.4501, 878.7135, 752.5276, 752.4181, 752.4335, 1148.4441, 1148.4419, 881.77124, 1147.6721, 813.00964, 984.46704, 1148.434, 1148.445, 1147.7155, 1148.4417, 1148.4415, 1148.4299, 935.6587, 813.58716, 1148.4237, 1148.4438, 904.32153, 782.0056, 1148.4448, 836.5338, 818.98706, 784.5099, 1148.4445, 1148.3909, 1148.4445, 1148.4281, 1109.4983, 1110.9397, 1139.9747, 830.0582, 1148.4448, 1148.4447, 1148.4054, 1148.4374, 1148.4412, 1148.4061, 940.5917, 840.4479, 1148.4447, 1141.9353, 1148.4324, 1148.4447, 1106.1437, 1059.8108, 1148.4363, 1148.4447, 1059.9142, 879.0718, 840.25195, 752.8451, 1148.4222, 797.2344, 1148.4446, 882.796, 951.3627, 968.20886, 1148.3893, 1148.4445, 1016.6013, 1148.445, 1148.4448, 1148.4446, 1148.4326, 1148.3966, 1148.4337, 1148.4447, 803.2881, 899.97534, 1148.4421, 752.4341, 752.45044, 1148.4347, 1148.4435, 1147.7565, 769.6199, 997.5454, 1148.445, 983.7639, 1065.5164, 1148.3759, 978.8833, 1134.7893, 1148.4366, 901.7693, 1148.4426, 752.7921, 1077.2845, 1148.4231, 1148.4325, 752.5867, 894.99744, 752.8347, 804.0591, 1124.3297, 926.97864, 752.4269, 949.66345, 1148.4438, 1148.4435, 819.83997, 1148.3998, 1148.4443, 1148.443, 1148.4291, 1148.2565, 1148.443, 1148.4371, 1073.7222, 1131.8949, 752.8821, 754.0277, 1142.8447, 1148.4435, 1130.9889, 1148.4446, 1148.4445, 1148.4446, 1082.5703, 1148.4418, 1148.4447, 1084.4564, 1148.4377, 752.5156, 1052.5321, 1148.4435, 1036.619, 1052.2174, 902.95776, 913.5326, 1148.4447, 756.6188, 1148.4442, 1148.4435, 1148.1436, 752.5416, 1148.431, 1071.8068, 764.69775, 1148.4447, 761.0879, 1130.3241, 1148.4435, 1148.4442, 1148.4323, 833.9485, 1148.4446, 993.9098, 757.3154, 1148.443, 758.4042, 1050.8488, 752.48755, 1148.4423, 825.86426, 752.6306, 1148.4368, 1148.4401, 752.4209, 922.18896, 1148.4388, 1148.4445, 1029.5548, 908.9967, 1148.2871, 753.0552, 1148.4446, 815.6985, 1148.424, 903.1576, 1148.4396, 811.0404, 1148.4215, 975.2621, 1147.6539, 1148.4379, 1148.419, 1148.4447, 998.18115, 1148.208, 1148.4447, 760.25183, 1148.4426, 752.46423, 1148.4446, 1148.4163, 1101.0215, 1148.4441, 1148.4438, 1148.3981, 906.6378, 1148.4437, 1148.4419, 1148.3715, 849.0217, 1148.4447, 1148.4443, 1148.4388, 1148.4447, 1079.7078, 1073.9805, 1148.444, 1148.4445, 925.1886, 1067.5469, 753.00793, 1148.4312, 1148.4445, 1099.0518, 752.6516, 803.0095, 1092.7683, 1148.4447, 1148.4448, 1148.4362, 909.6371, 1148.4447, 1148.4364, 1148.445, 1148.4427, 1135.712, 843.8744, 1148.4308, 1015.6477, 752.5231, 1148.443, 975.88184, 1148.4431, 1148.4318, 1148.435, 1148.4438, 1096.0804, 1148.4377, 1148.4125, 1148.444, 1148.4427, 1148.4417, 752.4558, 752.75977, 1147.9608, 788.09436, 1148.4401, 1148.4329, 1148.3644, 1148.4316, 1148.4445, 795.4022, 865.23047, 1140.1708, 896.52014, 1148.4438, 1148.4427, 1148.4242, 1148.4341, 872.19836, 1148.4443, 790.70337, 1148.4448, 940.9302, 945.3036, 1148.4039, 1045.4795, 753.1444, 929.42334, 1148.4447, 1148.4442, 752.4208, 1148.445, 1148.4344, 1148.4386, 1148.4222, 1148.4381, 752.7467, 875.46594, 1130.0883, 1058.8896, 1148.4349, 1148.4236, 755.9064, 752.4198, 1148.4414, 1103.2158, 1148.445, 753.8157, 1086.5312, 1148.4447, 1087.3695, 1148.4435, 1148.4183, 1061.6229, 842.66064, 1148.3558, 752.4221, 844.04504, 752.41846, 853.6516, 1148.445, 1148.4445, 1148.4447, 1148.368, 1148.4447, 1024.7074, 1148.4401, 987.6926, 1023.6953, 752.5232, 1148.4352, 794.7234, 755.65015, 752.5089, 752.42053, 999.5287, 1148.2395, 854.94116, 1148.3777, 1008.42175, 1148.4429, 1148.442, 793.0443, 1011.5305, 1148.4442, 856.4418, 1146.1533, 1148.4355, 752.4697, 1046.0825, 1042.0922, 1148.4194, 1148.4432, 1148.4406, 1148.4448, 1148.4266, 1148.4435, 1148.4059, 1148.4415, 802.031, 1148.4008, 812.426, 752.9313, 752.53577, 1148.4244, 956.8125, 1106.6915, 753.43335, 803.4563, 822.74817, 1148.445, 752.4221, 1148.4445, 840.9326, 753.78955, 1148.4438, 1004.4038, 1148.4415, 797.49585, 1148.4445, 1148.432, 1148.3076, 1148.4445, 752.7722, 1148.4396, 1147.3417, 947.5659, 892.64417, 1148.4447, 1148.4448, 1148.4445, 1002.4547, 752.4404, 1148.4446, 973.79504, 1148.4448, 1148.4447, 1032.9722, 1148.4443, 1148.4042, 1148.4447, 874.2461, 1148.4447, 974.2279, 1103.6952, 1117.3594, 1148.4413, 1148.441, 1148.4423, 951.27966, 1148.4425, 1148.4176, 1148.4445, 1148.4442, 1148.4448, 1148.4303, 762.1902, 1051.2991, 1148.4448, 809.5105, 1148.4381, 1148.443, 753.3882, 897.806, 830.4923, 856.9852, 1123.1226, 1148.4296, 1148.4426, 752.6969, 1148.4437, 1116.386, 787.04004, 1148.4445, 1148.442, 1148.4445, 1148.4426, 1148.4448, 959.931, 1070.984, 769.7146, 1148.3195, 753.3594, 1148.0598, 1148.4443, 903.402, 1148.4447, 1148.4447, 1148.4446, 1148.4431, 1148.429, 1148.4448, 1148.4441, 1148.326, 752.9359, 791.4066, 1148.443, 784.318, 1148.3772, 754.0211, 1148.1521, 845.838, 813.22705, 1148.38, 1148.4418, 1148.4285, 872.64197, 752.4652, 915.5906, 1085.6704, 1148.4447, 957.1467, 1148.4062, 1148.445, 842.71216, 1148.4427, 752.8063, 1148.4447, 1148.445, 1147.0762, 752.5099, 1148.4448, 905.181, 1057.2821, 1148.4448, 1148.4437, 1148.4448, 1148.444, 1148.4427, 826.31775, 884.93225, 1148.4415, 1148.4446, 1148.4446, 1148.3694, 756.70825, 1148.4435, 920.40234, 1148.3744, 1148.4442, 1148.4429, 762.8629, 1147.9884, 1148.4446, 754.2379, 1148.4335, 1148.4445, 1148.4448, 827.61707, 1148.2372, 1148.4447, 1148.4417, 1148.4357, 840.89514, 1050.7937, 1146.8899, 911.25256, 752.4658, 1148.3832, 868.13513, 1148.4447, 1148.4324, 1148.4359, 752.6279, 1148.4443, 1148.4442, 1148.4338, 1147.9819, 1148.4438, 752.41504, 1148.444, 1148.4413, 1148.4437, 1148.4443, 1148.4437, 1148.4288, 1148.445, 916.7532, 1148.4448, 1148.4425, 1148.4381, 1148.4447, 1148.4423, 970.45593, 1134.9266, 752.431, 753.21704, 1148.4445, 1148.4281, 1148.4426, 1148.3529, 813.1802, 1101.9497, 752.4208, 1148.4418, 1148.4421, 839.78906, 1148.4414, 1148.4448, 828.2488, 969.95044, 1148.4442, 785.94995, 752.522, 1111.6611, 1148.4159, 752.42004, 1148.4376, 762.93835, 1148.445, 752.9402, 1148.4447, 848.45764, 1148.4398, 1148.4111, 1148.4438, 1148.4395, 1148.4368, 835.48425, 1148.445, 753.2385, 1057.7224, 752.4728, 1148.4257, 890.0729, 1148.4343, 754.209, 1148.4324, 878.8258, 890.0311, 758.95874, 1148.4388, 1148.4441, 834.5615, 1148.4448, 998.48755, 1055.5114, 1148.4385, 919.7854, 1148.444, 1148.4447, 1148.4432, 1148.4443, 1148.4376, 1077.5463, 1148.4448, 1148.4432, 1148.4448, 1148.4447, 1148.4398, 1071.2562, 1148.4427, 1148.4445, 1148.444, 752.5228, 884.1212, 1148.4448, 1148.4448, 755.1161, 1148.4395, 752.5719, 1148.4429, 1148.1702, 1148.445, 1148.4344, 1148.4445, 752.4292, 1148.444, 824.80383, 1147.1912, 1148.4425, 1148.4447, 1148.3655, 1096.4113, 928.9133, 752.53845, 1148.4244, 754.6719, 1147.7495, 858.6892, 1148.4447, 1148.4343, 1147.7266, 850.7665, 799.31335, 1045.3798, 1072.005, 1148.4384, 934.1842, 1148.445, 884.36206, 1148.4442, 1062.7468, 1098.6497, 1132.8085, 1148.4401, 863.4132, 1054.68, 1148.1938, 756.275, 920.39087, 1148.4446, 762.25745, 853.0867, 1148.4298, 903.1748, 755.66223, 1148.4448, 1148.4404, 871.08545, 961.16504, 753.7628, 1148.4004, 833.66504, 1119.7216, 1148.4274, 1148.445, 753.3462, 1066.846, 929.26587, 894.21155, 1148.4186, 1147.8236, 757.7372, 1148.4437, 769.73486, 1148.3624, 1148.4314, 1148.4448, 752.6135, 1148.419, 1148.439, 1148.4442, 1148.3027, 753.0702, 1148.4447, 1120.1477, 944.2312, 1148.3728, 917.9591, 752.62134, 1148.0192, 1148.4448, 1148.2971, 1148.3433, 764.71423, 1148.3488, 758.12146, 761.7073, 1011.0513, 1148.4443, 776.57874, 1148.3182, 1148.4413, 1148.388, 1064.9619, 1123.4143, 1148.4447, 1000.97974, 1146.2224, 1148.4434, 912.96875, 1065.689, 1148.3677, 1148.4432, 965.1195, 1148.4441, 1147.9586, 1148.4447, 904.48376, 1148.4235, 1148.3715, 1148.4429, 1089.0171, 924.59546, 916.2361, 1148.4445, 1148.4447, 1066.6908, 1148.4402, 1148.4445, 1148.4438, 753.3237, 1148.4174, 1148.4208, 1148.4227, 1148.4333, 1008.61536, 1148.2909, 1035.7224, 756.0165, 1148.4435, 1148.4447, 1088.5786, 941.1371, 1039.4006, 1148.4368, 1148.3925, 1148.4436, 1148.4447, 752.4127, 1011.4802, 752.4684, 1148.4253, 1148.4403, 1148.4445, 760.0447, 1104.8832, 1081.5242, 895.07104, 1148.4423, 1148.4359, 1087.8209, 1148.4169, 1148.4423, 1148.443, 1148.4196, 1147.5392, 1148.445, 799.8036, 886.41565, 991.78784, 757.12695, 890.21594, 752.59534, 1148.4353, 884.6383, 1148.3976, 1148.4447, 1138.5753, 1148.3317, 1148.4442, 971.50366, 1148.4425, 1148.4202, 1148.4447, 1148.4448, 1148.444, 1148.4342, 1148.4447, 1148.4447, 752.7865, 1148.4442, 1148.4437, 1148.4446, 934.1842, 753.2732, 752.7825, 1063.5818, 1027.1069, 752.5228, 928.86365, 752.7377, 752.8639, 1148.3385, 1148.434, 1148.4445, 937.4662, 1069.4254, 1147.337, 1148.3713, 1105.8597, 752.4282, 1148.4447, 752.4546, 1148.4442, 1148.4447, 1148.4447, 752.58606, 1148.3433, 1148.4448, 1026.47, 1027.2758, 752.6011, 1148.4435, 752.67053, 990.95337, 1148.4434, 1056.2008, 1148.4445, 1148.4331, 1148.445, 752.43506, 1148.3998, 1008.12036, 1013.3198, 1148.4441, 1128.1748, 1148.268, 759.1721, 1081.7266, 752.40894, 1148.4448, 891.74744, 1148.435, 922.7732, 1148.4427, 1148.4283, 944.5934, 1148.3606, 754.818, 1148.4437, 801.3817, 1064.5593, 752.9935, 1147.7565, 1148.4445, 1148.4437, 1148.4095, 1148.3872, 1148.3618, 832.12244, 932.38416, 1148.444, 1148.4325, 1148.4447, 1148.4447, 755.45496, 1148.4427, 752.90063, 1148.434, 1147.9957, 921.0006, 1148.4386, 1148.4448, 1148.4437, 1148.4039, 1148.442, 920.2449, 1148.4336, 1148.4381, 1148.4427, 1148.4176, 1148.4447, 1148.4368, 1148.4447, 1148.4447, 794.76135, 1065.9519, 1148.4171, 804.0735, 894.12024, 1148.4266, 1148.4419, 1148.4434, 1148.4316, 1148.4441, 1148.4342, 1148.4414, 781.42175, 1148.443, 1148.4448, 1148.4446, 1148.4241, 753.89087, 1148.4435, 766.2046, 1147.7418, 949.0774, 1148.4447, 1148.4305, 1148.4436, 1092.7698, 1148.4441, 1148.4331, 1148.4365, 1148.4435, 753.0055, 1076.9623, 753.8523, 840.0499, 1148.4447, 1148.4448, 942.8552, 1148.444, 1148.43, 1148.445, 1148.4445, 1148.4382, 1148.4445, 1147.6384, 1148.4408, 1148.445, 1131.8903, 1148.442, 752.8855, 752.62305, 1148.4448, 1148.4414, 1143.7722, 1148.4437, 1145.4711, 1148.4448, 1148.444, 875.27625, 1148.445, 1148.4341, 1148.4413, 757.13965, 752.515, 1148.445, 967.7831, 1148.4446, 988.28894, 1021.82385, 756.27454, 1148.4427, 1148.4442, 752.4907, 752.5641, 797.3745, 752.66113, 1148.4121, 1148.4423, 961.0121, 1129.4811, 1123.0386, 1148.421, 1148.4344, 1148.4436, 1148.3667, 754.2136, 946.9719, 752.5211, 1148.4364, 1148.4349, 908.9967, 1148.4047, 1141.5134, 1148.4406, 1003.7007, 752.89343, 953.5348, 1148.442, 1010.1566, 908.13367, 752.78357, 1148.4447, 952.18994, 1148.4126, 1148.443, 1148.4193, 776.6727, 1005.9768, 1148.4407, 918.5803, 752.94165, 1080.2916, 752.72375, 1028.6486, 890.0206, 752.4142, 1089.38, 1148.442, 1148.4414, 1148.4447, 1148.4384, 1144.0127, 952.9027, 1148.4447, 752.427, 1148.4359, 764.04126, 1148.4203, 1148.4288, 797.68567, 1148.444, 1054.9437, 1148.4447, 1148.4384, 797.5973, 1071.0614, 1071.2859, 1144.4202, 1148.4442, 1148.4414, 752.5028, 1148.4447, 1148.4441, 752.4492, 1148.4448, 1148.4402, 752.4226, 752.81885, 1145.4283, 1148.4401, 1148.4076, 752.43616, 1062.3126, 1148.3961, 1148.4448, 883.83716, 752.60974, 1148.445, 1148.4448, 1146.6526, 752.57874, 946.1223, 1148.3372, 1148.4447, 752.6654, 781.6561, 1148.2462, 1148.445, 1148.4448, 1148.3475, 1148.4442, 1148.4066, 1056.4669, 1148.4442, 1109.0854, 1148.4302, 1148.444, 1140.2849, 1148.4418, 760.4995, 1148.4448, 1148.445, 1148.4447, 934.1842, 1148.4448, 972.2783, 1148.444, 1101.1798, 1148.4442, 754.7742, 1148.4446, 1055.3809, 1148.4435, 1146.0032, 1148.437, 1144.2058, 1148.4445, 1148.4254, 1147.723, 1148.4315, 1148.4432, 1148.4447, 1122.5006, 1146.5275, 1148.4447, 752.90015, 1144.3795, 1065.535, 1148.4434, 1148.444, 764.24695, 1148.43, 1148.4359, 1148.4425, 1148.2432, 985.2788, 1148.4432, 1148.4434, 1148.4382, 1148.3434, 1148.421, 1058.1919, 777.1787, 1148.4448, 1148.445, 1004.95764, 1148.4441, 1074.2383, 756.12695, 1148.4327, 1148.4401, 1148.4436, 1148.432, 879.95605, 850.3241, 1148.4415, 799.12805, 1148.4447, 757.9064, 1148.4043, 1148.4427, 1148.4448, 1148.4447, 755.32385, 1075.0577, 1148.4352, 962.1045, 1020.19763, 752.4602, 803.32007, 1148.2805, 914.4175, 1148.4402, 757.4221, 1148.3999, 1148.4342, 1147.1245, 1014.0698, 1148.4312, 1148.4417, 1148.4321, 1148.4435, 1148.4296, 1148.4445, 752.93176, 1148.4349, 1148.4427, 1108.499, 1148.3864, 1148.4344, 1148.4274, 1148.4388, 1148.4313, 752.45667, 1148.4042, 1148.421, 1148.4447, 1148.4443, 1148.4437, 1148.4427, 865.80505, 752.4967, 1148.4434, 791.60913, 1148.4321, 1148.445, 1148.441, 1028.8882, 755.6625, 1148.4447, 1148.3939, 1148.445, 1148.346, 1148.4445, 1131.8007, 1065.7646, 1063.6661, 1148.4174, 1097.6699, 1148.4445, 1148.4442, 752.46277, 754.5366, 1041.5306, 1148.4426, 1148.4358, 788.6216, 1128.9918, 1148.4441, 1082.569, 1148.4448, 1147.4823, 752.57544, 1079.658, 796.4531, 1148.288, 1148.4425, 1148.4414, 1148.4443, 753.0065, 752.4321, 912.53284, 1148.4448, 752.4469, 752.8324, 969.7495, 929.5282, 1148.444, 1148.4258, 1148.3882, 1148.4442, 1148.4448, 890.77686, 1148.4447, 1148.4303, 1148.4445, 1148.4446, 1148.4252, 759.32227, 1148.445, 1148.4445, 982.39954, 752.55615, 1017.146, 1148.443, 752.43933, 1148.4447, 1088.7806, 1086.5391, 1148.4441, 1148.4447, 1148.4205, 1148.2836, 1148.4182, 1148.4188, 757.9347, 1148.4393, 1148.4448, 1148.4448, 1148.4447, 1148.4447, 1148.4448, 1121.5325, 806.5387, 1148.4426, 1138.722, 1148.4447, 1049.414, 1148.4448, 946.9004, 1148.442, 1148.4447, 777.0143, 1148.4438, 752.5349, 1148.4342, 1148.4447, 1148.4347, 903.6666, 1148.4447, 959.07166, 1148.4396, 1148.4443, 1022.8008, 1148.4446, 1148.4447, 1148.4375, 1046.0967, 1000.7472, 977.33484, 1148.4421, 1148.424, 1148.4027, 1148.4363, 1148.4312, 1148.3634, 1148.4438, 1148.4048, 1148.3231, 1091.9249, 764.2814, 1148.4391, 1148.434, 1148.4395, 1148.4442, 1148.3801, 993.9275, 1148.4448, 1148.4448, 1148.444, 1148.4437, 1148.4448, 882.36633, 1085.1862, 752.5869, 893.09753, 1100.1803, 939.7074, 1148.4445, 752.7245, 1004.3373, 1148.4442, 752.4862, 934.2283, 1148.4446, 1148.4448, 904.31836, 984.41455, 1148.4437, 1148.4424, 906.6798, 752.7949, 1148.4318, 1148.4448, 1148.4446, 830.7366, 1025.1523, 1148.4335, 1148.445, 1115.0618, 1148.4437, 1148.443, 1148.4424, 1123.1698, 1148.441, 752.4612, 1065.7817, 1148.4257, 1148.4448, 1148.438, 1144.673, 752.58606, 807.13696, 1148.445, 1148.445, 752.46606, 1148.4448, 759.0432, 1143.485, 1148.4281, 1147.713, 1148.4446, 1147.8883, 768.563, 810.4072, 752.97876, 998.7284, 829.1549, 845.6024, 1076.7269, 1148.444, 1148.445, 1148.4448, 1148.4392, 753.62366, 813.58276, 1000.36536, 765.9158, 1148.4388, 1148.4447, 753.51294, 1148.4447, 752.42346, 1101.4535, 1120.5095, 1148.4448, 800.83923, 767.05493, 1148.4197, 807.5028, 1007.09814, 1148.3397, 1148.4435, 1064.3672, 1148.4445, 1148.4445, 1148.0604, 1148.3987, 1145.9634, 1148.4442, 1081.6044, 759.60596, 1148.4218, 775.6094, 1148.4448, 1148.4319, 1055.3689, 1148.4304, 1148.4445, 752.41174, 1148.3597, 1148.4445, 752.42615, 1148.4025, 1148.4445, 928.9148, 753.0586, 860.1666, 752.5615, 1148.4448, 1148.4447, 1148.445, 753.56445, 1148.1312, 870.6062, 1148.4342, 1006.1775, 1016.37134, 752.86743, 1148.4446, 758.69116, 1148.4446, 1069.3451, 964.5681, 1148.4448, 1148.4447, 755.7123, 1063.6266, 1148.4442, 1148.4446, 1148.4436, 818.375, 1148.4442, 1148.4446, 1148.4343, 1036.6489, 1148.4448, 1053.3766, 1148.1912, 1148.4447, 1012.91345, 1148.4442, 767.9645, 839.82166, 1148.445, 1148.4426, 957.2948, 1148.4075, 931.7124, 1148.4417, 1148.4448, 753.8684, 1148.4426, 752.5277, 1148.4266, 866.2262, 1148.4133, 1131.7476, 947.3557, 752.4514, 802.3723, 1148.4447, 968.65625, 1148.4167, 829.1433, 753.229, 1148.445, 1148.4435, 753.82117, 1048.862, 1148.4413, 752.42114, 1148.445, 1148.426, 1148.4427, 1148.445, 897.052, 1148.4443, 1093.0254, 1148.4446, 1148.4446, 1146.8976, 916.05884, 1148.4254, 1143.0145, 1148.2793, 763.3496, 1148.4435, 1145.2471, 820.5493, 1148.4441, 1148.4447, 1148.445, 1048.6599, 752.7894, 752.4364, 798.67615, 1002.01746, 1148.4435, 1148.4448, 881.35645, 758.74866, 1148.4446, 1148.4447, 1148.4261, 1148.4445, 1148.4441, 1113.8129, 1148.4034, 752.417, 861.8119, 755.6107, 1148.4008, 1148.4445, 809.0969, 1148.4403, 1148.4448, 1054.0796, 892.69946, 1148.4448, 1148.4435, 868.6105, 866.93115, 752.4353, 1148.4447, 1148.444, 1148.445, 1031.1415, 1148.4435, 1148.4446, 839.92944, 1028.501, 754.078, 1148.4446, 1148.4344, 1082.097, 1058.8971, 1148.4429, 752.5051, 1148.4445, 828.5552, 752.6, 1148.4413, 1057.7914, 752.4707, 924.0737, 752.81445, 945.6019, 752.41187, 1148.4379, 844.05383, 1148.4352, 1148.4446, 1148.4445, 1148.4445, 1148.4426, 985.00745, 1148.4249, 1148.4402, 1148.4124, 764.0488, 989.18665, 1148.4445, 1148.4209, 857.83496, 752.59644, 1148.42, 1148.2283, 1148.4447, 1075.9115, 1148.4423, 1148.4445, 752.64, 1148.4441, 1131.8212, 981.09485, 1148.445, 1148.3582, 752.5342, 1148.4385, 1148.444, 1148.4448, 1148.4425, 1148.4447, 1138.2397, 1023.27246, 1148.4128, 1148.417, 1148.4447, 806.2294, 1148.4435, 1148.4448, 1148.4392, 1119.6945, 1122.8525, 1148.4442, 1148.4434, 1018.7737, 1148.4382, 1121.2616, 1148.4354, 1148.4446, 753.516, 1021.4944, 1148.4402, 789.29834, 1148.4448, 1148.4161, 852.9437, 752.8463, 1147.923, 1148.445, 1148.4386, 1148.4386, 1148.4447, 1148.4448, 1148.4327, 1148.4437, 1148.4447, 1148.3811, 814.89307, 1132.0107, 1148.4448, 1091.476, 1148.445, 806.3981, 917.4458, 1148.4448, 755.6084, 1132.6873, 1148.444, 753.27356, 1148.445, 1148.4447, 1103.5398, 852.12964, 1148.4432, 1148.4381, 1148.4152, 1063.7302, 1142.3375, 852.4602, 1148.4196, 1148.4232, 763.89075, 1144.3746, 1148.4008, 778.57007, 1148.444, 908.68286, 1148.4442, 1148.4446, 883.23, 930.0327, 1148.4388, 1148.4413, 755.40234, 1011.6566, 1148.445, 753.181, 1148.4156, 1148.4064, 1099.117, 1097.3107, 1148.4323, 1148.4448, 1148.4448, 889.2815, 1148.4447, 1148.4446, 1148.4298, 1148.4446, 754.43286, 1148.3162, 752.4935, 1148.4443, 1148.4427, 1002.7991, 898.41296, 1148.444, 1148.4232, 1106.895, 752.9907, 1148.4447, 1148.4427, 1148.445, 1148.419, 752.6555, 781.1521, 1147.42, 1148.4447, 1148.4443, 752.74536, 752.6311, 1148.4427, 1095.8167, 1148.444, 758.98254, 1118.7987, 752.6, 932.4496, 1148.4342, 1148.4447, 1148.4447, 1148.4447, 1071.299, 1148.4442, 1148.443, 1148.4435, 872.46814, 752.6383, 1148.3955, 1148.4425, 1148.4417, 879.35754, 827.90125, 1148.409, 752.4905, 1148.4447, 1148.4283, 764.8627, 766.2294, 1000.307, 1148.4443, 1148.4447, 752.704, 1148.4434, 757.2843, 1093.0807, 1148.4436, 1148.4413, 1027.901, 1148.4447, 1148.4147, 942.2169, 1148.4445, 1148.4447, 1148.4369, 1148.4407, 944.0906, 1148.4357, 955.34326, 1148.4397, 1148.424, 1000.36536, 752.68115, 754.7395, 1148.4443, 1148.4445, 884.36206, 932.9259, 752.4092, 755.6178, 1148.4347, 1148.4446, 752.4618, 1148.4427, 905.57605, 1148.0776, 1148.4146, 853.41675, 1148.444, 1148.4443, 1148.4447, 829.2019, 1148.4261, 1148.4445, 752.4894, 836.376, 754.47424, 886.39856, 752.4215, 1148.4384, 965.1195, 1148.4436, 1148.4347, 995.9574, 1148.444, 904.1492, 752.4132, 1148.4448, 855.13464, 1148.4442, 1147.9752, 1148.4448, 752.83484, 1090.5076, 1148.4447, 1148.4159, 1148.3275, 1148.4447, 1148.4423, 755.4603, 1148.4412, 1148.4312, 761.2185, 752.459, 1128.1093, 1148.4448, 1148.4448, 835.75696, 974.70435, 1148.4407, 877.54236, 1138.17, 1089.58, 754.0559, 752.50037, 754.68005, 1148.4446, 1148.4445, 980.8705, 1148.4446, 1148.4437, 1148.3636, 755.2471, 1136.3284, 799.13074, 1148.424, 982.84155, 1148.4154, 1002.2135, 1148.4446, 752.525, 1148.4446, 1148.2761, 1148.4407, 754.08936, 1124.4155, 1148.4408, 1148.4403, 1148.443, 752.7838, 1148.4418, 752.5471, 1148.4381, 758.80115, 1148.3629, 845.80457, 1148.372, 913.23804, 1148.4121, 932.9016, 1148.4258, 752.4169, 1148.4424, 1148.4434, 1147.9731, 1147.932, 1148.4203, 1024.3319, 1148.445, 1148.4358, 1119.2186, 1148.445, 753.0083, 1148.443, 1055.9368, 958.4171, 1148.4447, 752.69336, 1148.4448, 1148.4448, 1148.4382, 856.47705, 1148.4059, 1148.1764, 1148.4327, 752.65784, 1148.4448, 1148.4283, 1143.1271, 752.41296, 1148.4448, 1148.3721, 1148.4448, 752.4779, 1148.4446, 752.4165, 1019.318, 1050.1278, 966.9468, 1148.4445, 1073.9889, 1148.4437, 1148.2677, 1128.0255, 1058.1987, 1148.4417, 1148.4447, 765.5807, 755.25464, 1148.4445, 1148.4036, 753.0985, 1148.4445, 1148.4445, 1148.3466, 1148.4325, 1022.90234, 1148.4447, 1148.4447, 1148.4429, 1148.4447, 981.4614, 762.5165, 1148.4448, 884.3126, 806.9396, 1058.8394, 1148.2399, 1148.4442, 1048.4935, 1148.4435, 1148.4417, 1148.4406, 1148.3663, 1148.4431, 870.8208, 1042.3219, 766.29785, 1148.444, 987.7676, 933.6974, 752.42786, 799.1168, 1148.4365, 1148.4325, 752.47046, 1148.4318, 1148.4448, 1148.4315, 821.2998, 810.65137, 1148.4213, 915.54553, 1148.4408, 1148.445, 1148.4437, 1148.4447, 1148.445, 1148.4446, 797.63074, 1148.4427, 859.7754, 816.5669, 783.59033, 1148.4313, 762.97327, 752.45935, 1148.4446, 1148.4287, 754.14026, 923.9042, 752.8468, 1148.438, 1069.074, 1148.4446, 1148.4447, 752.7527, 1140.6879, 803.1118, 947.7096, 1148.4448, 1148.4448, 752.4231, 1148.442, 1148.4384, 752.4198, 911.9994, 1148.4431, 1148.397, 1148.4161, 1148.4446, 767.9645, 1148.208, 1030.5637, 1148.4447, 895.0924, 752.7351, 761.3812, 752.4447, 1148.4447, 1088.3682, 1148.4448, 807.9669, 1148.4417, 1148.4352, 752.43225, 1148.4304, 1148.4401, 1063.5187, 1148.4429, 1148.4448, 1148.445, 829.2667, 1148.4308, 1148.4447, 989.6594, 752.44666, 1148.443, 1148.4142, 1148.4448, 1148.4425, 1148.4448, 1148.4437, 1148.3868, 981.69495, 1148.3525, 1147.8429, 1148.4447, 1092.0586, 1140.2101, 1148.4447, 891.6598, 1148.4447, 1117.9845, 1148.444, 914.3563, 1148.4163, 753.2626, 1148.4438, 1148.4164, 901.26416, 754.4657, 809.2787, 1148.1213, 1148.3448, 752.4457, 753.208, 1148.437, 984.9021, 1003.21326, 833.6466, 1065.3201, 1070.7468, 1148.4447, 780.5415, 1140.7009, 1140.382, 755.13794, 1070.7189, 1148.4395, 1148.4436, 1004.7357, 1148.4447, 752.74854, 752.7595, 752.6593, 1148.4415, 1148.4448, 1148.4385, 1146.838, 1148.4447, 1035.8965, 1148.4441, 1148.4382, 1148.383, 1148.444, 1148.4427, 838.95374, 985.6561, 1148.4425, 1148.4397, 752.4852, 1148.4419, 1148.4446, 752.80066, 1148.3573, 1148.4448, 828.9562, 1148.4327, 894.88965, 752.7146, 1148.4331, 1034.2896, 752.49646, 1002.1715, 1148.4396, 866.6144, 1148.4221, 752.6061, 1148.4448, 1112.6804, 752.5962, 752.7595, 1148.3497, 827.28784, 844.28357, 1065.3119, 820.01917, 969.7046, 752.6908, 752.4243, 753.42065, 1148.4432, 1148.4447, 1148.439, 1148.4445, 1148.4443, 1148.444, 1148.4435, 1148.444, 1148.4435, 969.6377, 889.5791, 933.625, 1148.444, 1148.4371, 772.05334, 753.1969, 1148.4403, 854.08435, 1148.4446, 1148.4432, 1014.88513, 752.68726, 1148.4435, 907.499, 948.8491, 752.41003, 914.97986, 752.96106, 923.94165, 889.6665, 1148.4426, 1148.4308, 1148.4312, 1148.4445, 977.881, 752.4133, 1148.4423, 858.25134, 752.9669, 1148.4121, 857.5204, 1148.4437, 1148.4232, 1148.4435, 754.7599, 1148.4426, 1148.4135, 844.78064, 1148.4436, 1148.288, 1148.4413, 1063.017, 753.3589, 929.9723, 1148.4431, 1026.5609, 1148.4445, 800.90686, 1009.3187, 1148.4448, 1148.4447, 1148.4384, 1148.4441, 1148.441, 876.6361, 1148.4447, 1148.445, 874.35095, 1148.4427, 1148.4442, 1148.4446, 879.0918, 752.54724, 752.5217, 1041.1462, 1148.2472, 818.4375, 1148.4408, 1148.445, 1148.4396, 1093.8136, 752.4845, 877.944, 1148.445, 840.5702, 1148.4303, 1148.4448, 1148.4447, 1148.4447, 1066.2637, 1148.4442, 1003.54175, 1148.4448, 1058.1293, 1147.856, 1148.4447, 1148.4448, 1099.3464, 1148.445, 1148.4447, 1148.4447, 897.36475, 766.11914, 1148.4448, 1148.4269, 1148.444, 1039.7615, 1141.0566, 1148.4442, 812.8529, 1148.445, 965.24915, 766.5331, 943.0912, 1148.4447, 1148.4434, 1148.434, 1148.4373, 1148.4448, 1148.4352, 753.8303, 897.5742, 1148.2739, 752.8391, 1148.4363, 1148.4435, 1148.4446, 1148.4437, 1148.4435, 753.1953, 910.2523, 1009.2246, 1148.4222, 1148.4448, 1148.4447, 836.56433, 1148.3807, 894.5167, 1148.4445, 1148.4259, 1022.3552, 1148.4362, 1148.4447, 1148.4445, 890.46497, 1148.4049, 753.3071, 1014.47363, 1148.4341, 1148.4447, 1148.445, 1075.064, 1048.7932, 1148.3817, 1148.4447, 1148.4287, 1148.4382, 1066.317, 820.8192, 1148.4352, 1148.4432, 752.43604, 754.8076, 852.05237, 1012.3895, 858.43945, 1148.4406, 753.81226, 1147.6272, 1148.4369, 1148.445, 1113.0033, 753.3074, 1148.445, 1148.4401, 1148.444, 1055.5883, 765.261, 1148.4447, 950.7888, 1148.4437, 1148.4436, 1148.4448, 1114.0996, 1148.4447, 1148.4448, 1148.4386, 1148.4442, 1148.4125, 1148.4447, 753.4552, 1148.4447, 1148.4375, 1148.4446, 983.90906, 1148.4403, 901.8281, 1148.4445, 1148.4435, 1001.3578, 1148.4448, 927.6207, 752.4391, 1148.4442, 972.70764, 844.87976, 849.2007, 1062.9167, 1064.1785, 752.41187, 1148.4443, 1148.3771, 752.563, 1148.4446, 1148.4025, 1069.3363, 1075.9149, 1148.029, 1148.4423, 1148.4347, 1148.4447, 1148.4419, 752.4613, 1148.4435, 760.022, 1148.4445, 1148.4354, 752.46484, 1148.444, 755.22266, 1148.444, 812.98706, 1148.4393, 1148.4435, 1148.4357, 1148.4429, 752.54236, 867.74146, 752.52295, 755.63477, 836.8104, 1148.4447, 1087.429, 1148.4415, 1037.6221, 1148.4447, 1009.2616, 763.29456, 754.2195, 1148.4421, 919.1041, 754.006, 1148.4438, 1148.4432, 756.4927, 1004.6465, 1148.2899, 1148.4052, 920.4072, 976.08997, 1148.4445, 1148.4192, 1145.8451, 1148.4424, 810.73157, 1001.1797, 1148.4437, 933.52747, 1148.4446, 1148.442, 1148.4222, 756.2904, 1148.4333, 981.8645, 1148.4402, 753.48376, 1148.445, 1148.3429, 1148.4448, 1148.4445, 1148.3713, 1039.2946, 1001.8718, 992.0609, 1148.4097, 866.70935, 1148.445, 752.42883, 1148.4443, 782.94617, 1148.4423, 1148.4442, 1148.4437, 962.5227, 896.4513, 1148.4443, 808.3634, 1148.4441, 871.9209, 1148.444, 1148.4447, 1148.4313, 917.2661, 1148.4446, 935.954, 1148.4418, 1105.425, 819.88, 752.4701, 753.66565, 1148.4336, 1148.4442, 1148.2827, 752.495, 760.2506, 752.42834, 848.47754, 1148.4445, 759.52893, 1148.4434, 1148.4244, 1007.66907, 1148.4442, 1148.4426, 1148.3167, 755.3247, 1148.4434, 1148.403, 1056.9053, 755.1726, 1147.3579, 752.8612, 756.5493, 837.3605, 1148.443, 1148.4188, 1148.4445, 822.97485, 992.0609, 841.1864, 1078.0953, 1148.4446, 1119.316, 1148.442, 770.0266, 1148.441, 1148.444, 1006.78723, 1148.444, 1148.278, 752.4602, 1007.38525, 752.4182, 1148.4446, 752.47363, 965.9387, 752.4735, 1073.5181, 1148.4448, 1148.442, 1102.9199, 801.1904, 1148.4442, 1148.4447, 752.4171, 1148.4448, 1148.4355, 1012.28467, 1148.4396, 1148.4432, 1148.4448, 752.5333, 1020.3683, 1148.4432, 1111.3656, 1148.4445, 1084.1544, 1148.4448, 1148.4406, 752.5681, 752.4972, 843.3346, 786.8618, 1148.4445, 1148.445, 753.0095, 1148.4369, 979.06006, 1148.4447, 1147.9515, 1148.4426, 1148.4445, 752.49646, 752.42505, 1148.4432, 1148.4266, 1145.5066, 1104.3628, 1148.4447, 852.4592, 1148.4401, 927.0851, 1148.4435, 853.4109, 791.1625, 752.5178, 1062.8671, 1026.3688, 754.1311, 1148.4437, 822.59766, 1148.4438, 810.58057, 752.4785, 953.5679, 822.5851, 1148.4447, 841.4668, 789.5049, 980.63684, 1148.4448, 1148.4419, 1148.423, 753.1527, 752.9817, 1148.4413, 1148.4446, 1148.4448, 755.5939, 844.7516, 754.0277, 1148.4448, 1011.09607, 1148.406, 1148.4388, 1087.9194, 1148.4447, 830.7921, 752.4308, 1148.4406, 752.97363, 826.96497, 1012.4076, 1134.1128, 1148.4435, 754.97473, 1035.5787, 907.23096, 958.16406, 814.2433, 1148.4442, 1023.9535, 1148.4386, 1148.4414, 1148.4448, 1148.4385, 1148.4386, 1148.3976, 1148.4447, 1117.2104, 1102.6338, 1148.4442, 1015.97546, 1148.4246, 1148.319, 1148.3168, 777.905, 981.73987, 1148.4281, 755.0548, 1052.2174, 1148.4171, 1148.4408, 1061.7476, 1148.445, 1148.4406, 1001.23315, 1148.4435, 1146.841, 1148.4427, 1148.4214, 1147.7372, 752.7634, 1148.4344, 1148.444, 1148.4393, 845.12195, 1148.4447, 1148.4435, 1138.2589, 1055.5276, 803.6123, 1148.4352, 1148.4398, 1148.4298, 1148.4443, 1075.6744, 1148.4369, 1148.4448, 1148.4398, 1148.4448, 1148.4445, 1148.4235, 1148.4446, 1148.4403, 810.52026, 1148.4038, 1148.4446, 1148.4447, 1087.4253, 822.11523, 753.19104, 783.7999, 752.54224, 1068.0928, 1148.432, 1068.3195, 1082.0873, 1148.4442, 1098.0088, 1148.4437, 1148.4447, 838.9966, 752.4381, 1148.4182, 1148.445, 1148.4442, 1148.4312, 880.15405, 939.1233, 1148.4266, 1148.4446, 752.44727, 1148.4279, 872.5919, 1148.4268, 1137.2968, 752.82214, 1148.4446, 1148.4447, 1148.4315, 757.688, 1039.8495, 1019.75745, 992.1631, 752.4335, 1013.9501, 1148.4373, 1148.1991, 1065.1482, 1148.4397, 846.0228, 1148.4261, 752.6969, 1087.2747, 1148.4413, 1148.4448, 812.47546, 1148.4441, 758.548, 1148.4443, 1146.9126, 875.59033, 1148.444, 1148.4379, 886.41565, 1148.426, 1148.444, 1148.4413, 1148.4446, 753.97375, 1148.4448, 1148.4161, 1148.4432, 1017.0077, 1148.4448, 1148.4447, 807.7119, 926.345, 1148.4442, 752.4127, 1148.4419, 1148.4377, 1148.4432, 833.5071, 1148.1255, 807.1139, 1148.4448, 1068.7844, 753.23193, 1148.4122, 1148.4445, 1148.4447, 1148.441, 752.42224, 858.3176, 1148.4441, 752.41956, 1148.4448, 1145.756, 1148.3821, 752.89355, 1148.4448, 1148.3898, 1148.4442, 1087.1644, 752.4612, 1148.4303, 848.9863, 1148.445, 1148.3982, 1148.2761, 1148.4442, 1148.4443, 1148.4353, 985.37256, 1148.4323, 1148.4347, 752.6377, 1148.445, 1148.4446, 1148.4193, 1148.445, 904.4719, 1148.4448, 1105.1672, 753.2196, 1148.4448, 1148.4448, 1097.461, 1148.4266, 799.9181, 1148.4191, 764.9752, 943.2435, 1148.4312, 752.4138, 762.0221, 1148.4447, 1148.4222, 1148.4386, 1107.606, 1148.4283, 1148.4447, 1148.4435, 1145.1556, 1112.3032, 1148.4435, 1148.445, 1074.055, 1148.4448, 1143.43, 756.13696, 1148.4366, 1148.4445, 1148.4066, 962.4651, 1063.1124, 1148.4381, 876.30786, 1148.444, 1148.4403, 1006.1731, 1148.4309, 1148.4447, 1148.4447, 917.20935, 1148.4447, 1148.4015, 837.2239, 1148.445, 1148.4448, 1148.423, 793.7014, 1147.6859, 1148.4447, 1148.4447, 1148.4326, 1148.4012, 976.7197, 1148.4445, 940.26025, 1148.4448, 1148.4437, 1148.4442, 848.11865, 1148.4418, 754.3246, 1137.5065, 1009.6553, 873.8157, 989.1194, 941.89404, 1148.4437, 1123.7144, 1100.0482, 1148.4269, 1148.4447, 1148.4448, 1111.3656, 1148.4235, 1148.4448, 1053.5734, 753.55334, 1148.3988, 756.3574, 1148.4298, 953.812, 1148.3411, 978.1063, 903.0342, 863.3773, 1148.4447, 1148.444, 1119.8008, 1025.9949, 1087.0195, 754.676, 1018.36755, 1148.4446, 753.20435, 934.2042, 1095.026, 803.0431, 1148.441, 1072.5902, 1148.445, 1148.4442, 753.1388, 760.28125, 1148.4445, 752.6759, 888.5227, 1148.4445, 1147.814, 958.145, 1148.389, 1148.4122, 883.9657, 997.08765, 803.63306, 1075.3563, 753.26953, 1148.4264, 1148.4445, 761.2446, 919.1084, 1063.2491, 1069.0222, 1147.7406, 985.5803, 803.0182, 752.5132, 1111.5864, 752.56555, 1148.4413, 1147.8639, 1148.4446, 1037.4796, 1148.4097, 839.84924, 1043.6051, 1148.4391, 1148.4447, 752.5867, 1148.44, 1069.8519, 754.13354, 1148.4429, 1025.5737, 1148.4448, 1148.4448, 1148.4252, 1036.1443, 1148.4366, 1148.4443, 1148.4448, 1148.4445, 1148.4279, 1148.4403, 841.7573, 1010.5697, 1148.4147, 1148.4404, 1147.5342, 1148.4136, 979.0525, 1008.6421, 1148.4436, 752.4219, 1148.4409, 808.9147, 1074.2692, 1148.4447, 972.07214, 946.7018, 1148.444, 1148.4412, 1148.4448, 1148.443, 1148.4447, 1148.4325, 777.1293, 1148.4441, 752.4087, 1135.209, 752.6201, 778.3181, 883.68555, 752.5824, 1148.4445, 752.5753, 1148.4424, 1102.518, 1148.444, 752.4321, 752.5419, 875.68567, 992.0901, 1025.868, 1020.53564, 942.4291, 1148.4448, 1148.4448, 753.0797, 979.062, 1148.4445, 1147.9493, 1148.4401, 1019.45264, 1085.3688, 1060.0876, 1058.444, 972.6947, 1148.4447, 1148.4445, 833.55835, 1148.4448, 936.3629, 1148.4421, 910.7588, 752.46216, 1148.2438, 1148.4447, 1148.4448, 1148.3204, 755.29553, 752.4227, 1148.445, 1148.4447, 816.49634, 1148.444, 1148.4448, 1148.4447, 899.3727, 1148.203, 820.9098, 752.7621, 1148.4403, 1056.3405, 906.0852, 891.6826, 1148.4448, 995.8356, 1148.445, 1148.4368, 1148.4441, 1071.2977, 752.49634, 1148.4436, 1148.4419, 1148.4447, 1148.4279, 1042.6912, 1073.1959, 1148.445, 1148.443, 1148.4437, 1148.4279, 894.86145, 1148.4447, 1148.4437, 821.4397, 1148.4441, 1148.443, 1136.108, 1148.4092, 1148.4448, 846.6625, 1026.0963, 752.4335, 1148.4401, 1032.0369, 978.6188, 1148.4425, 1148.4446, 1111.3785, 752.74365, 752.41797, 1148.4446, 1148.4447, 752.4783, 1148.4213, 1148.4093, 975.46924, 1148.1218, 1148.0984, 1146.484, 1034.7509, 1148.389, 1095.6907, 1148.4436, 983.2909, 835.3314, 1148.4441, 753.05554, 1148.4442, 752.7263, 1148.4438, 1013.0326, 1033.7417, 1148.4366, 1148.1874, 1148.4274, 753.7462, 802.8856, 1148.4448, 752.5167, 1063.224, 1148.3319, 1148.4421, 819.4779, 869.9525, 755.5658, 1146.258, 1148.4448, 1148.4447, 1148.4388, 1135.956, 1148.4446, 1148.3776, 1148.366, 1148.4448, 905.00684, 1148.4435, 928.90894, 931.80945, 767.98145, 986.2749, 1148.445, 1148.4401, 1148.4447, 752.4158, 900.10767, 752.4282, 1062.0685, 752.43774, 763.7052, 752.4221, 1113.6901, 1148.4359, 1148.4441, 1135.7734, 752.4374, 1133.0616, 1148.4448, 994.58374, 1148.4448, 1148.4441, 1148.3628, 1148.4445, 1148.445, 1148.4447, 1095.7891, 1148.4401, 809.8578, 1019.27844, 1148.443, 1148.443, 1148.443, 1148.444, 759.1633, 1148.4441, 1148.4401, 1148.4448, 1105.8752, 963.546, 1148.4226, 775.4918, 965.6107, 999.9575, 1148.3967, 1148.4429, 758.65283, 931.1189, 752.4396, 753.4147, 892.2285, 895.235, 1148.3397, 1148.4445, 1148.4388, 988.0051, 1148.4432, 1148.4447, 1148.444, 1064.0167, 752.5427, 876.21594, 1148.4127, 872.13574, 1148.4447, 1148.4448, 1148.4432, 868.66394, 821.5492, 753.4668, 1064.0444, 1148.445, 808.3627, 753.08264, 752.8457, 911.42126, 916.69055, 930.02673, 813.41077, 955.1017, 1147.5052, 1148.4442, 825.97217, 772.74646, 1148.4445, 759.02576, 1148.4247, 991.29846, 1148.4258, 1148.4432, 1148.4427, 1148.4323, 1118.2046, 752.72314, 1148.4396, 927.6477, 1148.2974, 1148.4425, 879.3236, 1148.444, 1148.4336, 1148.4423, 1041.4023, 1148.444, 957.1113, 752.43884, 1147.8873, 833.28687, 752.5277, 1148.4225, 1148.4447, 1148.4441, 1113.4167, 1148.2754, 1148.4447, 1148.4445, 907.1035, 752.53235, 1148.4443, 1148.4437, 1148.4167, 752.5802, 1148.4447, 1148.439, 1148.445, 1148.4425, 1148.4443, 1047.037, 1148.445, 1148.3322, 752.46497, 752.4707, 1148.4283, 752.56335, 754.3507, 1148.445, 1140.1896, 1148.4445, 932.5449, 1120.2334, 976.86926, 1148.4447, 753.15027, 790.5962, 752.42566, 808.51807, 1148.441, 1148.4014, 753.4542, 1148.4448, 1148.4447, 1148.4436, 1148.2627, 1022.13684, 942.307, 752.4242, 753.25635, 884.05066, 758.32043, 1036.886, 915.60266, 752.4247, 842.0813, 989.869, 758.1798, 1148.4447, 1048.8945, 1148.4105, 811.9022, 1148.4076, 756.3347, 942.06885, 1048.5426, 753.59094, 1134.011, 846.0228, 1138.0792, 1091.6409, 1092.4008, 1148.4442, 755.3501, 752.4645, 1148.4442, 881.67065, 1148.4401, 973.0386, 1148.4415, 1148.4436, 1148.4443, 753.8888, 1148.4435, 1148.4431, 1148.4153, 1148.429, 1148.4398, 1148.4436, 753.0447, 1148.4249, 1005.9779, 1148.4447, 1046.335, 1148.4447, 914.3264, 1148.4447, 1148.4445, 854.6832, 1148.4419, 1148.422, 777.0029, 1077.7438, 1127.6403, 903.3522, 1148.4448, 1148.3707, 1148.402, 1148.4156, 1148.4448, 1148.4448, 1148.419, 756.4297, 996.6543, 1148.4293, 1148.3938, 1148.4447, 1148.4426, 1148.4329, 1148.445, 752.48584, 752.4304, 1017.9606, 1148.4348, 1148.4448, 1148.4183, 1148.444, 1148.4447, 1148.4448, 1050.945, 1148.4318, 1148.4177, 901.63, 752.4989, 1148.4347, 1148.4073, 1148.4448, 757.96497, 849.70496, 1148.4243, 1148.445, 1148.4429, 1148.4426, 1148.4442, 1145.2898, 818.85864, 903.64514, 821.04517, 1055.2823, 1148.4435, 1128.7177, 805.3241, 792.39185, 1148.445, 782.0465, 760.61255, 1148.4443, 1148.4447, 752.57666, 1115.6198, 752.8937, 1016.26685, 753.80615, 927.0575, 805.7523, 1148.4436, 1148.441, 1148.4065, 1148.4435, 1113.0588, 837.8967, 752.4348, 948.77075, 1148.4426, 1030.3588, 1148.4447, 1148.4402, 1065.1312, 1075.909, 877.8428, 1148.442, 1148.4218, 1029.1074, 1148.43, 1148.4359, 1148.4393, 1148.4442, 970.3318, 1044.5752, 752.95215, 946.0115, 1068.3523, 1148.4447, 1148.4406, 840.3701, 1071.0214, 1148.4448, 1148.4445, 1148.4442, 1148.392, 1148.4447, 1074.5017, 1006.7606, 1148.4414, 952.98706, 757.374, 1035.2441, 760.7097, 1148.4268, 1148.4397, 752.43384, 1148.4443, 1148.4293, 1148.0835, 1148.4434, 1148.4447, 1148.4447, 853.83606, 753.6753, 752.50574, 1148.4435, 1148.4435, 1148.423, 1148.2299, 885.8584, 1148.4447, 830.54724, 1148.3475, 1148.4443, 752.6212, 1148.4437, 1148.4447, 1148.4442, 1148.4313, 1148.4442, 756.1926, 1148.4346, 984.03674, 1148.4446, 752.574, 1148.4429, 1148.4442, 1067.5912, 1148.4447, 752.4104, 756.59314, 752.4385, 972.4857, 1032.4988, 1049.4696, 1148.4423, 1148.442, 1148.4414, 913.25696, 1148.4393, 1148.3794, 1148.445, 1148.4296, 753.5797, 867.8342, 1148.4437, 752.4066, 1148.444, 811.7484, 1148.4445, 754.3771, 1148.445, 835.65564, 1148.4448, 1148.443, 1148.4445, 1148.4261, 1148.4448, 1148.4447, 1051.1772, 1148.4412, 1148.4445, 754.04236, 1115.5867, 878.2333, 1148.4437, 1148.4432, 1148.4413, 1132.6135, 752.54285, 905.6332, 803.48535, 753.3635, 1064.2482, 1148.4447, 1148.4332, 753.08484, 938.37585, 1148.444, 1148.4248, 1148.437, 1148.44, 1148.4447, 1148.4354, 1145.252, 752.4541, 759.01025, 1148.4446, 1148.444, 1097.8378, 1148.4447, 1148.4445, 1023.18933, 1148.3856, 817.71277, 1148.4442, 1148.443, 752.73694, 1148.4423, 1058.8575, 1148.4291, 1148.4222, 1148.4448, 1148.4447, 1148.4296, 1148.4447, 756.3345, 752.484, 1148.4445, 1148.4293, 1016.40356, 1148.442, 1148.444, 1148.4441, 1148.4375, 1148.4445, 1148.4387, 1148.4388, 1148.4369, 1122.861, 1148.4208, 1148.4167, 1148.4398, 1148.4395, 1148.4445, 752.8384, 822.52344, 755.90454, 1094.4437, 1148.4443, 1148.4438, 752.5884, 1148.4447, 842.5443, 1148.4435, 837.0095, 1148.0554, 752.4309, 752.5663, 812.35376, 1116.1829, 1148.4445, 1102.5892, 1091.4617, 1072.0355, 1148.444, 1148.4447, 1146.754, 856.97595, 818.38464, 1148.4425, 833.32336, 1148.3967, 1148.4415, 877.1615, 1148.4437, 876.00146, 870.485, 1148.4448, 1148.4214, 752.45715, 1148.4122, 1148.4448, 1148.445, 752.4192, 752.9645, 1148.4414, 1145.9424, 1148.3625, 953.98926, 1148.4446, 1148.3826, 1148.1534, 752.5974, 915.5217, 1148.4388, 1046.2295, 1148.4447, 753.0685, 1148.2649, 1148.4268, 1148.4346, 1148.4408, 908.11304, 1117.1633, 1148.4438, 1148.4447, 903.59314, 752.5409, 1148.4442, 1148.4225, 1148.4376, 804.8916, 1136.6431, 752.4187, 1082.711, 1023.4817, 1147.2579, 1148.4359, 1148.3531, 1148.4343, 1148.444, 1148.4446, 1148.4438, 1033.0916, 1148.4437, 1148.4314, 1148.4395, 752.5509, 1148.4447, 752.5918, 752.41113, 966.531, 1148.4445, 1148.4406, 982.4508, 752.4303, 933.9043, 1148.4396, 1148.4448, 853.6758, 799.7958, 1148.4447, 1148.1945, 1148.3544, 760.60205, 753.71704, 1148.4366, 1148.4431, 1148.4425, 1148.4435, 791.1835, 1148.4227, 752.45776, 752.4385, 1148.4446, 1148.3229, 752.56055, 1148.4448, 1109.0074, 1148.4408, 1148.4446, 1045.1241, 827.5829, 752.59753, 1148.4445, 932.39355, 1148.4446, 1147.895, 1148.4446, 1148.4437, 1148.4355, 1148.4437, 1148.444, 1148.4441, 1148.4393, 996.2245, 1148.3347, 1013.5205, 1148.3375, 1148.445, 1148.4408, 1141.9562, 1148.4448, 903.4774, 1148.444, 995.6135, 1148.4045, 1148.4447, 806.42114, 1148.4448, 1148.4443, 834.911, 1148.4448, 1148.4373, 752.4595, 1148.4448, 752.4606, 806.03345, 1148.4442, 796.4082, 1148.444, 1148.4402, 752.43494, 1148.4347, 887.57495, 1148.4388, 1148.4447, 841.9507, 1148.4448, 1148.4086, 1148.444, 1025.2623, 752.56616, 1148.3497, 792.4686, 1148.4445, 1134.496, 948.84033, 1148.4421, 811.7837, 1148.4435, 1148.4448, 1148.4447, 1122.0984, 1148.4441, 752.59924, 1148.4415, 1148.4414, 1148.4429, 1108.8083, 1136.04, 957.2578, 1148.4447, 1148.4436, 946.99866, 1055.2236, 1082.535, 1148.4429, 1148.4182, 752.4302, 754.8793, 1148.421, 1148.4352, 1148.432, 1109.3352, 752.4866, 1148.4447, 896.4513, 1148.4445, 1148.4344, 888.72253, 1020.7383, 1148.444, 1148.4197, 944.7052, 1109.9534, 1148.4448, 1061.8641, 1148.445, 1148.4083, 1148.4448, 753.6598, 1148.4417, 1038.341, 1148.4442, 1148.4183, 1125.1648, 914.9497, 886.6594, 985.8707, 1148.4441, 1148.4418, 757.35815, 1148.4298, 997.0598, 752.7318, 1148.4053, 752.6858, 752.46204, 1148.445, 1148.4124, 752.4573, 1148.4286, 1148.4365, 1038.106, 752.4446, 869.5128, 1148.444, 752.41833, 1148.3981, 1143.8513, 1148.4447, 1148.3986, 1148.4362, 1028.0984, 793.1223, 996.49365, 1148.4426, 752.4889, 1148.4381, 1148.4448, 1148.4417, 806.0619, 1148.4446, 878.0137, 1148.445, 893.9595, 773.8873, 753.6444, 1148.4448, 1146.8024, 1117.9409, 1016.28735, 1148.4441, 1148.4445, 1148.4391, 1148.4447, 1148.3756, 1082.0177, 1148.4385, 1148.4419, 797.6157, 1066.8687, 996.65735, 1148.4447, 753.50854, 1148.4437, 1148.4374, 769.6897, 1148.2786, 850.48865, 1148.445, 1128.2816, 1148.4264, 1148.4448, 753.5669, 1148.4193, 1148.4445, 1148.4388, 1148.4447, 1148.4437, 754.5718, 1148.4448, 1148.4421, 1113.2484, 1148.4409, 793.13635, 1029.2986, 1148.4435, 757.905, 1148.4431, 1148.4349, 1054.8549, 1148.4445, 971.9767, 774.5669, 829.2147, 976.8751, 1148.4419, 1148.4437, 1148.4287, 752.42786, 1148.4447, 1148.4445, 1148.1184, 1148.4248, 868.0233, 1148.4443, 1148.4447, 784.54785, 1148.4446, 1148.4279, 1148.3053, 1148.4442, 1148.0345, 792.3672, 954.2561, 1148.444, 1148.4438, 1068.8359, 1148.4442, 1148.4017, 1148.4448, 1148.362, 1056.3131, 889.964, 758.58374, 752.6665, 1137.8126, 1148.445, 1148.4259, 1148.4448, 1148.427, 1148.445, 1059.5721, 1148.391, 1148.4446, 1148.442, 1148.4408, 1148.4445, 1148.4196, 792.00464, 1148.4352, 978.9679, 1084.8318, 1148.445, 1025.0415, 1148.384, 753.567, 753.23376, 1148.4371, 961.8815, 952.0344, 808.46924, 1148.4427, 1148.4315, 1148.4432, 1141.1837, 1148.4362, 1148.4442, 1148.4388, 1148.4448, 752.43774, 1148.4438, 1148.4442, 752.45325, 1148.4153, 752.55835, 1002.2516, 899.7062, 996.1371, 1148.4303, 922.13904, 1148.4386, 1148.4445, 1090.3036, 831.68726, 1148.4447, 926.9863, 925.13635, 752.4419, 816.3987, 799.7958, 754.9209, 1148.4417, 1114.0964, 1148.4425, 752.4403, 975.42725, 873.735, 1148.4435, 1147.9056, 1148.4446, 1148.4384, 1148.4268, 1148.427, 1034.7692, 1148.4437, 1148.4374, 989.2036, 1148.4401, 807.18933, 752.42944, 1131.5631, 1148.412, 898.9304, 1148.442, 1148.4402, 1148.4447, 1148.443, 1148.4441, 776.39844, 753.10876, 948.209, 1148.4448, 1148.4447, 1148.4447, 945.03015, 752.4387, 1148.4325, 894.81396, 1148.4446, 753.4242, 1148.4447, 1148.4419, 760.9248, 1148.4447, 1148.4437, 878.3562, 779.68555, 1148.4445, 1148.4402, 1148.4187, 816.4906, 1148.4375, 1148.4381, 1050.8478, 766.70483, 1148.4447, 1086.8806, 960.7997, 1148.4442, 1148.4403, 1146.6799, 839.2634, 1148.401, 890.0918, 800.1813, 1040.6575, 1148.445, 752.4407, 1148.4426, 752.6078, 1147.6548, 955.5475, 819.47095, 753.2461, 1148.4402, 1148.3947, 1148.4446, 1148.4261, 1081.0476, 753.04333, 1148.4377, 761.55835, 1148.4437, 1148.4447, 1148.4274, 1148.4309, 1148.4448, 1148.4447, 758.2085, 1148.4275, 1148.4197, 773.9353, 1148.4435, 752.4381, 1148.4407, 1148.445, 1074.2604, 1148.433, 766.6284, 938.8253, 1148.4421, 1148.4413, 758.9678, 1148.4445, 861.4453, 1093.5913, 794.74963, 754.29675, 1148.4414, 1055.7639, 1148.4434, 1148.4408, 1148.4414, 1148.443, 1148.4225, 1146.0145, 1147.7642, 900.2483, 1101.5513, 752.42834, 1148.4432, 1148.4172, 924.03455, 1148.2817, 1148.4191, 1081.8717, 1013.0746, 1148.3445, 1106.2418, 752.52136, 752.52856, 753.05884, 1148.443, 1148.4384, 1148.4362, 1148.444, 1148.4447, 1148.445, 1073.7219, 1148.4447, 1148.4335, 1148.444, 899.1913, 867.34204, 1148.4442, 1148.4124, 1148.4447, 885.03186, 752.43835, 1148.4446, 1148.4398, 1032.3148, 1148.4412, 839.5571, 820.9171, 860.29016, 1148.4447, 1047.7078, 1081.1648, 1148.4446, 1143.4305, 1148.4344, 1148.44, 773.1687, 1148.3314, 1147.7233, 1103.2039, 1148.4358, 754.22156, 776.02075, 1103.6132, 1148.4447, 1148.4447, 853.68884, 753.1415, 1148.4447, 991.3054, 1148.4022, 1148.4447, 841.53296, 1148.4443, 1148.4431, 1148.445, 1069.1229, 1027.0128, 1148.4302, 967.25134, 1146.164, 827.22485, 753.4147, 850.63367, 994.7744, 1017.3406, 1044.8065, 1148.4448, 963.2108, 1148.4447, 1075.2815, 1147.8746, 949.13293, 1148.4358, 1147.9343, 871.90894, 1148.3715, 752.4348, 1148.4432, 1148.4387, 1148.4335, 1148.4355, 1148.3422, 752.7252, 1148.0823, 1148.4445, 1148.4418, 752.93884, 752.6411, 959.8677, 1148.4009, 1148.4418, 983.7599, 967.15393, 755.62964, 1148.3551, 946.34326, 1027.3654, 1148.4305, 1148.4333, 1148.4427, 752.69495, 914.8535, 752.5287, 1087.56, 1148.444, 995.8417, 1001.18665, 752.4369, 762.08105, 755.3519, 1148.4291, 1148.4448, 1054.5492, 1148.4442, 753.12354, 1118.1208, 1148.2511, 999.256, 1072.1719, 978.0349, 1069.8486, 1148.4446, 1148.405, 1148.4447, 1058.5531, 752.4872, 969.16125, 752.48865, 1148.4447, 1148.4288, 755.41223, 1046.0836, 752.76135, 1148.4447, 1148.4353, 1148.4442, 1148.4426, 1148.444, 830.6664, 1148.4014, 997.48303, 1148.4447, 1148.4419, 1141.2788, 1148.429, 1148.4445, 935.0746, 1043.9523, 1148.4447, 1148.2184, 1148.4388, 752.4492, 1044.0923, 756.71875, 1148.4314, 752.5438, 980.916, 1148.4446, 1148.4448, 753.36633, 753.9365, 1148.4447, 1125.4087, 911.1771, 1148.4447, 1148.387, 1148.4448, 1148.3738, 1148.4404, 759.36304, 1147.9563, 894.75525, 923.41675, 1148.4447, 1148.3901, 1148.4337, 1148.445, 1148.4445, 1148.4302, 763.14526, 1148.4445, 1148.4373, 1148.4448, 956.0178, 1148.4291, 1105.7831, 1148.4447, 757.1404, 1148.4413, 1148.4438, 1148.4447, 901.1422, 871.34143, 1004.1311, 752.44336, 1148.4154, 1012.9507, 1148.4447, 1148.4315, 1148.4443, 1148.445, 1148.4347, 964.3407, 1148.2003, 1148.4398, 753.52124, 1101.9159, 1148.4181, 1039.111, 1148.4443, 813.14905, 1148.4441, 1147.483, 1148.4447, 1148.4413, 1148.444, 901.23975, 1148.4402, 1148.444, 1148.443, 1148.437, 1148.4408, 803.9186, 1148.4445, 1148.4447, 1147.2814, 1148.4445, 1148.4445, 752.98804, 1148.4447, 1148.4448, 890.2206, 752.588, 777.9304, 1148.423, 1148.4445, 1148.4203, 1148.4403, 1148.445, 1148.442, 850.23914, 1148.4106, 1148.4169, 1123.7148, 752.49243, 1148.4414, 1005.64197, 1148.4432, 882.4021, 1103.4844, 1148.4377, 978.93396, 1148.4446, 1148.4059, 1148.4445, 799.19934, 1148.4408, 1148.4423, 1148.4442, 1148.443, 955.62134, 1148.4279, 1148.4336, 1148.4434, 1148.4034, 1148.4446, 1148.4188, 919.808, 1148.4359, 873.5449, 1148.4445, 813.84375, 1148.4388, 1147.8545, 888.2831, 1148.4445, 1148.4442, 994.6393, 1148.4436, 1148.4445, 754.9645, 752.4231, 1148.4407, 1148.4427, 1026.0234, 841.5178, 949.97546, 757.8552, 1147.1998, 752.4525, 1004.2844, 760.4945, 1147.025, 1148.4442, 1148.4276, 1146.4858, 1148.4363, 752.5902, 752.7009, 1148.4446, 1007.2174, 1148.4274, 1148.3932, 761.82935, 753.65784, 847.36584, 1148.4391, 1005.10657, 1148.4448, 752.4696, 1148.4423, 815.9252, 753.3767, 1148.4169, 1119.7524, 1148.3364, 1148.4435, 1148.4419, 1148.432, 813.84216, 1148.4448, 752.45557, 875.68933, 1148.4445, 752.4192, 1043.1454, 1059.374, 837.05273, 824.67676, 1148.4445, 1076.4624, 1072.0355, 1141.8486, 823.7731, 1082.6522, 1148.3854, 1148.4443, 1148.4307, 1148.4353, 1148.4446, 753.1427, 975.6428, 1148.4344, 1148.4388, 895.6985, 1148.444, 1148.4421, 903.3712, 1049.1394, 1147.9484, 1023.08923, 923.3386, 1119.6844, 1148.4384, 1148.4243, 921.54065, 1107.5391, 1148.3407, 951.6511, 1148.443, 902.80286, 1148.4427, 1148.4445, 1147.5375, 1148.44, 1148.4388, 1148.3043, 1148.444, 1148.445, 1148.4448, 1148.4346, 753.00305, 1000.97974, 1032.0359, 1039.9414, 1148.4374, 752.61035, 1148.4161, 1148.3698, 1085.5302, 1148.4381, 1066.717, 827.1333, 752.631, 1148.444, 1148.4447, 892.42065, 857.3904, 1117.6776, 1148.4446, 913.75525, 1042.1055, 1085.4508, 830.1362, 1148.4442, 1148.43, 1148.4448, 753.079, 1148.4384, 752.6378, 1148.4445, 1148.4448, 1148.445, 833.92444, 1148.4071, 1148.4308, 1148.4215, 1035.489, 1148.4442, 1148.4447, 1043.953, 954.35425, 752.91956, 1148.4344, 864.885, 1148.4236, 1148.4436, 1148.4447, 1117.601, 1148.4447, 1147.6189, 1148.4308, 1148.4441, 1079.0728, 909.44507, 1148.4438, 1148.4323, 893.5646, 786.49866, 1148.434, 935.93506, 962.1659, 752.49695, 1148.4448, 1072.9543, 1148.4435, 1148.4302, 754.29333, 1148.4436, 1148.4448, 1100.3558, 752.47644, 1148.4395, 752.4241, 752.8087, 932.4601, 1076.4418, 1148.4426, 1069.8472, 1148.34, 1148.4303, 1121.5663, 821.0128, 1148.4093, 1148.445, 1148.4415, 1148.4442, 1120.7228, 1148.4447, 1148.4436, 1148.4417, 1143.4974, 1049.9004, 1148.2992, 1148.4448, 1148.4436, 1148.4447, 959.77563, 753.49536, 1148.4448, 793.74036, 752.68567, 799.20337, 1148.4448, 1129.161, 760.71484, 1148.442, 1148.445, 1148.4337, 1148.416, 1148.4263, 946.9828, 1079.632, 764.2112, 1148.4431, 1148.4445, 824.90784, 1148.4371, 1148.445, 1148.4137, 864.6891, 1148.4354, 1148.4442, 810.7975, 752.52966, 1148.4404, 1077.8232, 819.62024, 1148.4445, 752.42065, 1148.4447, 1148.4412, 1148.4438, 1148.4407, 1090.9343, 752.4166, 753.04016, 1148.443, 1148.4386, 1148.4448, 752.8727, 753.5658, 958.68445, 1072.6799, 1148.444, 884.7147, 913.1456, 1148.4443, 1148.4441, 1148.4431, 1019.21436, 1148.4, 1042.7074, 1148.4447, 1148.4236, 1148.4445, 1148.4447, 918.522, 1148.4376, 1148.4447, 1148.4376, 1148.4448, 994.4791, 1148.4396, 1146.619, 1148.4447, 975.9971, 1148.4261, 1148.444, 805.04016, 839.80176, 963.90173, 1148.4426, 915.42554, 1148.4426, 752.74243, 1148.422, 1148.445, 1148.4446, 923.9591, 1148.4376, 1148.4442, 814.7001, 1148.4445, 921.6151, 864.1671, 1148.4348, 899.7678, 984.50757, 1148.4442, 1057.3906, 1148.4448, 1148.4443, 1095.1846, 1069.107, 752.7102, 1148.4448, 1148.4364, 1148.4448, 1148.4324, 1148.3624, 1148.4395, 818.3152, 1148.424, 1148.4448, 911.8423, 1148.4266, 1003.19763, 1148.4448, 1148.4442, 1148.444, 1148.4447, 1148.4435, 1140.6433, 1148.4324, 1148.4404, 1115.6111, 1148.4442, 1148.4447, 1148.0828, 753.037, 1139.2361, 1109.0629, 1020.4, 752.66223, 1148.4418, 752.47485, 1148.4435, 1110.0763, 1148.2223, 752.51636, 1148.4447, 863.53455, 1148.445, 1148.4381, 1098.3322, 1148.4425, 752.67053, 756.5945, 752.41516, 1148.4448, 788.18445, 875.12146, 1148.4448, 1148.442, 755.4133, 1127.2225, 1144.4025, 1148.3923, 860.1937, 829.54895, 1148.4387, 1148.4448, 989.33057, 1148.4364, 1148.4435, 1148.4364, 870.84863, 1148.4359, 1148.4426, 1148.3795, 755.4868, 875.3347, 803.36694, 1040.5936, 1148.4412, 834.1139, 1148.4418, 1148.444, 1148.4371, 1147.837, 1148.4445, 753.3827, 1148.4447, 1147.6572, 802.3656, 1148.4447, 753.9807, 815.42615, 1148.445, 1148.4442, 1148.4425, 1148.418, 897.8978, 1148.4348, 1148.4386, 1057.5018, 1148.4445, 752.66675, 1148.445, 1148.4338, 1148.4327, 988.1094, 1136.9889, 1148.4447, 1105.4244, 941.402, 1148.3284, 1148.445, 1147.464, 1148.4387, 752.74854, 752.6892, 1148.4369, 1148.4437, 1148.4404, 1148.4161, 752.52344, 862.433, 1148.4448, 1148.4445, 938.98157, 752.5078, 1148.445, 765.7605, 869.6571, 1148.4438, 752.4219, 1148.4073, 922.09644, 752.4529, 1148.3911, 752.504, 1148.4265, 863.9126, 1017.51587, 753.22034, 1148.442, 910.59924, 905.2081, 1148.4297, 881.30566, 1148.1305, 1148.4313, 752.42664, 1148.442, 1011.07654, 1148.4406, 1148.353, 1148.4445, 1148.4435, 1148.4437, 753.182, 1148.4437, 811.3722, 1148.4435, 1148.4423, 1142.0809, 776.6621, 873.5731, 952.02356, 813.97986, 1032.2473, 1148.4448, 794.1006, 1148.445, 1148.4448, 1119.5887, 1148.445, 1148.4437, 752.4121, 752.56116, 1148.3094, 1148.4448, 1121.8439, 1148.4252, 752.6448, 757.1627, 1148.3337, 883.0095, 1148.4419, 758.44324, 1106.8949, 842.5311, 1148.4448, 1148.4435, 1148.4417, 1147.8131, 917.2749, 1148.4446, 1148.4448, 1079.6917, 752.97876, 1148.2572, 926.38794, 1148.4443, 955.37646, 1148.4393, 753.40674, 1148.4447, 1148.4448, 757.43884, 1148.4337, 1148.4448, 1148.445, 966.2971, 1148.4447, 1148.3756, 1148.443, 808.25696, 1029.2704, 752.5106, 1148.442, 1148.282, 1147.7286, 1148.443, 1148.4442, 1148.4418, 1148.4437, 1148.4434, 1018.2645, 1148.4441, 1148.4424, 752.4238, 830.5912, 806.5095, 752.4901, 1148.4406, 1148.443, 752.4824, 1148.4448, 1148.392, 1148.3613, 1148.4442, 1148.4447, 752.58655, 1148.4131, 1148.4447, 752.82556, 752.5288, 1057.484, 1148.4448, 1148.4126, 774.67285, 752.41394, 1148.2612, 849.0005, 1148.4418, 752.5039, 834.4552, 1148.4429, 1148.4435, 1148.4427, 753.62463, 1148.4442, 757.4751, 753.94775, 752.4303, 772.2008, 1148.4266, 752.4319, 752.7189, 754.71924, 1148.4325, 1148.4423, 1081.3035, 1142.5671, 752.9641, 1148.4448, 1148.4432, 1087.3066, 1044.5391, 1148.4446, 1148.4447, 889.70435, 1148.4445, 1135.0187, 1148.4447, 927.13684, 1148.4447, 1148.445, 979.31165, 1148.4438, 913.81006, 1148.4447, 1148.4359, 865.1864, 1148.4406, 1148.4447, 1148.4419, 966.99475, 753.4198, 994.07666, 1148.4445, 1148.4388, 752.4752, 1148.441, 752.9536, 1148.4423, 1148.4448, 752.4884, 1148.4423, 829.046, 845.7318, 1148.4445, 752.42676, 1148.4364, 1148.4147, 913.61694, 1148.4066, 859.1011, 1148.3478, 753.85767, 1085.4501, 1148.444, 1148.4448, 1148.4128, 1148.4426, 1148.4396, 1148.4437, 1147.1604, 1148.4442, 1148.4445, 1148.444, 1148.4387, 986.7783, 976.25244, 1148.4446, 1141.9034, 1146.9542, 1104.1088, 1148.4388, 1148.4407, 1148.436, 1148.432, 1080.0062, 752.51526, 968.11084, 1148.4437, 840.75525, 1148.4426, 1148.4427, 752.50903, 1061.1179, 1078.017, 1148.445, 1148.444, 1042.5679, 882.1295, 752.61816, 1148.4442, 1148.4447, 1050.945, 1148.4432, 995.69055, 1122.0864, 1148.4445, 1148.4427, 1148.4447, 752.7584, 1148.4447, 752.66516, 1148.444, 1148.445, 876.8402, 1148.4171, 1148.4446, 1148.444, 1148.4352, 1148.4419, 758.74866, 1148.4445, 798.7804, 803.4591, 1148.4448, 1148.4447, 1147.7943, 752.4885, 1148.4392, 752.4906, 1146.6117, 1148.444, 801.8562, 1108.8889, 1148.4442, 817.5171, 1103.6337, 1148.4414, 1022.75635, 1143.0978, 1148.4357, 1148.4443, 1148.4447, 912.4614, 1148.4446, 1148.4404, 1148.3713, 1148.4448, 1148.4448, 774.6985, 1148.4442, 967.3076, 1148.4401, 1148.4432, 1148.4111, 1148.4448, 1103.9033, 1148.4447, 1148.4442, 752.42285, 1148.4327, 1148.443, 870.10156, 1148.4441, 1148.4369, 878.3738, 752.61084, 1148.4264, 1148.3798, 752.7085, 1111.2156, 790.27734, 893.3557, 752.5515, 1148.0547, 1148.4149, 1148.4447, 1148.445, 752.50854, 1148.4447, 920.43164, 1148.4442, 1148.3448, 1148.4358, 1148.372, 1129.0687, 1148.0339, 1148.438, 1148.4137, 1084.838, 752.426, 1148.4441, 752.64087, 757.22314, 1148.4346, 819.5746, 1148.444, 1099.3784, 1148.4441, 908.92175, 1121.3344, 820.2201, 785.91846, 1148.4446, 1073.4323, 1148.4446, 752.6615, 752.44214, 840.36755, 1148.4447, 1148.4261, 1148.4448, 764.2814, 761.04456, 1132.3883, 1148.4347, 1148.4286, 1148.4358, 846.1282, 1148.4388, 881.5812, 759.3705, 752.8165, 965.6959, 1148.4407, 753.15857, 757.44507, 893.0043, 1148.4343, 1148.4447, 1148.4156, 934.2147, 1148.4445, 1148.444, 1148.2897, 1148.4338, 1148.4423, 768.3583, 1148.4442, 1148.3315, 1120.7823, 1148.4435, 1148.4445, 752.411, 752.76514, 1148.4376, 863.4132, 963.723, 1148.4448, 856.2312, 1034.0197, 752.5696, 1127.9852, 1148.4379, 753.09875, 1148.4446, 1148.4446, 1031.5388, 1128.819, 752.8357, 752.4618, 1148.4324, 1148.443, 1148.4022, 1148.3888, 1033.0215, 907.0592, 1065.0728, 752.5326, 1001.88635, 1148.444, 1069.7134, 1148.4448, 1148.3625, 1020.4995, 753.74963, 1148.4443, 1148.444, 1148.4446, 845.8196, 1148.4414, 989.67456, 1148.4215, 974.37915, 1148.4409, 1147.129, 974.6206, 1148.4028, 834.729, 1148.4447, 1148.4447, 1148.4441, 1148.4445, 752.49866, 957.19653, 1148.4396, 752.4524, 1148.4265, 1148.4437, 753.2921, 1148.4427, 1148.4447, 752.41394, 1148.4442, 1148.4442, 1148.4082, 1148.4447, 1100.7354, 1148.4425, 752.49744, 1148.443, 1148.4431, 1148.4248, 1148.4371, 817.8329, 1087.1727, 797.20984, 918.026, 752.5906, 1148.4442, 1148.445, 1140.399, 840.63354, 1148.445, 1147.9471, 1147.9502, 1126.3124, 752.45337, 894.20154, 909.4049, 1148.4448, 1073.4003, 1116.427, 957.0377, 1148.4169, 1148.4432, 1148.4448, 752.49524, 1148.4447, 752.4447, 1113.2423, 1148.4209, 1148.4447, 1148.4426, 807.18933, 1095.4998, 1148.4324, 1148.4434, 1148.4425, 1148.4445, 1148.4293, 1119.7446, 1148.4447, 1148.445, 1125.7224, 982.83093, 1148.4423, 1148.3984, 1148.4445, 752.5134, 1148.4448, 752.4397, 1148.441, 1148.436, 914.1752, 1097.4537, 1147.7142, 1148.4448, 1148.442, 1146.6608, 1148.4445, 1148.4191, 1148.434, 1148.4166, 1148.441, 752.4629, 1148.4448, 1148.445, 1148.278, 1043.3785, 1045.9398, 1148.4386, 1148.4447, 1148.4447, 1148.444, 752.63025, 1148.4445, 1148.4324, 1148.4186, 1148.3903, 1148.3828, 752.4873, 1148.3921, 1148.4423, 999.4142, 1044.5558, 1130.9008, 1148.3895, 909.4851, 992.9258, 1148.4447, 931.1189, 1103.6654, 886.7678, 752.49805, 1148.4381, 752.43677, 850.10364, 752.4408, 965.53174, 1148.4447, 1148.4448, 1148.4421, 830.3668, 928.2301, 854.2589, 1147.6327, 759.20764, 1148.4447, 1144.3721, 1001.0768, 753.60144, 1148.4388, 1148.444, 1148.4268, 1107.2131, 1127.0339, 1148.4406, 1148.4447, 931.89844, 1148.4398, 999.55505, 1148.4418, 1148.4303, 1148.4446, 973.17993, 1148.4437, 1096.657, 921.583, 994.9248, 1148.4418, 875.3779, 1148.443, 1121.1992, 1148.4447, 1148.4447, 903.38586, 1148.434, 893.8982, 852.9474, 1148.4424, 1148.4446, 753.70264, 1148.4169, 758.8992, 1032.7885, 752.6277, 1147.9828, 1148.443, 1148.4424, 1079.3641, 752.53, 986.38135, 1148.4432, 1148.4296, 1148.4308, 1021.4519, 1148.4443, 1148.443, 1148.4437, 1148.4445, 1148.4448, 1148.3792, 752.6494, 996.23, 1148.4446, 1085.9302, 803.2904, 1148.4403, 925.23303, 973.3331, 844.61426, 1148.4379, 752.5775, 836.1095, 911.35315, 1108.8229, 837.05273, 1148.4397, 972.6123, 1120.6115, 1148.4414, 832.7527, 752.47095, 1148.445, 1148.4446, 1092.6096, 1148.4438, 1148.4447, 1148.4318, 753.0187, 752.42236, 757.6489, 1079.8867, 1148.4431, 1148.4448, 1148.4246, 971.25854, 1148.4375, 1148.4445, 1148.4445, 1007.51807, 752.42334, 1148.445, 1148.4375, 1148.4437, 1148.441, 1148.444, 1148.4447, 1148.4366, 753.13684, 1148.3145, 755.0304, 1148.4448, 752.42896, 1148.4447, 811.7184, 1148.3306, 1148.4443, 1067.6565, 1148.4448, 1071.2249, 932.4707, 826.89966, 1148.4447, 1148.4435, 943.38257, 1091.31, 1148.3099, 1148.4432, 913.5818, 958.0242, 905.10364, 1088.7354, 1148.4259, 1148.4445, 900.6913, 1148.4442, 1148.4447, 1148.4447, 1041.0166, 764.76404, 1148.4442, 1099.363, 1148.4448, 1148.4447, 752.77405, 1148.4427, 1148.444, 1148.0085, 1148.4427, 1148.4442, 1008.89075, 1148.4297, 1148.4374, 1118.9498, 1148.4441, 1008.9745, 1148.4437, 1148.442, 1148.4448, 902.4176, 1083.3425, 752.4231, 815.83777, 1148.4447, 1053.8319, 1148.4448, 1148.3932, 1109.6599, 752.54675, 931.99316, 1132.5293, 1148.445, 965.86035, 752.7676, 1148.4431, 848.2235, 1148.4445, 931.3148, 1004.489, 1123.1825, 938.7661, 753.6134, 927.67883, 752.41516, 1148.4448, 1148.4447, 1148.422, 946.64026, 1148.4435, 1148.3806, 1148.4233, 1148.4448, 1148.3771, 759.94507, 754.485, 960.8806, 1088.1022, 1148.4435, 1148.424, 752.5111, 754.09985, 752.60803, 813.67554, 934.95105, 1091.9542, 1148.3998, 1148.4409, 1148.4138, 892.6511, 1148.443, 803.55664, 1148.4354, 1141.3088, 1148.4419, 1148.3922, 890.98145, 1148.4406, 885.9099, 754.2654, 1148.4447, 1086.8914, 1148.444, 1145.1388, 1148.3984, 1148.4445, 755.4088, 1106.7307, 1147.6421, 1148.4442, 757.14905, 871.3678, 752.4313, 756.1107, 1148.4325, 909.4369, 1148.4045, 1148.4441, 1148.2633, 752.6692, 1148.4386, 1148.4152, 767.22766, 1146.2324, 1148.4282, 752.4783, 1148.4447, 1148.4435, 1148.4337, 755.21375, 820.05457, 1147.0203, 753.44385, 1069.8547, 1148.4431, 1148.4448, 1080.5201, 1148.4435, 1148.4448, 1148.4407, 752.5636, 1148.4445, 966.5276, 1148.4448, 1148.4381, 1148.4447, 829.0106, 1148.4445, 1148.4396, 797.1057, 1148.4271, 1148.4037, 1148.4434, 1148.4407, 1148.4445, 896.5691, 1148.4447, 1148.4326, 1148.4442, 752.5194, 752.65515, 814.9249, 1148.4448, 773.00574, 753.1533, 754.52563, 1148.4408, 752.55457, 1148.4447, 1039.2657, 1035.8126, 1148.444, 834.05884, 1078.6384, 752.4758, 1148.444, 1148.4318, 753.7097, 1148.4423, 1148.445, 1148.4419, 1148.4386, 1148.4447, 752.7521, 794.21704, 1148.4448, 782.73865, 1148.4434, 1148.4448, 1148.3256, 1148.4222, 1148.444, 1148.4417, 1141.0917, 1145.793, 834.3037, 1148.4445, 753.9717, 1148.445, 1148.4417, 1148.4425, 1148.3029, 1114.4619, 1148.4448, 1080.7319, 752.6697, 1148.394, 1148.2356, 1148.4332, 1148.4426, 969.51294, 752.42957, 1148.4434, 752.99915, 1000.1754, 1148.4447, 1148.4407, 1148.4442, 752.5897, 824.69714, 764.6998, 1141.5519, 1148.4448, 1147.7018, 1148.4446, 1148.442, 1148.445, 1148.4403, 1148.443, 1148.4127, 1128.7227, 849.98486, 1148.4288, 752.54785, 793.1448, 1148.4447, 1148.3763, 1148.39, 1080.1721, 805.8965, 1148.4017, 752.4885, 752.6494, 1148.4419, 752.68567, 973.9597, 752.4153, 1148.4448, 913.63696, 752.4187, 1148.4427, 788.6046, 1148.374, 752.42004, 1130.4409, 752.72815, 1148.4429, 860.4645, 755.3611, 1148.4128, 1148.4443, 1148.417, 1148.3546, 1148.4447, 949.20105, 846.1361, 831.9957, 1148.4442, 752.9387, 1148.3237, 1075.876, 1057.6827, 1148.4418, 1148.4445, 1148.4445, 1148.4388, 1148.4209, 847.69324, 1148.4048, 974.9254, 1148.4447, 1148.4442, 1054.8726, 1148.445, 833.776, 1148.4415, 1148.4338, 1148.4359, 791.74744, 900.40735, 752.60706, 1026.6283, 1148.4418, 1148.442, 847.64453, 756.56116, 752.42114, 1148.4431, 1148.4446, 752.95215, 767.59863, 910.68005, 1148.4441, 1011.0513, 1148.4441, 752.5353, 1148.441, 752.4486, 1148.445, 910.10767, 1148.4448, 1148.2654, 1148.444, 1148.2396, 854.05664, 1148.4442, 1110.8602, 973.0571, 1148.4427, 752.4557, 1105.7709, 1148.3973, 753.09314, 752.44116, 753.912, 1148.4105, 857.3286, 1148.4447, 1148.3865, 1029.2526, 1147.6998, 752.8074, 752.42065, 1141.785, 1123.1428, 1148.4448, 1148.4443, 1148.4447, 1148.4448, 1026.846, 1144.5111, 1148.4011, 1148.4441, 1148.4447, 1148.4442, 1148.4418, 1148.445, 1145.2277, 1148.442, 1148.4447, 1148.4403, 1148.4382, 898.926, 880.8363, 1147.3118, 767.7394, 1148.437, 930.5558, 945.12573, 1148.3883, 769.20605, 1098.1626, 1148.444, 1131.7103, 1148.4374, 1143.684, 1148.4158, 1043.4307, 1148.424, 1148.4442, 757.166, 1148.4061, 1148.1019, 1148.1887, 752.4116, 1148.4401, 752.7329, 1148.4448, 1148.4443, 1148.4425, 1148.398, 1148.4441, 1148.443, 752.40955, 1144.8175, 755.75354, 1078.6321, 1143.4011, 1148.444, 753.38354, 996.68933, 935.3838, 1148.4448, 1074.241, 955.7001, 1148.4344, 1148.41, 970.3657, 752.4774, 1148.4427, 1148.4209, 1148.4448, 760.0366, 1148.4437, 1077.0103, 1148.4447, 754.4099, 1148.4384, 752.4563, 1148.4447, 1148.4447, 1148.4443, 829.69324, 879.98315, 1148.4164, 1100.2943, 1045.2855, 1148.4426, 1148.4448, 1032.4349, 1148.4447, 752.5698, 1125.738, 1145.5289, 1148.4369, 1148.4447, 961.3141, 1148.4446, 1021.97974, 1148.4419, 1148.4193, 1148.4432, 756.0172, 828.7842, 1041.4763, 1148.4446, 1148.4219, 976.62366, 752.7267, 1148.4132, 1121.0032, 1022.13684, 1102.8468, 1148.4438, 1141.0822, 1148.4424, 1148.4413, 752.48926, 1148.4427, 891.50366, 1092.8658, 753.9563, 1148.3817, 777.6179, 1148.4437, 753.9429, 939.5438, 856.6322, 1148.4446, 762.828, 803.70056, 1148.4447, 755.2709, 859.62134, 989.1063, 1148.4362, 1148.445, 1148.4303, 752.86, 1148.4417, 949.6101, 1148.443, 752.5084, 1148.4448, 1147.8866, 982.60657, 1143.366, 1148.445, 1148.4408, 1148.435, 1148.4448, 1148.4247, 843.3568, 1148.4427, 1026.4121, 968.0875, 986.9386, 1041.866, 1014.8401, 1148.3965, 1148.4448, 950.7495, 1148.4407, 1148.4448, 1148.4166, 1148.4337, 1148.4337, 1148.4437, 867.98584, 1148.444, 1148.4445, 1148.4404, 806.89844, 892.1156, 1048.2131, 1148.4448, 1148.3258, 929.38916, 1101.0676, 986.6133, 1148.4447, 884.9016, 752.7213, 1148.4448, 754.75146, 1148.4121, 1148.4441, 1148.4358, 1020.199, 1148.4441, 1148.4445, 1148.4442, 752.98804, 1148.4448, 788.36975, 1148.3337, 752.8087, 810.2793, 1148.4423, 1148.441, 1148.445, 1148.4409, 1148.4364, 1148.444, 1134.9532, 1148.445, 810.02295, 1148.4445, 851.59985, 1148.4448, 886.3468, 907.5482, 856.03796, 803.3429, 1148.4297, 1148.445, 752.45776, 1148.4435, 1148.444, 1147.1062, 799.01843, 1148.4448, 1035.7296, 1148.4448, 1148.4447, 1148.4424, 958.99243, 1148.4377, 1141.5503, 1148.4447, 1148.4325, 1148.4447, 1004.64136, 1002.77783, 996.3147, 1148.4448, 1101.7788, 1148.382, 946.57544, 1131.0378, 1148.444, 1148.4443, 1148.4447, 1148.4447, 1025.0973, 1148.4446, 850.8135, 1148.4448, 997.8904, 1148.4363, 758.3766, 752.78564, 1148.4291, 1148.3813, 1148.4446, 867.655, 752.8777, 939.1255, 917.405, 1148.1779, 752.4635, 752.82214, 1148.4437, 752.4365, 1144.3556, 1148.4445, 1148.4447, 886.8439, 1148.4435, 1148.4403, 1053.7792, 1148.4446, 1148.4299, 1148.444, 1041.866, 752.77734, 1148.2914, 753.09656, 772.6915, 1148.4447, 1148.4299, 1148.4374, 1148.4447, 1148.4447, 753.3789, 1148.4153, 958.59106, 1148.445, 1148.4437, 878.827, 841.97034, 1148.4448, 1148.4447, 1107.6624, 1148.4286, 1148.445, 1148.4418, 1148.4382, 1148.4442, 1148.443, 1148.442, 900.64294, 1148.4447, 891.46497, 1148.4419, 1148.4436, 1043.8435, 800.36206, 1148.434, 788.04834, 1148.4447, 1148.0591, 1091.6311, 1148.0681, 1148.4376, 1148.4445, 1091.0846, 1126.9612, 1148.3176, 1148.4448, 1147.006, 1148.4426, 1148.4442, 752.6726, 917.2363, 1039.5962, 762.2157, 937.8937, 1148.4447, 1148.4418, 1148.4391, 906.6587, 753.4584, 963.2986, 802.376, 993.60364, 1002.78845, 1148.4335, 822.9835, 1148.4448, 755.1028, 815.08057, 1148.4441, 790.36365, 1148.4308, 1148.4329, 1148.4431, 801.00757, 1148.4445, 1148.4349, 752.70276, 752.5337, 1147.3069, 1148.4443, 784.34546, 1148.4425, 1148.4445, 1148.4447, 979.4054, 1148.4447, 1148.4447, 752.41956, 1049.1226, 1148.4418, 1114.6185, 958.6305, 1148.442, 1148.4448, 752.63403, 1148.4413, 755.025, 752.621, 1148.4447, 1148.4448, 999.5775, 762.7915, 1121.0063, 1148.4448, 1148.4447, 1148.4442, 1148.4448, 755.2417, 1148.4436, 1066.5896, 1108.8386, 801.8854, 1148.4185, 987.9248, 1148.4445, 753.70996, 1148.4412, 752.5873, 992.8402, 757.3496, 1148.442, 1148.4443, 860.724, 752.4746, 1148.4445, 1148.4413, 1148.4443, 943.39087, 1148.4443, 764.6102, 752.52637, 753.3097, 1148.4435, 1148.4325, 1148.4448, 1148.2878, 1148.4432, 1105.6534, 1003.9563, 1148.3252, 862.8712, 1022.71985, 1148.3676, 1148.4265, 752.67126, 775.45776, 753.43494, 1148.4445, 1148.3976, 1148.4332, 1141.7748, 1148.4442, 752.49243, 803.4707, 1148.4441, 1148.4204, 1148.445, 907.19446, 1148.4117, 752.5481, 858.272, 1148.4437, 1109.3583, 1148.4353, 754.713, 752.7711, 1148.4432, 1057.3158, 1047.7085, 785.44824, 1148.4363, 1122.7324, 1148.4445, 1148.4442, 890.7822, 1148.4447, 1148.3702, 812.8972, 1148.4448, 901.6233, 1148.4437, 960.19385, 1148.4446, 784.65076, 906.4779, 1148.3997, 861.04126, 1148.444, 1047.1411, 1148.4333, 1148.4445, 1148.443, 1148.4426, 1148.4125, 1148.4158, 1148.3593, 752.6002, 1148.4447, 979.7682, 1148.4448, 1148.4325, 1148.4368, 917.9133, 979.6295, 1070.2545, 752.5714, 1148.4447, 843.64734, 1148.4396, 1090.2885, 752.41736, 1032.5406, 752.6085, 1148.4442, 1148.444, 1148.4447, 971.8838, 1047.6073, 1148.4447, 1148.4448, 1148.4417, 1148.4315, 805.9359, 977.10864, 1148.4427, 1148.4373, 1148.4246, 1003.54663, 887.10266, 848.9883, 1148.4197, 753.68884, 1082.6522, 753.1992, 1148.1454, 901.23975, 1138.6736, 1148.4447, 1148.4435, 1148.4446, 1148.4447, 1003.6554, 1148.4264, 1148.4144, 1148.4436, 1148.4447, 1148.4432, 1148.4293, 1148.4446, 1148.4435, 845.58777, 1148.4448, 890.90173, 1148.4432, 1148.4441, 934.81714, 1148.4397, 1148.3815, 1148.4048, 884.8071, 1148.3285, 752.42725, 1148.4448, 1148.4448, 754.76733, 1081.0812, 1148.445, 752.51807, 1148.3671, 1148.4368, 1128.4916, 1148.4406, 1107.3704, 1148.4445, 753.3219, 1148.3076, 1148.4388, 1148.4447, 752.6763, 1046.6472, 1148.4407, 752.5216, 1148.4447, 1148.4447, 754.41296, 1148.445, 752.5237, 886.95654, 752.6935, 1052.1635, 1148.443, 981.23486, 1148.4447, 1148.3763, 1148.4448, 1117.9606, 1148.3718, 1123.3883, 759.317, 1147.7554, 753.8584, 753.635, 1148.4436, 752.49854, 839.2634, 866.0613, 937.22644, 882.5305, 1148.4281, 752.8501, 752.42883, 1148.4279, 752.7565, 752.4227, 1121.3843, 1148.4448, 1015.9719, 952.3136, 1148.445, 1148.4447, 822.97034, 752.6598, 1148.4435, 1148.4197, 753.4083, 1148.4386, 1148.4447, 887.1432, 962.9364, 1148.4343, 1148.4447, 1148.4418, 1148.4448, 1148.4391, 995.69055, 1148.4326, 1148.4445, 1148.4431, 1050.3778, 1148.4448, 1014.15686, 1041.5067, 799.5768, 754.8584, 754.8478, 801.5399, 1148.4425, 752.77136, 1148.444, 1148.443, 1148.433, 1148.4446, 1146.5668, 1148.4448, 1148.4447, 1148.4318, 1148.4231, 752.53015, 1148.4266, 1148.438, 1148.4447, 953.9337, 1148.4448, 1148.4448, 1148.4447, 1148.4448, 968.83057, 752.4121, 825.20154, 951.6334, 1133.0773, 752.4999, 1148.4438, 946.1034, 1148.4435, 982.5331, 1148.445, 894.8334, 1148.4445, 1148.441, 1148.445, 1148.4297, 1080.203, 1148.4448, 1148.3043, 1148.3888, 1148.4307, 752.60706, 762.26917, 922.1548, 1148.4447, 1148.4448, 1148.4447, 752.80115, 1148.4084, 752.813, 1096.8914, 753.3041, 1148.4447, 1148.4407, 1148.439, 1148.4379, 1148.445, 1148.4447, 947.97253, 1148.4271, 1114.0472, 1148.4447, 763.0858, 1059.0867, 1148.4442, 1148.2417, 752.4291, 1148.4381, 1148.4327, 920.3231, 1148.4231, 1148.366, 1139.7405, 1148.4034, 1148.4443, 1148.4447, 1083.8914, 752.7982, 754.115, 1148.4438, 762.84924, 753.0394, 1145.7427, 1148.0367, 1148.4349, 1082.8887, 1148.4443, 779.3424, 1148.4072, 1148.4447, 1070.9, 1148.4382, 752.51086, 1148.4003, 1148.4143, 752.5962, 918.5477, 1148.4429, 897.6625, 752.6061, 762.81396, 1148.3452, 1148.4432, 1093.2043, 1148.4342, 1148.3048, 1148.397, 1148.4445, 1085.8524, 1148.4358, 1148.4435, 753.7545, 1148.4426, 1148.409, 1148.4263, 755.55396, 1147.9784, 1148.4446, 1148.4448, 753.437, 1148.4432, 1148.4115, 752.50476, 997.542, 1148.445, 1022.71985, 782.3312, 1148.4386, 752.64856, 1148.4325, 857.1459, 1148.4393, 764.2112, 1012.53174, 1148.4442, 1148.4436, 1141.0876, 1148.4443, 823.0105, 777.1356, 1032.2473, 996.7267, 1148.4432, 752.87256, 759.9408, 752.6958, 1148.4419, 1148.4391, 1148.4258, 1148.4446, 1013.3462, 1148.4432, 1148.4446, 796.79285, 1148.4257, 976.89954, 1148.4447, 1148.4448, 753.74, 1148.4446, 1031.4623, 1148.4446, 753.48474, 1148.4248, 1146.1154, 1148.4406, 935.9779, 1148.4435, 1141.9298, 1148.444, 1148.4022, 963.6146, 1148.4447, 786.69116, 915.4946, 756.16943, 817.9094, 1148.4448, 756.11145, 1148.4447, 1148.4272, 1148.4447, 1124.5873, 878.51355, 1148.4222, 1098.7421, 845.2942, 752.496, 1148.443, 1148.2457, 957.72156, 1148.445, 1148.1718, 753.5609, 1148.4427, 752.4679, 909.5232, 927.0187, 1148.4303, 861.61255, 858.25134, 958.2494, 1148.4406, 933.05774, 1148.445, 752.45764, 752.41064, 1148.4447, 754.4601, 1064.618, 1064.6007, 1142.3667, 767.9568, 1148.4404, 1136.087, 981.83777, 753.0491, 912.022, 1148.4446, 1094.1082, 892.5043, 1148.3322, 1148.4224, 752.48425, 1148.4447, 1148.4037, 1148.4448, 1126.0876, 838.3119, 752.5571, 1148.4438, 898.6249, 958.40894, 1148.4437, 891.27563, 1148.4253, 1025.9949, 1148.4448, 779.70715, 935.02795, 1147.1534, 753.1898, 1148.4447, 1148.4415, 1148.4408, 897.55774, 1055.3096, 1148.4255, 752.6061, 1148.4447, 1148.4099, 1148.4272, 767.47864, 1148.4447, 1005.2511, 752.43494, 1148.4447, 1148.4064, 1148.393, 773.9131, 788.06006, 1148.4423, 1079.4381, 1148.4442, 752.6852, 1148.4237, 1148.4437, 1148.4291, 895.42664, 1026.4141, 847.0724, 1148.4445, 1148.4446, 876.14404, 1148.2634, 1148.4447, 1148.4448, 752.4935, 1148.42, 809.3003, 1148.4446, 1148.4427, 1011.79333, 804.4957, 1148.3612, 1148.4342, 1148.4437, 927.64966, 1148.4447, 861.85645, 1148.443, 1148.4448, 1148.4442, 1148.4448, 850.629, 1148.4423, 1148.4419, 1148.4391, 1014.14905, 1148.2909, 989.92737, 934.8042, 1148.4235, 1148.4448, 1100.584, 1148.4446, 995.59595, 1148.0947, 1029.8356, 1148.4384, 752.4197, 1148.4447, 1148.433, 1074.7238, 852.1726, 1148.4448, 1148.3835, 1148.4432, 899.912, 956.8624, 752.599, 1148.4421, 965.9259, 1148.442, 752.4192, 1148.396, 1148.4448, 806.87134, 1148.4387, 1137.025, 1148.4441, 862.1212, 990.6952, 1148.4167, 912.4513, 1148.444, 973.5808, 1072.3182, 752.44336, 1148.4447, 1148.444, 752.4308, 1148.4417, 752.4354, 1148.2977, 752.80615, 1047.4751, 1148.4406, 1019.0133, 839.1715, 813.2191, 1062.6929, 823.7368, 1148.4178, 1148.4448, 1148.4448, 1148.4393, 1148.4288, 1002.1715, 1148.4347, 1148.4331, 888.4529, 1010.0138, 1148.4437, 993.0176, 1148.4067, 824.0408, 1148.402, 1148.4127, 1036.9135, 1148.4447, 830.89795, 1024.6738, 752.49976, 1148.4437, 1148.444, 1043.1554, 1148.4374, 855.4518, 958.8224, 1148.4159, 880.16516, 857.2672, 1148.4447, 1148.4448, 867.5581, 1148.4391, 1148.4441, 827.5067, 756.3473, 1148.4398, 1148.4164, 1067.1073, 1148.4448, 1148.4381, 1043.7152, 1011.34216, 1148.4442, 1148.4447, 1148.4269, 823.68066, 1042.1058, 1148.4437, 1148.4435, 996.66504, 752.7919, 1148.4445, 769.3052, 1148.3998, 841.88586, 1148.4447, 1148.0873, 1148.4407, 891.1282, 752.6128, 1148.4427, 820.60095, 1148.4448, 1148.168, 752.8479, 1148.3562, 1148.4448, 1148.4119, 1079.6569, 1147.3743, 1148.4448, 825.5864, 1148.4442, 1148.445, 1148.4132, 1148.4445, 1148.431, 1148.4137, 1148.4408, 1148.4448, 1148.2872, 1148.3953, 1148.4441, 1148.4393, 815.4685, 1148.4447, 864.1244, 1148.304, 1148.443, 753.23535, 1148.3671, 1148.4037, 1148.4447, 1021.1365, 1148.4441, 1148.4442, 753.17395, 939.89075, 1148.438, 755.25476, 752.4491, 1148.4445, 1148.4447, 934.8324, 772.09924, 1148.4391, 1013.47766, 1148.445, 1011.78064, 1148.4421, 752.438, 1148.3685, 797.12024, 1148.4445, 1148.4448, 1148.445, 1148.445, 1148.4426, 952.5552, 1148.4447, 1041.9557, 752.5261, 941.7405, 1148.4445, 1148.4441, 1148.443, 1148.4448, 1148.4442, 1148.4323, 1103.9791, 836.47876, 1148.4443, 1148.4235, 1148.4244, 844.254, 1148.4448, 1148.4447, 1108.0178, 1139.2938, 824.39624, 1148.4447, 1148.4437, 1148.4448, 1090.6068, 752.41406, 752.69434, 1148.4406, 754.54944, 1148.445, 1148.2748, 1148.4402, 752.6455, 1148.4448, 1148.4447, 1148.445, 1148.436, 1148.443, 1148.4447, 1006.46423, 1148.4425, 1148.4447, 1148.3683, 1148.4447, 753.68164, 973.1405, 1148.4264, 1148.3777, 1148.4447, 869.7919, 752.4586, 1148.4391, 752.57324, 1148.4393, 1148.4447, 1148.4447, 1148.4447, 1148.4329, 1148.4448, 753.44543, 859.4385, 1148.3512, 977.5193, 875.3782, 1004.60583, 752.5493, 1148.4446, 1148.4447, 753.1332, 1001.52905, 1049.6682, 870.1251, 803.7783, 1107.7365, 1148.43, 752.4396, 1148.4354, 752.5548, 1085.7983, 880.78406, 1148.4398, 844.06604, 1148.4423, 1148.4291, 1148.445, 1148.4447, 1148.4438, 811.1008, 752.4298, 1148.4442, 1148.4447, 1148.4447, 810.8269, 1148.4423, 1148.4419, 1148.4448, 1148.4445, 1148.4442, 754.1576, 1143.2317, 1148.4448, 999.71606, 1148.42, 752.4629, 1110.5789, 1148.431, 1148.4401, 1148.4435, 1148.4437, 1148.4293, 1148.439, 887.10266, 1013.0172, 877.66113, 1148.4446, 1092.9647, 752.88916, 1148.4435, 756.77673, 786.5021, 1148.4391, 945.25134, 1148.4447, 1148.4316, 752.5082, 1148.445, 1148.444, 1148.4432, 1148.4437, 752.8113, 762.8308, 906.5005, 1148.4438, 754.03674, 1005.0857, 1104.0723, 1148.4448, 1148.4247, 755.1575, 1148.4448, 1147.0392, 791.89856, 816.9686, 824.4187, 1093.5718, 869.0331, 1148.4447, 752.5122, 1148.4235, 1148.4448, 1148.4445, 1148.4442, 754.1201, 1148.4447, 1036.0205, 761.70557, 1148.4448, 1090.1208, 753.25073, 969.2706, 1148.4437, 1148.4415, 1148.444, 1108.8727, 1148.4447, 1148.4442, 1148.4404, 1069.936, 840.5818, 1148.4174, 1148.4445, 752.68933, 1148.4442, 827.14844, 1148.4425, 835.5133]\n"
          ],
          "name": "stdout"
        }
      ]
    },
    {
      "cell_type": "code",
      "metadata": {
        "id": "h27AUluYEt6P",
        "colab_type": "code",
        "colab": {}
      },
      "source": [
        "df = pd.DataFrame(list(zip(l)), \n",
        "               columns =['Diuresis']) "
      ],
      "execution_count": 0,
      "outputs": []
    },
    {
      "cell_type": "code",
      "metadata": {
        "id": "X9GWtHQVFNng",
        "colab_type": "code",
        "colab": {}
      },
      "source": [
        "df.to_excel(\"diuresis27.xlsx\")\n",
        "from google.colab import files\n",
        "files.download('diuresis27.xlsx')"
      ],
      "execution_count": 0,
      "outputs": []
    }
  ]
}